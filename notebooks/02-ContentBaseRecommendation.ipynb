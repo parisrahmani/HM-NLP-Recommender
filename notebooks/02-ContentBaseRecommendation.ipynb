{
 "cells": [
  {
   "cell_type": "code",
   "execution_count": 63,
   "id": "218aa31d-b98b-461b-9af0-18e5c3fe963e",
   "metadata": {},
   "outputs": [
    {
     "name": "stderr",
     "output_type": "stream",
     "text": [
      "[nltk_data] Downloading package stopwords to\n",
      "[nltk_data]     /Users/Parisa/nltk_data...\n",
      "[nltk_data]   Package stopwords is already up-to-date!\n",
      "[nltk_data] Downloading package punkt to /Users/Parisa/nltk_data...\n",
      "[nltk_data]   Package punkt is already up-to-date!\n",
      "[nltk_data] Downloading package wordnet to /Users/Parisa/nltk_data...\n",
      "[nltk_data]   Package wordnet is already up-to-date!\n"
     ]
    },
    {
     "data": {
      "text/plain": [
       "True"
      ]
     },
     "execution_count": 63,
     "metadata": {},
     "output_type": "execute_result"
    }
   ],
   "source": [
    "import numpy as np\n",
    "import pandas as pd\n",
    "import matplotlib.pyplot as plt\n",
    "import matplotlib.image as mpimg\n",
    "import seaborn as sns\n",
    "import seaborn as sns\n",
    "import os\n",
    "#import time\n",
    "import re\n",
    "import string\n",
    "\n",
    "from PIL import Image\n",
    "\n",
    "import nltk\n",
    "nltk.download('stopwords')\n",
    "from nltk.corpus import stopwords\n",
    "from nltk.tokenize import word_tokenize\n",
    "nltk.download('punkt')\n",
    "from nltk.stem import WordNetLemmatizer\n",
    "nltk.download('wordnet')\n",
    "\n",
    "\n"
   ]
  },
  {
   "cell_type": "markdown",
   "id": "3826d33a-7ea3-436d-86a0-cb272901dbea",
   "metadata": {},
   "source": [
    "We only need to load articles data in this part"
   ]
  },
  {
   "cell_type": "code",
   "execution_count": 64,
   "id": "dae4686b-0c1f-4c35-8f73-658d3b2ae0bf",
   "metadata": {},
   "outputs": [],
   "source": [
    "#Loading Data\n",
    "articles_df = pd.read_pickle('../data/processed/cleaned_articles.pkl')\n"
   ]
  },
  {
   "cell_type": "markdown",
   "id": "1e89e43e-1932-44d3-bb0f-d36e9527defa",
   "metadata": {},
   "source": [
    "## Preprocessing Data"
   ]
  },
  {
   "cell_type": "markdown",
   "id": "524d95cc-6a11-44ba-ac12-8e342b9f33a4",
   "metadata": {},
   "source": [
    "For our Content Base Recommnedation system, we will not be using the majority of the columns in the articles_df. So, we can proceed by dropping the columns that are unnecessary for our recommendation systems and export the csv for later use.\n",
    "\n"
   ]
  },
  {
   "cell_type": "code",
   "execution_count": 65,
   "id": "6f8f26e7-f3b6-474b-8ef8-f34b82285a03",
   "metadata": {},
   "outputs": [],
   "source": [
    "articles_subset_df = articles_df[[\n",
    "    'product_type_name',\n",
    "    'index_group_name',\n",
    "    'section_name',\n",
    "    'product_group_name',\n",
    "    'garment_group_name',\n",
    "    'colour_group_name',\n",
    "    'preprocessed_desc'\n",
    "    ]]\n"
   ]
  },
  {
   "cell_type": "code",
   "execution_count": 66,
   "id": "3420f2f4-e8e0-4231-9a24-2adb7052ca9e",
   "metadata": {},
   "outputs": [
    {
     "name": "stdout",
     "output_type": "stream",
     "text": [
      "<class 'pandas.core.frame.DataFrame'>\n",
      "Int64Index: 105107 entries, 0 to 105106\n",
      "Data columns (total 7 columns):\n",
      " #   Column              Non-Null Count   Dtype \n",
      "---  ------              --------------   ----- \n",
      " 0   product_type_name   105107 non-null  object\n",
      " 1   index_group_name    105107 non-null  object\n",
      " 2   section_name        105107 non-null  object\n",
      " 3   product_group_name  105107 non-null  object\n",
      " 4   garment_group_name  105107 non-null  object\n",
      " 5   colour_group_name   105107 non-null  object\n",
      " 6   preprocessed_desc   105107 non-null  object\n",
      "dtypes: object(7)\n",
      "memory usage: 6.4+ MB\n"
     ]
    }
   ],
   "source": [
    "articles_subset_df.info()"
   ]
  },
  {
   "cell_type": "markdown",
   "id": "f53b9023-95c5-46e8-addd-e2720b7a404b",
   "metadata": {},
   "source": [
    "When suggesting similar products, Color is an important factor. To improve the quality of our text features, we’re adding the colour_group_name to the detail_desc column. This helps capture more complete information, as the original descriptions don’t include color."
   ]
  },
  {
   "cell_type": "code",
   "execution_count": 67,
   "id": "0136fc1f-61a2-46ef-b6bc-bfc72afb53f2",
   "metadata": {},
   "outputs": [
    {
     "name": "stderr",
     "output_type": "stream",
     "text": [
      "/var/folders/xn/crj6mc3n7rq0gckt6960rqv00000gn/T/ipykernel_77092/3188048036.py:2: SettingWithCopyWarning: \n",
      "A value is trying to be set on a copy of a slice from a DataFrame.\n",
      "Try using .loc[row_indexer,col_indexer] = value instead\n",
      "\n",
      "See the caveats in the documentation: https://pandas.pydata.org/pandas-docs/stable/user_guide/indexing.html#returning-a-view-versus-a-copy\n",
      "  articles_subset_df.loc[:, 'preprocessed_desc'] = articles_subset_df.apply(\n"
     ]
    }
   ],
   "source": [
    "# Add colour_group_name to detail_desc\n",
    "articles_subset_df.loc[:, 'preprocessed_desc'] = articles_subset_df.apply(\n",
    "    lambda row: f\"{row['preprocessed_desc']} Color: {row['colour_group_name']}\", axis=1\n",
    ")"
   ]
  },
  {
   "cell_type": "code",
   "execution_count": 68,
   "id": "1330f049-171a-401e-b7ea-c8e9827331bb",
   "metadata": {},
   "outputs": [
    {
     "data": {
      "text/plain": [
       "0    jersey top narrow shoulder strap Color: Black\n",
       "1    jersey top narrow shoulder strap Color: White\n",
       "Name: preprocessed_desc, dtype: object"
      ]
     },
     "execution_count": 68,
     "metadata": {},
     "output_type": "execute_result"
    }
   ],
   "source": [
    "articles_subset_df['preprocessed_desc'].head(2)"
   ]
  },
  {
   "cell_type": "markdown",
   "id": "fb1d4766-a4d8-4e39-93ff-d71cd479c589",
   "metadata": {},
   "source": [
    "## Modelling\n",
    "\n",
    "### Encode Categorical Features¶\n",
    "\n",
    "Well here we will encode usefull categorical columns using One_Hot Encoding"
   ]
  },
  {
   "cell_type": "code",
   "execution_count": 69,
   "id": "19d4a1fb-236f-48fc-9ccb-50daa3e5613a",
   "metadata": {},
   "outputs": [],
   "source": [
    "# categorical_cols = [\n",
    "#     'product_type_name',\n",
    "#     'index_group_name',\n",
    "#     'section_name',\n",
    "#     'product_group_name',\n",
    "#     'garment_group_name',\n",
    "#     'colour_group_name',\n",
    "#     'perceived_colour_value_name'\n",
    "# ]\n",
    "\n",
    "# articles_encoded = pd.get_dummies(articles_df[categorical_cols], prefix=categorical_cols)\n",
    "# articles_df = pd.concat([articles_df, articles_encoded], axis=1)\n",
    "\n",
    "    "
   ]
  },
  {
   "cell_type": "code",
   "execution_count": 70,
   "id": "94292dc9-f882-4bd9-a904-709d12711c88",
   "metadata": {},
   "outputs": [],
   "source": [
    "# articles_df.shape"
   ]
  },
  {
   "cell_type": "markdown",
   "id": "28633fd6-29e8-41c5-bcb0-3a91a4c047dc",
   "metadata": {},
   "source": [
    "### Vectorize preprocessed_desc\n",
    "\n",
    "#### TF-IDF:\n",
    "\n",
    "Here I turn the cleaned description column into numerical vectors, using ***TF-IDF***"
   ]
  },
  {
   "cell_type": "code",
   "execution_count": 71,
   "id": "becc9c4d-0342-46d9-855e-f094b7cb9b02",
   "metadata": {},
   "outputs": [],
   "source": [
    "\n",
    "\n",
    "from sklearn.feature_extraction.text import TfidfVectorizer\n",
    "\n",
    "#Define a Tfid Vectorizer\n",
    "tfidf_vectorizer = TfidfVectorizer(max_features=1000, ngram_range=(1,2))\n",
    "\n",
    "#Fit and Transform our description with Tfid Vectorizer\n",
    "desc_tfidf = tfidf_vectorizer.fit_transform(articles_df['preprocessed_desc'])\n",
    "\n"
   ]
  },
  {
   "cell_type": "markdown",
   "id": "cd788af7-7df7-4e24-a8e3-998b44e5d6c0",
   "metadata": {},
   "source": [
    "### KNN to Find Similar Articles"
   ]
  },
  {
   "cell_type": "code",
   "execution_count": null,
   "id": "1deacdb4-5ddb-40ba-86d8-903440833796",
   "metadata": {},
   "outputs": [],
   "source": [
    "from sklearn.neighbors import NearestNeighbors\n",
    "\n",
    "# Initialize model — use cosine distance\n",
    "knn = NearestNeighbors(n_neighbors=6, metric='cosine', algorithm='brute')\n",
    "knn.fit(desc_tfidf)\n",
    "\n",
    "# Get top-5 similar items for each article\n",
    "distances, indices = knn.kneighbors(desc_tfidf)"
   ]
  },
  {
   "cell_type": "code",
   "execution_count": null,
   "id": "58cd8a91-0a0b-48ac-9ffa-27451d8b0f34",
   "metadata": {},
   "outputs": [],
   "source": [
    "article_ids = articles_df['article_id'].values\n",
    "\n",
    "# Map indices to article IDs\n",
    "similar_articles = {\n",
    "    article_ids[i]: article_ids[indices[i][1:]]  \n",
    "    for i in range(len(article_ids))\n",
    "}\n"
   ]
  },
  {
   "cell_type": "code",
   "execution_count": null,
   "id": "b677997e-2fbc-4c36-b843-d3c5c8d84128",
   "metadata": {},
   "outputs": [],
   "source": [
    "# article_id = 108775015\n",
    "# similar_ids = similar_articles[article_id]\n",
    "# articles_df[articles_df['article_id'].isin(similar_ids)][['article_id', 'product_type_name', 'preprocessed_desc']]\n"
   ]
  },
  {
   "cell_type": "code",
   "execution_count": null,
   "id": "36443591-458a-46a3-9bcd-4f9b280fba0f",
   "metadata": {},
   "outputs": [],
   "source": [
    "import os\n",
    "from PIL import Image\n",
    "import matplotlib.pyplot as plt\n",
    "\n",
    "def get_image_path(article_id, image_base_path):\n",
    "    article_id_str = str(article_id).zfill(10)\n",
    "    folder = article_id_str[:3]\n",
    "    filename = f\"{article_id_str}.jpg\"\n",
    "    return os.path.join(image_base_path, folder, filename)\n"
   ]
  },
  {
   "cell_type": "code",
   "execution_count": null,
   "id": "dca4d83b-dc7b-4ebb-ba8a-27b73080683a",
   "metadata": {},
   "outputs": [],
   "source": [
    "def show_similar_articles(selected_article_id, similar_articles, image_base_path):\n",
    "    similar_ids = similar_articles[selected_article_id]\n",
    "    all_ids = [selected_article_id] + list(similar_ids)\n",
    "    \n",
    "    plt.figure(figsize=(15, 4))\n",
    "    \n",
    "    for i, article_id in enumerate(all_ids):\n",
    "        img_path = get_image_path(article_id, image_base_path)\n",
    "        try:\n",
    "            img = Image.open(img_path)\n",
    "            plt.subplot(1, len(all_ids), i + 1)\n",
    "            plt.imshow(img)\n",
    "            plt.axis('off')\n",
    "            title = \"Query\" if i == 0 else f\"Similar {i}\"\n",
    "            plt.title(title, fontsize=10)\n",
    "        except FileNotFoundError:\n",
    "            print(f\"Image not found for article {article_id}\")\n",
    "    \n",
    "    plt.tight_layout()\n",
    "    plt.show()\n"
   ]
  },
  {
   "cell_type": "code",
   "execution_count": null,
   "id": "8156546f-5c68-4ed5-9499-13e9df85c181",
   "metadata": {},
   "outputs": [],
   "source": [
    "# Choose a sample article ID from your dataset\n",
    "sample_article_id = 108775015\n",
    "\n",
    "# Show similar articles based on your earlier similarity dict\n",
    "show_similar_articles(sample_article_id, similar_articles, image_base_path='../data/images')\n"
   ]
  },
  {
   "cell_type": "code",
   "execution_count": null,
   "id": "ab9807c6-fd4a-4216-b9bf-0aeb9b9c7cc3",
   "metadata": {},
   "outputs": [],
   "source": []
  },
  {
   "cell_type": "code",
   "execution_count": null,
   "id": "e1a731ec-ebba-487b-beef-0d1a6ac8cdbb",
   "metadata": {},
   "outputs": [],
   "source": []
  }
 ],
 "metadata": {
  "kernelspec": {
   "display_name": "Python [conda env:base] *",
   "language": "python",
   "name": "conda-base-py"
  },
  "language_info": {
   "codemirror_mode": {
    "name": "ipython",
    "version": 3
   },
   "file_extension": ".py",
   "mimetype": "text/x-python",
   "name": "python",
   "nbconvert_exporter": "python",
   "pygments_lexer": "ipython3",
   "version": "3.11.5"
  }
 },
 "nbformat": 4,
 "nbformat_minor": 5
}
