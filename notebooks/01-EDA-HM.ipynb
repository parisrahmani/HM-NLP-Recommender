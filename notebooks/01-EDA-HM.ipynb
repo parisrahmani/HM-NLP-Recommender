{
 "cells": [
  {
   "cell_type": "markdown",
   "id": "156343e6-485c-4b10-be90-cda0bb8ab062",
   "metadata": {},
   "source": [
    "## Table of Content"
   ]
  },
  {
   "cell_type": "markdown",
   "id": "b2993df5-9e28-4c96-9c3d-1b89552080d3",
   "metadata": {},
   "source": [
    "## Introduction"
   ]
  },
  {
   "cell_type": "code",
   "execution_count": 226,
   "id": "60205090-fc3d-48e7-9639-e89b26df7000",
   "metadata": {},
   "outputs": [
    {
     "name": "stderr",
     "output_type": "stream",
     "text": [
      "[nltk_data] Downloading package stopwords to\n",
      "[nltk_data]     /Users/Parisa/nltk_data...\n",
      "[nltk_data]   Package stopwords is already up-to-date!\n",
      "[nltk_data] Downloading package punkt to /Users/Parisa/nltk_data...\n",
      "[nltk_data]   Package punkt is already up-to-date!\n",
      "[nltk_data] Downloading package wordnet to /Users/Parisa/nltk_data...\n",
      "[nltk_data]   Package wordnet is already up-to-date!\n"
     ]
    },
    {
     "data": {
      "text/plain": [
       "True"
      ]
     },
     "execution_count": 226,
     "metadata": {},
     "output_type": "execute_result"
    }
   ],
   "source": [
    "# Importing libraries\n",
    "\n",
    "import numpy as np\n",
    "import pandas as pd\n",
    "import matplotlib.pyplot as plt\n",
    "#import matplotlib.image as mpimg\n",
    "import seaborn as sns\n",
    "\n",
    "#import os\n",
    "#import time\n",
    "import re\n",
    "import string\n",
    "\n",
    "#from PIL import Image\n",
    "\n",
    "import nltk\n",
    "nltk.download('stopwords')\n",
    "from nltk.corpus import stopwords\n",
    "from nltk.tokenize import word_tokenize\n",
    "nltk.download('punkt')\n",
    "from nltk.stem import WordNetLemmatizer\n",
    "nltk.download('wordnet')\n"
   ]
  },
  {
   "cell_type": "code",
   "execution_count": 59,
   "id": "1a0afce5-a5e6-4439-9f15-68f330ff2d2f",
   "metadata": {},
   "outputs": [],
   "source": [
    "# Importing Data Frames\n",
    "customers_df = pd.read_csv('../data/raw/customers.csv')\n",
    "transactions_df = pd.read_csv('../data/raw/transactions_train.csv')\n",
    "articles_df = pd.read_csv('../data/raw/articles.csv')"
   ]
  },
  {
   "cell_type": "markdown",
   "id": "46830c40-edf9-4509-a499-b471beaef05a",
   "metadata": {},
   "source": [
    "## Data Overview"
   ]
  },
  {
   "cell_type": "code",
   "execution_count": 60,
   "id": "a403e241-b68f-46c3-89ee-1209f30625e4",
   "metadata": {},
   "outputs": [
    {
     "data": {
      "text/html": [
       "<div>\n",
       "<style scoped>\n",
       "    .dataframe tbody tr th:only-of-type {\n",
       "        vertical-align: middle;\n",
       "    }\n",
       "\n",
       "    .dataframe tbody tr th {\n",
       "        vertical-align: top;\n",
       "    }\n",
       "\n",
       "    .dataframe thead th {\n",
       "        text-align: right;\n",
       "    }\n",
       "</style>\n",
       "<table border=\"1\" class=\"dataframe\">\n",
       "  <thead>\n",
       "    <tr style=\"text-align: right;\">\n",
       "      <th></th>\n",
       "      <th>customer_id</th>\n",
       "      <th>FN</th>\n",
       "      <th>Active</th>\n",
       "      <th>club_member_status</th>\n",
       "      <th>fashion_news_frequency</th>\n",
       "      <th>age</th>\n",
       "      <th>postal_code</th>\n",
       "    </tr>\n",
       "  </thead>\n",
       "  <tbody>\n",
       "    <tr>\n",
       "      <th>0</th>\n",
       "      <td>00000dbacae5abe5e23885899a1fa44253a17956c6d1c3...</td>\n",
       "      <td>NaN</td>\n",
       "      <td>NaN</td>\n",
       "      <td>ACTIVE</td>\n",
       "      <td>NONE</td>\n",
       "      <td>49.0</td>\n",
       "      <td>52043ee2162cf5aa7ee79974281641c6f11a68d276429a...</td>\n",
       "    </tr>\n",
       "    <tr>\n",
       "      <th>1</th>\n",
       "      <td>0000423b00ade91418cceaf3b26c6af3dd342b51fd051e...</td>\n",
       "      <td>NaN</td>\n",
       "      <td>NaN</td>\n",
       "      <td>ACTIVE</td>\n",
       "      <td>NONE</td>\n",
       "      <td>25.0</td>\n",
       "      <td>2973abc54daa8a5f8ccfe9362140c63247c5eee03f1d93...</td>\n",
       "    </tr>\n",
       "  </tbody>\n",
       "</table>\n",
       "</div>"
      ],
      "text/plain": [
       "                                         customer_id  FN  Active  \\\n",
       "0  00000dbacae5abe5e23885899a1fa44253a17956c6d1c3... NaN     NaN   \n",
       "1  0000423b00ade91418cceaf3b26c6af3dd342b51fd051e... NaN     NaN   \n",
       "\n",
       "  club_member_status fashion_news_frequency   age  \\\n",
       "0             ACTIVE                   NONE  49.0   \n",
       "1             ACTIVE                   NONE  25.0   \n",
       "\n",
       "                                         postal_code  \n",
       "0  52043ee2162cf5aa7ee79974281641c6f11a68d276429a...  \n",
       "1  2973abc54daa8a5f8ccfe9362140c63247c5eee03f1d93...  "
      ]
     },
     "execution_count": 60,
     "metadata": {},
     "output_type": "execute_result"
    }
   ],
   "source": [
    "customers_df.head(2)"
   ]
  },
  {
   "cell_type": "code",
   "execution_count": 61,
   "id": "22183963-f141-4236-ab63-5a5b6be064ba",
   "metadata": {},
   "outputs": [
    {
     "data": {
      "text/html": [
       "<div>\n",
       "<style scoped>\n",
       "    .dataframe tbody tr th:only-of-type {\n",
       "        vertical-align: middle;\n",
       "    }\n",
       "\n",
       "    .dataframe tbody tr th {\n",
       "        vertical-align: top;\n",
       "    }\n",
       "\n",
       "    .dataframe thead th {\n",
       "        text-align: right;\n",
       "    }\n",
       "</style>\n",
       "<table border=\"1\" class=\"dataframe\">\n",
       "  <thead>\n",
       "    <tr style=\"text-align: right;\">\n",
       "      <th></th>\n",
       "      <th>t_dat</th>\n",
       "      <th>customer_id</th>\n",
       "      <th>article_id</th>\n",
       "      <th>price</th>\n",
       "      <th>sales_channel_id</th>\n",
       "    </tr>\n",
       "  </thead>\n",
       "  <tbody>\n",
       "    <tr>\n",
       "      <th>0</th>\n",
       "      <td>2018-09-20</td>\n",
       "      <td>000058a12d5b43e67d225668fa1f8d618c13dc232df0ca...</td>\n",
       "      <td>663713001</td>\n",
       "      <td>0.050831</td>\n",
       "      <td>2</td>\n",
       "    </tr>\n",
       "    <tr>\n",
       "      <th>1</th>\n",
       "      <td>2018-09-20</td>\n",
       "      <td>000058a12d5b43e67d225668fa1f8d618c13dc232df0ca...</td>\n",
       "      <td>541518023</td>\n",
       "      <td>0.030492</td>\n",
       "      <td>2</td>\n",
       "    </tr>\n",
       "  </tbody>\n",
       "</table>\n",
       "</div>"
      ],
      "text/plain": [
       "        t_dat                                        customer_id  article_id  \\\n",
       "0  2018-09-20  000058a12d5b43e67d225668fa1f8d618c13dc232df0ca...   663713001   \n",
       "1  2018-09-20  000058a12d5b43e67d225668fa1f8d618c13dc232df0ca...   541518023   \n",
       "\n",
       "      price  sales_channel_id  \n",
       "0  0.050831                 2  \n",
       "1  0.030492                 2  "
      ]
     },
     "execution_count": 61,
     "metadata": {},
     "output_type": "execute_result"
    }
   ],
   "source": [
    "transactions_df.head(2)"
   ]
  },
  {
   "cell_type": "code",
   "execution_count": 62,
   "id": "13b2e55c-2163-46f5-9fd8-875a45f797aa",
   "metadata": {},
   "outputs": [
    {
     "data": {
      "text/html": [
       "<div>\n",
       "<style scoped>\n",
       "    .dataframe tbody tr th:only-of-type {\n",
       "        vertical-align: middle;\n",
       "    }\n",
       "\n",
       "    .dataframe tbody tr th {\n",
       "        vertical-align: top;\n",
       "    }\n",
       "\n",
       "    .dataframe thead th {\n",
       "        text-align: right;\n",
       "    }\n",
       "</style>\n",
       "<table border=\"1\" class=\"dataframe\">\n",
       "  <thead>\n",
       "    <tr style=\"text-align: right;\">\n",
       "      <th></th>\n",
       "      <th>article_id</th>\n",
       "      <th>product_code</th>\n",
       "      <th>prod_name</th>\n",
       "      <th>product_type_no</th>\n",
       "      <th>product_type_name</th>\n",
       "      <th>product_group_name</th>\n",
       "      <th>graphical_appearance_no</th>\n",
       "      <th>graphical_appearance_name</th>\n",
       "      <th>colour_group_code</th>\n",
       "      <th>colour_group_name</th>\n",
       "      <th>...</th>\n",
       "      <th>department_name</th>\n",
       "      <th>index_code</th>\n",
       "      <th>index_name</th>\n",
       "      <th>index_group_no</th>\n",
       "      <th>index_group_name</th>\n",
       "      <th>section_no</th>\n",
       "      <th>section_name</th>\n",
       "      <th>garment_group_no</th>\n",
       "      <th>garment_group_name</th>\n",
       "      <th>detail_desc</th>\n",
       "    </tr>\n",
       "  </thead>\n",
       "  <tbody>\n",
       "    <tr>\n",
       "      <th>0</th>\n",
       "      <td>108775015</td>\n",
       "      <td>108775</td>\n",
       "      <td>Strap top</td>\n",
       "      <td>253</td>\n",
       "      <td>Vest top</td>\n",
       "      <td>Garment Upper body</td>\n",
       "      <td>1010016</td>\n",
       "      <td>Solid</td>\n",
       "      <td>9</td>\n",
       "      <td>Black</td>\n",
       "      <td>...</td>\n",
       "      <td>Jersey Basic</td>\n",
       "      <td>A</td>\n",
       "      <td>Ladieswear</td>\n",
       "      <td>1</td>\n",
       "      <td>Ladieswear</td>\n",
       "      <td>16</td>\n",
       "      <td>Womens Everyday Basics</td>\n",
       "      <td>1002</td>\n",
       "      <td>Jersey Basic</td>\n",
       "      <td>Jersey top with narrow shoulder straps.</td>\n",
       "    </tr>\n",
       "    <tr>\n",
       "      <th>1</th>\n",
       "      <td>108775044</td>\n",
       "      <td>108775</td>\n",
       "      <td>Strap top</td>\n",
       "      <td>253</td>\n",
       "      <td>Vest top</td>\n",
       "      <td>Garment Upper body</td>\n",
       "      <td>1010016</td>\n",
       "      <td>Solid</td>\n",
       "      <td>10</td>\n",
       "      <td>White</td>\n",
       "      <td>...</td>\n",
       "      <td>Jersey Basic</td>\n",
       "      <td>A</td>\n",
       "      <td>Ladieswear</td>\n",
       "      <td>1</td>\n",
       "      <td>Ladieswear</td>\n",
       "      <td>16</td>\n",
       "      <td>Womens Everyday Basics</td>\n",
       "      <td>1002</td>\n",
       "      <td>Jersey Basic</td>\n",
       "      <td>Jersey top with narrow shoulder straps.</td>\n",
       "    </tr>\n",
       "  </tbody>\n",
       "</table>\n",
       "<p>2 rows × 25 columns</p>\n",
       "</div>"
      ],
      "text/plain": [
       "   article_id  product_code  prod_name  product_type_no product_type_name  \\\n",
       "0   108775015        108775  Strap top              253          Vest top   \n",
       "1   108775044        108775  Strap top              253          Vest top   \n",
       "\n",
       "   product_group_name  graphical_appearance_no graphical_appearance_name  \\\n",
       "0  Garment Upper body                  1010016                     Solid   \n",
       "1  Garment Upper body                  1010016                     Solid   \n",
       "\n",
       "   colour_group_code colour_group_name  ...  department_name index_code  \\\n",
       "0                  9             Black  ...     Jersey Basic          A   \n",
       "1                 10             White  ...     Jersey Basic          A   \n",
       "\n",
       "   index_name index_group_no  index_group_name section_no  \\\n",
       "0  Ladieswear              1        Ladieswear         16   \n",
       "1  Ladieswear              1        Ladieswear         16   \n",
       "\n",
       "             section_name garment_group_no  garment_group_name  \\\n",
       "0  Womens Everyday Basics             1002        Jersey Basic   \n",
       "1  Womens Everyday Basics             1002        Jersey Basic   \n",
       "\n",
       "                               detail_desc  \n",
       "0  Jersey top with narrow shoulder straps.  \n",
       "1  Jersey top with narrow shoulder straps.  \n",
       "\n",
       "[2 rows x 25 columns]"
      ]
     },
     "execution_count": 62,
     "metadata": {},
     "output_type": "execute_result"
    }
   ],
   "source": [
    "articles_df.head(2)"
   ]
  },
  {
   "cell_type": "markdown",
   "id": "e1145624-78d0-4d16-9d0f-9bee68e12fed",
   "metadata": {},
   "source": [
    "### Initial Remarks on the DataFrames\n",
    "\n",
    "The dataset consists of three main DataFrames: articles, customers, and transactions. These are linked through the transactions DataFrame:\n",
    "\n",
    "    - transactions connects to articles via the article_id column.\n",
    "    \n",
    "    - It also links to customers via the customer_id column.\n",
    "\n",
    "#### Articles DataFrame\n",
    "The articles DataFrame contains 25 columns. Several of these appear to be redundant or duplicated — for example, both product_code and prod_name, or department_no and department_name. Depending on the type of analysis or modeling we proceed with, some of these duplicate columns can likely be dropped to simplify the dataset.\n",
    "\n",
    "#### Transactions DataFrame\n",
    "The transactions DataFrame is the largest, containing over 31 million records. For more efficient analysis and modeling, we may choose to reduce its size — for instance, by filtering based on the transaction date (t_dat) or by focusing on price-related segments.\n",
    "\n",
    "Additionally, it may be useful to create a new units column in this DataFrame to indicate the number of items sold per transaction. This can be especially helpful when aggregating purchases by product or customer for recommendation tasks.\n",
    "\n",
    "#### Customers DataFrame\n",
    "The customers DataFrame connects users to their purchases and provides demographic and behavioral features. These may be leveraged during user profiling or for collaborative filtering approaches."
   ]
  },
  {
   "cell_type": "markdown",
   "id": "99300155-cc72-485b-bdcb-3429d01d0d9f",
   "metadata": {},
   "source": [
    "## Data Cleaning and EDA"
   ]
  },
  {
   "cell_type": "markdown",
   "id": "152b5320-c410-4ebe-b0b0-bd4250ce0f11",
   "metadata": {},
   "source": [
    "### Articles DataFrame"
   ]
  },
  {
   "cell_type": "code",
   "execution_count": 63,
   "id": "e2d638ab-7b40-49d0-bd37-44d993bf4c09",
   "metadata": {},
   "outputs": [
    {
     "name": "stdout",
     "output_type": "stream",
     "text": [
      " articles_df's shape : (105542, 25)\n"
     ]
    }
   ],
   "source": [
    "articles_df.shape\n",
    "print(f\" articles_df's shape : {articles_df.shape}\")"
   ]
  },
  {
   "cell_type": "code",
   "execution_count": 64,
   "id": "8a78c652-88c8-497e-9c2e-38c4f8547757",
   "metadata": {},
   "outputs": [
    {
     "data": {
      "text/html": [
       "<div>\n",
       "<style scoped>\n",
       "    .dataframe tbody tr th:only-of-type {\n",
       "        vertical-align: middle;\n",
       "    }\n",
       "\n",
       "    .dataframe tbody tr th {\n",
       "        vertical-align: top;\n",
       "    }\n",
       "\n",
       "    .dataframe thead th {\n",
       "        text-align: right;\n",
       "    }\n",
       "</style>\n",
       "<table border=\"1\" class=\"dataframe\">\n",
       "  <thead>\n",
       "    <tr style=\"text-align: right;\">\n",
       "      <th></th>\n",
       "      <th>article_id</th>\n",
       "      <th>product_code</th>\n",
       "      <th>product_type_no</th>\n",
       "      <th>graphical_appearance_no</th>\n",
       "      <th>colour_group_code</th>\n",
       "      <th>perceived_colour_value_id</th>\n",
       "      <th>perceived_colour_master_id</th>\n",
       "      <th>department_no</th>\n",
       "      <th>index_group_no</th>\n",
       "      <th>section_no</th>\n",
       "      <th>garment_group_no</th>\n",
       "    </tr>\n",
       "  </thead>\n",
       "  <tbody>\n",
       "    <tr>\n",
       "      <th>count</th>\n",
       "      <td>1.055420e+05</td>\n",
       "      <td>105542.000000</td>\n",
       "      <td>105542.000000</td>\n",
       "      <td>1.055420e+05</td>\n",
       "      <td>105542.000000</td>\n",
       "      <td>105542.000000</td>\n",
       "      <td>105542.000000</td>\n",
       "      <td>105542.000000</td>\n",
       "      <td>105542.000000</td>\n",
       "      <td>105542.000000</td>\n",
       "      <td>105542.000000</td>\n",
       "    </tr>\n",
       "    <tr>\n",
       "      <th>mean</th>\n",
       "      <td>6.984246e+08</td>\n",
       "      <td>698424.563378</td>\n",
       "      <td>234.861875</td>\n",
       "      <td>1.009515e+06</td>\n",
       "      <td>32.233822</td>\n",
       "      <td>3.206183</td>\n",
       "      <td>7.807972</td>\n",
       "      <td>4532.777833</td>\n",
       "      <td>3.171534</td>\n",
       "      <td>42.664219</td>\n",
       "      <td>1010.438290</td>\n",
       "    </tr>\n",
       "    <tr>\n",
       "      <th>std</th>\n",
       "      <td>1.284624e+08</td>\n",
       "      <td>128462.384432</td>\n",
       "      <td>75.049308</td>\n",
       "      <td>2.241359e+04</td>\n",
       "      <td>28.086154</td>\n",
       "      <td>1.563839</td>\n",
       "      <td>5.376727</td>\n",
       "      <td>2712.692011</td>\n",
       "      <td>4.353234</td>\n",
       "      <td>23.260105</td>\n",
       "      <td>6.731023</td>\n",
       "    </tr>\n",
       "    <tr>\n",
       "      <th>min</th>\n",
       "      <td>1.087750e+08</td>\n",
       "      <td>108775.000000</td>\n",
       "      <td>-1.000000</td>\n",
       "      <td>-1.000000e+00</td>\n",
       "      <td>-1.000000</td>\n",
       "      <td>-1.000000</td>\n",
       "      <td>-1.000000</td>\n",
       "      <td>1201.000000</td>\n",
       "      <td>1.000000</td>\n",
       "      <td>2.000000</td>\n",
       "      <td>1001.000000</td>\n",
       "    </tr>\n",
       "    <tr>\n",
       "      <th>25%</th>\n",
       "      <td>6.169925e+08</td>\n",
       "      <td>616992.500000</td>\n",
       "      <td>252.000000</td>\n",
       "      <td>1.010008e+06</td>\n",
       "      <td>9.000000</td>\n",
       "      <td>2.000000</td>\n",
       "      <td>4.000000</td>\n",
       "      <td>1676.000000</td>\n",
       "      <td>1.000000</td>\n",
       "      <td>20.000000</td>\n",
       "      <td>1005.000000</td>\n",
       "    </tr>\n",
       "    <tr>\n",
       "      <th>50%</th>\n",
       "      <td>7.022130e+08</td>\n",
       "      <td>702213.000000</td>\n",
       "      <td>259.000000</td>\n",
       "      <td>1.010016e+06</td>\n",
       "      <td>14.000000</td>\n",
       "      <td>4.000000</td>\n",
       "      <td>5.000000</td>\n",
       "      <td>4222.000000</td>\n",
       "      <td>2.000000</td>\n",
       "      <td>46.000000</td>\n",
       "      <td>1009.000000</td>\n",
       "    </tr>\n",
       "    <tr>\n",
       "      <th>75%</th>\n",
       "      <td>7.967030e+08</td>\n",
       "      <td>796703.000000</td>\n",
       "      <td>272.000000</td>\n",
       "      <td>1.010016e+06</td>\n",
       "      <td>52.000000</td>\n",
       "      <td>4.000000</td>\n",
       "      <td>11.000000</td>\n",
       "      <td>7389.000000</td>\n",
       "      <td>4.000000</td>\n",
       "      <td>61.000000</td>\n",
       "      <td>1017.000000</td>\n",
       "    </tr>\n",
       "    <tr>\n",
       "      <th>max</th>\n",
       "      <td>9.594610e+08</td>\n",
       "      <td>959461.000000</td>\n",
       "      <td>762.000000</td>\n",
       "      <td>1.010029e+06</td>\n",
       "      <td>93.000000</td>\n",
       "      <td>7.000000</td>\n",
       "      <td>20.000000</td>\n",
       "      <td>9989.000000</td>\n",
       "      <td>26.000000</td>\n",
       "      <td>97.000000</td>\n",
       "      <td>1025.000000</td>\n",
       "    </tr>\n",
       "  </tbody>\n",
       "</table>\n",
       "</div>"
      ],
      "text/plain": [
       "         article_id   product_code  product_type_no  graphical_appearance_no  \\\n",
       "count  1.055420e+05  105542.000000    105542.000000             1.055420e+05   \n",
       "mean   6.984246e+08  698424.563378       234.861875             1.009515e+06   \n",
       "std    1.284624e+08  128462.384432        75.049308             2.241359e+04   \n",
       "min    1.087750e+08  108775.000000        -1.000000            -1.000000e+00   \n",
       "25%    6.169925e+08  616992.500000       252.000000             1.010008e+06   \n",
       "50%    7.022130e+08  702213.000000       259.000000             1.010016e+06   \n",
       "75%    7.967030e+08  796703.000000       272.000000             1.010016e+06   \n",
       "max    9.594610e+08  959461.000000       762.000000             1.010029e+06   \n",
       "\n",
       "       colour_group_code  perceived_colour_value_id  \\\n",
       "count      105542.000000              105542.000000   \n",
       "mean           32.233822                   3.206183   \n",
       "std            28.086154                   1.563839   \n",
       "min            -1.000000                  -1.000000   \n",
       "25%             9.000000                   2.000000   \n",
       "50%            14.000000                   4.000000   \n",
       "75%            52.000000                   4.000000   \n",
       "max            93.000000                   7.000000   \n",
       "\n",
       "       perceived_colour_master_id  department_no  index_group_no  \\\n",
       "count               105542.000000  105542.000000   105542.000000   \n",
       "mean                     7.807972    4532.777833        3.171534   \n",
       "std                      5.376727    2712.692011        4.353234   \n",
       "min                     -1.000000    1201.000000        1.000000   \n",
       "25%                      4.000000    1676.000000        1.000000   \n",
       "50%                      5.000000    4222.000000        2.000000   \n",
       "75%                     11.000000    7389.000000        4.000000   \n",
       "max                     20.000000    9989.000000       26.000000   \n",
       "\n",
       "          section_no  garment_group_no  \n",
       "count  105542.000000     105542.000000  \n",
       "mean       42.664219       1010.438290  \n",
       "std        23.260105          6.731023  \n",
       "min         2.000000       1001.000000  \n",
       "25%        20.000000       1005.000000  \n",
       "50%        46.000000       1009.000000  \n",
       "75%        61.000000       1017.000000  \n",
       "max        97.000000       1025.000000  "
      ]
     },
     "execution_count": 64,
     "metadata": {},
     "output_type": "execute_result"
    }
   ],
   "source": [
    "articles_df.describe()"
   ]
  },
  {
   "cell_type": "code",
   "execution_count": 65,
   "id": "55c27e8f-38a5-4244-8c21-2c2893151a3d",
   "metadata": {},
   "outputs": [
    {
     "name": "stdout",
     "output_type": "stream",
     "text": [
      "<class 'pandas.core.frame.DataFrame'>\n",
      "RangeIndex: 105542 entries, 0 to 105541\n",
      "Data columns (total 25 columns):\n",
      " #   Column                        Non-Null Count   Dtype \n",
      "---  ------                        --------------   ----- \n",
      " 0   article_id                    105542 non-null  int64 \n",
      " 1   product_code                  105542 non-null  int64 \n",
      " 2   prod_name                     105542 non-null  object\n",
      " 3   product_type_no               105542 non-null  int64 \n",
      " 4   product_type_name             105542 non-null  object\n",
      " 5   product_group_name            105542 non-null  object\n",
      " 6   graphical_appearance_no       105542 non-null  int64 \n",
      " 7   graphical_appearance_name     105542 non-null  object\n",
      " 8   colour_group_code             105542 non-null  int64 \n",
      " 9   colour_group_name             105542 non-null  object\n",
      " 10  perceived_colour_value_id     105542 non-null  int64 \n",
      " 11  perceived_colour_value_name   105542 non-null  object\n",
      " 12  perceived_colour_master_id    105542 non-null  int64 \n",
      " 13  perceived_colour_master_name  105542 non-null  object\n",
      " 14  department_no                 105542 non-null  int64 \n",
      " 15  department_name               105542 non-null  object\n",
      " 16  index_code                    105542 non-null  object\n",
      " 17  index_name                    105542 non-null  object\n",
      " 18  index_group_no                105542 non-null  int64 \n",
      " 19  index_group_name              105542 non-null  object\n",
      " 20  section_no                    105542 non-null  int64 \n",
      " 21  section_name                  105542 non-null  object\n",
      " 22  garment_group_no              105542 non-null  int64 \n",
      " 23  garment_group_name            105542 non-null  object\n",
      " 24  detail_desc                   105126 non-null  object\n",
      "dtypes: int64(11), object(14)\n",
      "memory usage: 20.1+ MB\n"
     ]
    }
   ],
   "source": [
    "articles_df.info()"
   ]
  },
  {
   "cell_type": "code",
   "execution_count": 66,
   "id": "1fb83a8e-e5d5-4f0c-b68d-16c776052962",
   "metadata": {},
   "outputs": [
    {
     "data": {
      "text/plain": [
       "article_id                        0\n",
       "product_code                      0\n",
       "prod_name                         0\n",
       "product_type_no                   0\n",
       "product_type_name                 0\n",
       "product_group_name                0\n",
       "graphical_appearance_no           0\n",
       "graphical_appearance_name         0\n",
       "colour_group_code                 0\n",
       "colour_group_name                 0\n",
       "perceived_colour_value_id         0\n",
       "perceived_colour_value_name       0\n",
       "perceived_colour_master_id        0\n",
       "perceived_colour_master_name      0\n",
       "department_no                     0\n",
       "department_name                   0\n",
       "index_code                        0\n",
       "index_name                        0\n",
       "index_group_no                    0\n",
       "index_group_name                  0\n",
       "section_no                        0\n",
       "section_name                      0\n",
       "garment_group_no                  0\n",
       "garment_group_name                0\n",
       "detail_desc                     416\n",
       "dtype: int64"
      ]
     },
     "execution_count": 66,
     "metadata": {},
     "output_type": "execute_result"
    }
   ],
   "source": [
    "#Checking for NULL in articles_df:\n",
    "\n",
    "articles_df.isna().sum()"
   ]
  },
  {
   "cell_type": "markdown",
   "id": "711db3a5-7567-4a53-a342-ff273191d4d5",
   "metadata": {},
   "source": [
    "Wr’re dealing with only 416 nulls out of 105,542, which is less than ***0.4%*** of the dataset. Since the detail_desc field is crucial for our ***NLP recommender***, it’s better to drop those rows."
   ]
  },
  {
   "cell_type": "code",
   "execution_count": 156,
   "id": "48364050-de00-4cc7-bd32-c522fc707fe3",
   "metadata": {},
   "outputs": [],
   "source": [
    "articles_df = articles_df.dropna(subset=['detail_desc'])"
   ]
  },
  {
   "cell_type": "code",
   "execution_count": 157,
   "id": "e5af8db4-3fb8-46ee-97f6-059b26fbf25e",
   "metadata": {},
   "outputs": [
    {
     "name": "stdout",
     "output_type": "stream",
     "text": [
      "Articles Duplicated columns: False\n",
      "Articles Duplicated rows: False\n",
      "Articles Total of duplicates: 0\n"
     ]
    }
   ],
   "source": [
    "#Checking for duplicates in articles_df:\n",
    "\n",
    "print(f'Articles Duplicated columns: {articles_df.T.duplicated().any()}')\n",
    "\n",
    "print(f'Articles Duplicated rows: {articles_df.duplicated().any()}')\n",
    "\n",
    "print(f'Articles Total of duplicates: {articles_df.duplicated().sum()}')"
   ]
  },
  {
   "cell_type": "markdown",
   "id": "a658b724-cea1-4c77-b342-bdf70c980092",
   "metadata": {},
   "source": [
    "## SAVE CLEANED DATA?"
   ]
  },
  {
   "cell_type": "code",
   "execution_count": 158,
   "id": "a493cd14-c3f2-4d54-b868-b9eb9e040259",
   "metadata": {},
   "outputs": [],
   "source": [
    "# articles_df['cleaned_prod_name'] = articles_df['prod_name'].astype(str).apply(clean_text)\n",
    "# articles_df['cleaned_detail_desc'] = articles_df['detail_desc'].astype(str).apply(clean_text)"
   ]
  },
  {
   "cell_type": "code",
   "execution_count": 159,
   "id": "e1856510-3fe3-4eb0-8852-ff472b9b5959",
   "metadata": {
    "scrolled": true
   },
   "outputs": [],
   "source": [
    "# articles_df.head()"
   ]
  },
  {
   "cell_type": "markdown",
   "id": "2e71b2c5-1586-4365-a5ad-8ce36ffd21a6",
   "metadata": {},
   "source": [
    "### Transactions Data Frame"
   ]
  },
  {
   "cell_type": "code",
   "execution_count": 160,
   "id": "2aa9c3f9-f7b6-4962-ae34-a80ca37085ea",
   "metadata": {},
   "outputs": [
    {
     "data": {
      "text/html": [
       "<div>\n",
       "<style scoped>\n",
       "    .dataframe tbody tr th:only-of-type {\n",
       "        vertical-align: middle;\n",
       "    }\n",
       "\n",
       "    .dataframe tbody tr th {\n",
       "        vertical-align: top;\n",
       "    }\n",
       "\n",
       "    .dataframe thead th {\n",
       "        text-align: right;\n",
       "    }\n",
       "</style>\n",
       "<table border=\"1\" class=\"dataframe\">\n",
       "  <thead>\n",
       "    <tr style=\"text-align: right;\">\n",
       "      <th></th>\n",
       "      <th>t_dat</th>\n",
       "      <th>customer_id</th>\n",
       "      <th>article_id</th>\n",
       "      <th>price</th>\n",
       "      <th>sales_channel_id</th>\n",
       "      <th>week</th>\n",
       "      <th>month</th>\n",
       "      <th>dayofweek</th>\n",
       "      <th>season</th>\n",
       "      <th>recency</th>\n",
       "    </tr>\n",
       "  </thead>\n",
       "  <tbody>\n",
       "    <tr>\n",
       "      <th>0</th>\n",
       "      <td>2018-09-20</td>\n",
       "      <td>000058a12d5b43e67d225668fa1f8d618c13dc232df0cad8ffe7ad4a1091e318</td>\n",
       "      <td>663713001</td>\n",
       "      <td>0.050831</td>\n",
       "      <td>2</td>\n",
       "      <td>38</td>\n",
       "      <td>9</td>\n",
       "      <td>3</td>\n",
       "      <td>Fall</td>\n",
       "      <td>673</td>\n",
       "    </tr>\n",
       "    <tr>\n",
       "      <th>1</th>\n",
       "      <td>2018-09-20</td>\n",
       "      <td>000058a12d5b43e67d225668fa1f8d618c13dc232df0cad8ffe7ad4a1091e318</td>\n",
       "      <td>541518023</td>\n",
       "      <td>0.030492</td>\n",
       "      <td>2</td>\n",
       "      <td>38</td>\n",
       "      <td>9</td>\n",
       "      <td>3</td>\n",
       "      <td>Fall</td>\n",
       "      <td>673</td>\n",
       "    </tr>\n",
       "  </tbody>\n",
       "</table>\n",
       "</div>"
      ],
      "text/plain": [
       "       t_dat  \\\n",
       "0 2018-09-20   \n",
       "1 2018-09-20   \n",
       "\n",
       "                                                        customer_id  \\\n",
       "0  000058a12d5b43e67d225668fa1f8d618c13dc232df0cad8ffe7ad4a1091e318   \n",
       "1  000058a12d5b43e67d225668fa1f8d618c13dc232df0cad8ffe7ad4a1091e318   \n",
       "\n",
       "   article_id     price  sales_channel_id  week  month  dayofweek season  \\\n",
       "0   663713001  0.050831                 2    38      9          3   Fall   \n",
       "1   541518023  0.030492                 2    38      9          3   Fall   \n",
       "\n",
       "   recency  \n",
       "0      673  \n",
       "1      673  "
      ]
     },
     "execution_count": 160,
     "metadata": {},
     "output_type": "execute_result"
    }
   ],
   "source": [
    "transactions_df.head(2)"
   ]
  },
  {
   "cell_type": "code",
   "execution_count": 161,
   "id": "c2588855-c652-41af-b5c9-f669ba3eafe4",
   "metadata": {},
   "outputs": [
    {
     "data": {
      "text/plain": [
       "(26304917, 10)"
      ]
     },
     "execution_count": 161,
     "metadata": {},
     "output_type": "execute_result"
    }
   ],
   "source": [
    "transactions_df.shape"
   ]
  },
  {
   "cell_type": "code",
   "execution_count": 162,
   "id": "260cae10-5ea8-4fb1-b088-01a5094d33e9",
   "metadata": {},
   "outputs": [
    {
     "data": {
      "text/html": [
       "<div>\n",
       "<style scoped>\n",
       "    .dataframe tbody tr th:only-of-type {\n",
       "        vertical-align: middle;\n",
       "    }\n",
       "\n",
       "    .dataframe tbody tr th {\n",
       "        vertical-align: top;\n",
       "    }\n",
       "\n",
       "    .dataframe thead th {\n",
       "        text-align: right;\n",
       "    }\n",
       "</style>\n",
       "<table border=\"1\" class=\"dataframe\">\n",
       "  <thead>\n",
       "    <tr style=\"text-align: right;\">\n",
       "      <th></th>\n",
       "      <th>article_id</th>\n",
       "      <th>price</th>\n",
       "      <th>sales_channel_id</th>\n",
       "      <th>week</th>\n",
       "      <th>month</th>\n",
       "      <th>dayofweek</th>\n",
       "      <th>recency</th>\n",
       "    </tr>\n",
       "  </thead>\n",
       "  <tbody>\n",
       "    <tr>\n",
       "      <th>count</th>\n",
       "      <td>2.630492e+07</td>\n",
       "      <td>2.630492e+07</td>\n",
       "      <td>2.630492e+07</td>\n",
       "      <td>26304917.0</td>\n",
       "      <td>2.630492e+07</td>\n",
       "      <td>2.630492e+07</td>\n",
       "      <td>2.630492e+07</td>\n",
       "    </tr>\n",
       "    <tr>\n",
       "      <th>mean</th>\n",
       "      <td>6.774011e+08</td>\n",
       "      <td>2.814621e-02</td>\n",
       "      <td>1.715038e+00</td>\n",
       "      <td>26.063355</td>\n",
       "      <td>6.393736e+00</td>\n",
       "      <td>3.077649e+00</td>\n",
       "      <td>3.763071e+02</td>\n",
       "    </tr>\n",
       "    <tr>\n",
       "      <th>std</th>\n",
       "      <td>1.269985e+08</td>\n",
       "      <td>1.953155e-02</td>\n",
       "      <td>4.513963e-01</td>\n",
       "      <td>15.466734</td>\n",
       "      <td>3.547332e+00</td>\n",
       "      <td>1.943183e+00</td>\n",
       "      <td>1.730799e+02</td>\n",
       "    </tr>\n",
       "    <tr>\n",
       "      <th>min</th>\n",
       "      <td>1.087750e+08</td>\n",
       "      <td>1.694915e-05</td>\n",
       "      <td>1.000000e+00</td>\n",
       "      <td>1.0</td>\n",
       "      <td>1.000000e+00</td>\n",
       "      <td>0.000000e+00</td>\n",
       "      <td>6.000000e+01</td>\n",
       "    </tr>\n",
       "    <tr>\n",
       "      <th>25%</th>\n",
       "      <td>6.198840e+08</td>\n",
       "      <td>1.601695e-02</td>\n",
       "      <td>1.000000e+00</td>\n",
       "      <td>13.0</td>\n",
       "      <td>3.000000e+00</td>\n",
       "      <td>1.000000e+00</td>\n",
       "      <td>2.360000e+02</td>\n",
       "    </tr>\n",
       "    <tr>\n",
       "      <th>50%</th>\n",
       "      <td>6.999340e+08</td>\n",
       "      <td>2.540678e-02</td>\n",
       "      <td>2.000000e+00</td>\n",
       "      <td>25.0</td>\n",
       "      <td>6.000000e+00</td>\n",
       "      <td>3.000000e+00</td>\n",
       "      <td>3.880000e+02</td>\n",
       "    </tr>\n",
       "    <tr>\n",
       "      <th>75%</th>\n",
       "      <td>7.598710e+08</td>\n",
       "      <td>3.388136e-02</td>\n",
       "      <td>2.000000e+00</td>\n",
       "      <td>41.0</td>\n",
       "      <td>1.000000e+01</td>\n",
       "      <td>5.000000e+00</td>\n",
       "      <td>5.170000e+02</td>\n",
       "    </tr>\n",
       "    <tr>\n",
       "      <th>max</th>\n",
       "      <td>9.210960e+08</td>\n",
       "      <td>5.915254e-01</td>\n",
       "      <td>2.000000e+00</td>\n",
       "      <td>52.0</td>\n",
       "      <td>1.200000e+01</td>\n",
       "      <td>6.000000e+00</td>\n",
       "      <td>6.730000e+02</td>\n",
       "    </tr>\n",
       "  </tbody>\n",
       "</table>\n",
       "</div>"
      ],
      "text/plain": [
       "         article_id         price  sales_channel_id        week         month  \\\n",
       "count  2.630492e+07  2.630492e+07      2.630492e+07  26304917.0  2.630492e+07   \n",
       "mean   6.774011e+08  2.814621e-02      1.715038e+00   26.063355  6.393736e+00   \n",
       "std    1.269985e+08  1.953155e-02      4.513963e-01   15.466734  3.547332e+00   \n",
       "min    1.087750e+08  1.694915e-05      1.000000e+00         1.0  1.000000e+00   \n",
       "25%    6.198840e+08  1.601695e-02      1.000000e+00        13.0  3.000000e+00   \n",
       "50%    6.999340e+08  2.540678e-02      2.000000e+00        25.0  6.000000e+00   \n",
       "75%    7.598710e+08  3.388136e-02      2.000000e+00        41.0  1.000000e+01   \n",
       "max    9.210960e+08  5.915254e-01      2.000000e+00        52.0  1.200000e+01   \n",
       "\n",
       "          dayofweek       recency  \n",
       "count  2.630492e+07  2.630492e+07  \n",
       "mean   3.077649e+00  3.763071e+02  \n",
       "std    1.943183e+00  1.730799e+02  \n",
       "min    0.000000e+00  6.000000e+01  \n",
       "25%    1.000000e+00  2.360000e+02  \n",
       "50%    3.000000e+00  3.880000e+02  \n",
       "75%    5.000000e+00  5.170000e+02  \n",
       "max    6.000000e+00  6.730000e+02  "
      ]
     },
     "execution_count": 162,
     "metadata": {},
     "output_type": "execute_result"
    }
   ],
   "source": [
    "transactions_df.describe()"
   ]
  },
  {
   "cell_type": "code",
   "execution_count": 163,
   "id": "c9456cc5-2b3e-4894-9bd0-3e50950582e3",
   "metadata": {},
   "outputs": [
    {
     "name": "stdout",
     "output_type": "stream",
     "text": [
      "<class 'pandas.core.frame.DataFrame'>\n",
      "Int64Index: 26304917 entries, 0 to 26304916\n",
      "Data columns (total 10 columns):\n",
      " #   Column            Dtype         \n",
      "---  ------            -----         \n",
      " 0   t_dat             datetime64[ns]\n",
      " 1   customer_id       object        \n",
      " 2   article_id        int64         \n",
      " 3   price             float64       \n",
      " 4   sales_channel_id  int64         \n",
      " 5   week              UInt32        \n",
      " 6   month             int64         \n",
      " 7   dayofweek         int64         \n",
      " 8   season            object        \n",
      " 9   recency           int64         \n",
      "dtypes: UInt32(1), datetime64[ns](1), float64(1), int64(5), object(2)\n",
      "memory usage: 2.1+ GB\n"
     ]
    }
   ],
   "source": [
    "transactions_df.info()"
   ]
  },
  {
   "cell_type": "code",
   "execution_count": 164,
   "id": "2301e231-5f40-481b-9b14-8345b3b1de84",
   "metadata": {},
   "outputs": [
    {
     "data": {
      "text/plain": [
       "t_dat               0\n",
       "customer_id         0\n",
       "article_id          0\n",
       "price               0\n",
       "sales_channel_id    0\n",
       "week                0\n",
       "month               0\n",
       "dayofweek           0\n",
       "season              0\n",
       "recency             0\n",
       "dtype: int64"
      ]
     },
     "execution_count": 164,
     "metadata": {},
     "output_type": "execute_result"
    }
   ],
   "source": [
    "transactions_df.isna().sum()"
   ]
  },
  {
   "cell_type": "markdown",
   "id": "b8cec0b4-37bc-47ae-812d-e09e14524e87",
   "metadata": {},
   "source": [
    "There are no null values in transaction data frame!"
   ]
  },
  {
   "cell_type": "code",
   "execution_count": 165,
   "id": "80d42d07-00d8-4492-bcb5-105a48ea46f5",
   "metadata": {},
   "outputs": [],
   "source": [
    "# Converting date column data to date instead of object\n",
    "transactions_df['t_dat'] = pd.to_datetime(transactions_df['t_dat'])"
   ]
  },
  {
   "cell_type": "code",
   "execution_count": 166,
   "id": "1778e25d-4fd3-446f-acc2-949c6e4e5415",
   "metadata": {},
   "outputs": [
    {
     "data": {
      "text/html": [
       "<div>\n",
       "<style scoped>\n",
       "    .dataframe tbody tr th:only-of-type {\n",
       "        vertical-align: middle;\n",
       "    }\n",
       "\n",
       "    .dataframe tbody tr th {\n",
       "        vertical-align: top;\n",
       "    }\n",
       "\n",
       "    .dataframe thead th {\n",
       "        text-align: right;\n",
       "    }\n",
       "</style>\n",
       "<table border=\"1\" class=\"dataframe\">\n",
       "  <thead>\n",
       "    <tr style=\"text-align: right;\">\n",
       "      <th></th>\n",
       "      <th>t_dat</th>\n",
       "      <th>customer_id</th>\n",
       "      <th>article_id</th>\n",
       "      <th>price</th>\n",
       "      <th>sales_channel_id</th>\n",
       "      <th>week</th>\n",
       "      <th>month</th>\n",
       "      <th>dayofweek</th>\n",
       "      <th>season</th>\n",
       "      <th>recency</th>\n",
       "    </tr>\n",
       "  </thead>\n",
       "  <tbody>\n",
       "    <tr>\n",
       "      <th>0</th>\n",
       "      <td>2018-09-20</td>\n",
       "      <td>000058a12d5b43e67d225668fa1f8d618c13dc232df0cad8ffe7ad4a1091e318</td>\n",
       "      <td>663713001</td>\n",
       "      <td>0.050831</td>\n",
       "      <td>2</td>\n",
       "      <td>38</td>\n",
       "      <td>9</td>\n",
       "      <td>3</td>\n",
       "      <td>Fall</td>\n",
       "      <td>673</td>\n",
       "    </tr>\n",
       "    <tr>\n",
       "      <th>1</th>\n",
       "      <td>2018-09-20</td>\n",
       "      <td>000058a12d5b43e67d225668fa1f8d618c13dc232df0cad8ffe7ad4a1091e318</td>\n",
       "      <td>541518023</td>\n",
       "      <td>0.030492</td>\n",
       "      <td>2</td>\n",
       "      <td>38</td>\n",
       "      <td>9</td>\n",
       "      <td>3</td>\n",
       "      <td>Fall</td>\n",
       "      <td>673</td>\n",
       "    </tr>\n",
       "  </tbody>\n",
       "</table>\n",
       "</div>"
      ],
      "text/plain": [
       "       t_dat  \\\n",
       "0 2018-09-20   \n",
       "1 2018-09-20   \n",
       "\n",
       "                                                        customer_id  \\\n",
       "0  000058a12d5b43e67d225668fa1f8d618c13dc232df0cad8ffe7ad4a1091e318   \n",
       "1  000058a12d5b43e67d225668fa1f8d618c13dc232df0cad8ffe7ad4a1091e318   \n",
       "\n",
       "   article_id     price  sales_channel_id  week  month  dayofweek season  \\\n",
       "0   663713001  0.050831                 2    38      9          3   Fall   \n",
       "1   541518023  0.030492                 2    38      9          3   Fall   \n",
       "\n",
       "   recency  \n",
       "0      673  \n",
       "1      673  "
      ]
     },
     "execution_count": 166,
     "metadata": {},
     "output_type": "execute_result"
    }
   ],
   "source": [
    "\n",
    "transactions_df.head(2)"
   ]
  },
  {
   "cell_type": "markdown",
   "id": "5551864f-39fc-4864-be97-29f1437b0e51",
   "metadata": {},
   "source": [
    "Now we are able to sort data by time if needed"
   ]
  },
  {
   "cell_type": "code",
   "execution_count": 167,
   "id": "e1052f77-0600-4b62-952f-e9551943d5dc",
   "metadata": {},
   "outputs": [
    {
     "name": "stdout",
     "output_type": "stream",
     "text": [
      "Transactions Duplicated rows: True\n",
      "Transactions Total of duplicates: 2520912\n"
     ]
    }
   ],
   "source": [
    "#Checking for duplicates in transactions_df:\n",
    "\n",
    "\n",
    "print(f'Transactions Duplicated rows: {transactions_df.duplicated().any()}')\n",
    "\n",
    "print(f'Transactions Total of duplicates: {transactions_df.duplicated().sum()}')\n",
    "\n"
   ]
  },
  {
   "cell_type": "markdown",
   "id": "981b30c3-ee9d-499d-9597-a981acd1f290",
   "metadata": {},
   "source": [
    "Trabsactions Data Frame has duplicate rows! to be able to handle it, we'll review the the flagged rows."
   ]
  },
  {
   "cell_type": "code",
   "execution_count": 168,
   "id": "99349d75-0f75-4513-abdf-3f3283066559",
   "metadata": {},
   "outputs": [
    {
     "data": {
      "text/html": [
       "<div>\n",
       "<style scoped>\n",
       "    .dataframe tbody tr th:only-of-type {\n",
       "        vertical-align: middle;\n",
       "    }\n",
       "\n",
       "    .dataframe tbody tr th {\n",
       "        vertical-align: top;\n",
       "    }\n",
       "\n",
       "    .dataframe thead th {\n",
       "        text-align: right;\n",
       "    }\n",
       "</style>\n",
       "<table border=\"1\" class=\"dataframe\">\n",
       "  <thead>\n",
       "    <tr style=\"text-align: right;\">\n",
       "      <th></th>\n",
       "      <th>t_dat</th>\n",
       "      <th>customer_id</th>\n",
       "      <th>article_id</th>\n",
       "      <th>price</th>\n",
       "      <th>sales_channel_id</th>\n",
       "      <th>week</th>\n",
       "      <th>month</th>\n",
       "      <th>dayofweek</th>\n",
       "      <th>season</th>\n",
       "      <th>recency</th>\n",
       "    </tr>\n",
       "  </thead>\n",
       "  <tbody>\n",
       "    <tr>\n",
       "      <th>14</th>\n",
       "      <td>2018-09-20</td>\n",
       "      <td>000aa7f0dc06cd7174389e76c9e132a67860c5f65f970699daccc14425ac31a8</td>\n",
       "      <td>501820043</td>\n",
       "      <td>0.016932</td>\n",
       "      <td>2</td>\n",
       "      <td>38</td>\n",
       "      <td>9</td>\n",
       "      <td>3</td>\n",
       "      <td>Fall</td>\n",
       "      <td>673</td>\n",
       "    </tr>\n",
       "    <tr>\n",
       "      <th>15</th>\n",
       "      <td>2018-09-20</td>\n",
       "      <td>000aa7f0dc06cd7174389e76c9e132a67860c5f65f970699daccc14425ac31a8</td>\n",
       "      <td>501820043</td>\n",
       "      <td>0.016932</td>\n",
       "      <td>2</td>\n",
       "      <td>38</td>\n",
       "      <td>9</td>\n",
       "      <td>3</td>\n",
       "      <td>Fall</td>\n",
       "      <td>673</td>\n",
       "    </tr>\n",
       "    <tr>\n",
       "      <th>17</th>\n",
       "      <td>2018-09-20</td>\n",
       "      <td>000aa7f0dc06cd7174389e76c9e132a67860c5f65f970699daccc14425ac31a8</td>\n",
       "      <td>671505001</td>\n",
       "      <td>0.033881</td>\n",
       "      <td>2</td>\n",
       "      <td>38</td>\n",
       "      <td>9</td>\n",
       "      <td>3</td>\n",
       "      <td>Fall</td>\n",
       "      <td>673</td>\n",
       "    </tr>\n",
       "    <tr>\n",
       "      <th>18</th>\n",
       "      <td>2018-09-20</td>\n",
       "      <td>000aa7f0dc06cd7174389e76c9e132a67860c5f65f970699daccc14425ac31a8</td>\n",
       "      <td>671505001</td>\n",
       "      <td>0.033881</td>\n",
       "      <td>2</td>\n",
       "      <td>38</td>\n",
       "      <td>9</td>\n",
       "      <td>3</td>\n",
       "      <td>Fall</td>\n",
       "      <td>673</td>\n",
       "    </tr>\n",
       "    <tr>\n",
       "      <th>19</th>\n",
       "      <td>2018-09-20</td>\n",
       "      <td>000aa7f0dc06cd7174389e76c9e132a67860c5f65f970699daccc14425ac31a8</td>\n",
       "      <td>631848002</td>\n",
       "      <td>0.033881</td>\n",
       "      <td>2</td>\n",
       "      <td>38</td>\n",
       "      <td>9</td>\n",
       "      <td>3</td>\n",
       "      <td>Fall</td>\n",
       "      <td>673</td>\n",
       "    </tr>\n",
       "    <tr>\n",
       "      <th>20</th>\n",
       "      <td>2018-09-20</td>\n",
       "      <td>000aa7f0dc06cd7174389e76c9e132a67860c5f65f970699daccc14425ac31a8</td>\n",
       "      <td>631848002</td>\n",
       "      <td>0.033881</td>\n",
       "      <td>2</td>\n",
       "      <td>38</td>\n",
       "      <td>9</td>\n",
       "      <td>3</td>\n",
       "      <td>Fall</td>\n",
       "      <td>673</td>\n",
       "    </tr>\n",
       "    <tr>\n",
       "      <th>21</th>\n",
       "      <td>2018-09-20</td>\n",
       "      <td>000aa7f0dc06cd7174389e76c9e132a67860c5f65f970699daccc14425ac31a8</td>\n",
       "      <td>631848002</td>\n",
       "      <td>0.033881</td>\n",
       "      <td>2</td>\n",
       "      <td>38</td>\n",
       "      <td>9</td>\n",
       "      <td>3</td>\n",
       "      <td>Fall</td>\n",
       "      <td>673</td>\n",
       "    </tr>\n",
       "    <tr>\n",
       "      <th>22</th>\n",
       "      <td>2018-09-20</td>\n",
       "      <td>000aa7f0dc06cd7174389e76c9e132a67860c5f65f970699daccc14425ac31a8</td>\n",
       "      <td>631848002</td>\n",
       "      <td>0.033881</td>\n",
       "      <td>2</td>\n",
       "      <td>38</td>\n",
       "      <td>9</td>\n",
       "      <td>3</td>\n",
       "      <td>Fall</td>\n",
       "      <td>673</td>\n",
       "    </tr>\n",
       "    <tr>\n",
       "      <th>24</th>\n",
       "      <td>2018-09-20</td>\n",
       "      <td>000aa7f0dc06cd7174389e76c9e132a67860c5f65f970699daccc14425ac31a8</td>\n",
       "      <td>676827002</td>\n",
       "      <td>0.042356</td>\n",
       "      <td>2</td>\n",
       "      <td>38</td>\n",
       "      <td>9</td>\n",
       "      <td>3</td>\n",
       "      <td>Fall</td>\n",
       "      <td>673</td>\n",
       "    </tr>\n",
       "    <tr>\n",
       "      <th>25</th>\n",
       "      <td>2018-09-20</td>\n",
       "      <td>000aa7f0dc06cd7174389e76c9e132a67860c5f65f970699daccc14425ac31a8</td>\n",
       "      <td>676827002</td>\n",
       "      <td>0.042356</td>\n",
       "      <td>2</td>\n",
       "      <td>38</td>\n",
       "      <td>9</td>\n",
       "      <td>3</td>\n",
       "      <td>Fall</td>\n",
       "      <td>673</td>\n",
       "    </tr>\n",
       "  </tbody>\n",
       "</table>\n",
       "</div>"
      ],
      "text/plain": [
       "        t_dat  \\\n",
       "14 2018-09-20   \n",
       "15 2018-09-20   \n",
       "17 2018-09-20   \n",
       "18 2018-09-20   \n",
       "19 2018-09-20   \n",
       "20 2018-09-20   \n",
       "21 2018-09-20   \n",
       "22 2018-09-20   \n",
       "24 2018-09-20   \n",
       "25 2018-09-20   \n",
       "\n",
       "                                                         customer_id  \\\n",
       "14  000aa7f0dc06cd7174389e76c9e132a67860c5f65f970699daccc14425ac31a8   \n",
       "15  000aa7f0dc06cd7174389e76c9e132a67860c5f65f970699daccc14425ac31a8   \n",
       "17  000aa7f0dc06cd7174389e76c9e132a67860c5f65f970699daccc14425ac31a8   \n",
       "18  000aa7f0dc06cd7174389e76c9e132a67860c5f65f970699daccc14425ac31a8   \n",
       "19  000aa7f0dc06cd7174389e76c9e132a67860c5f65f970699daccc14425ac31a8   \n",
       "20  000aa7f0dc06cd7174389e76c9e132a67860c5f65f970699daccc14425ac31a8   \n",
       "21  000aa7f0dc06cd7174389e76c9e132a67860c5f65f970699daccc14425ac31a8   \n",
       "22  000aa7f0dc06cd7174389e76c9e132a67860c5f65f970699daccc14425ac31a8   \n",
       "24  000aa7f0dc06cd7174389e76c9e132a67860c5f65f970699daccc14425ac31a8   \n",
       "25  000aa7f0dc06cd7174389e76c9e132a67860c5f65f970699daccc14425ac31a8   \n",
       "\n",
       "    article_id     price  sales_channel_id  week  month  dayofweek season  \\\n",
       "14   501820043  0.016932                 2    38      9          3   Fall   \n",
       "15   501820043  0.016932                 2    38      9          3   Fall   \n",
       "17   671505001  0.033881                 2    38      9          3   Fall   \n",
       "18   671505001  0.033881                 2    38      9          3   Fall   \n",
       "19   631848002  0.033881                 2    38      9          3   Fall   \n",
       "20   631848002  0.033881                 2    38      9          3   Fall   \n",
       "21   631848002  0.033881                 2    38      9          3   Fall   \n",
       "22   631848002  0.033881                 2    38      9          3   Fall   \n",
       "24   676827002  0.042356                 2    38      9          3   Fall   \n",
       "25   676827002  0.042356                 2    38      9          3   Fall   \n",
       "\n",
       "    recency  \n",
       "14      673  \n",
       "15      673  \n",
       "17      673  \n",
       "18      673  \n",
       "19      673  \n",
       "20      673  \n",
       "21      673  \n",
       "22      673  \n",
       "24      673  \n",
       "25      673  "
      ]
     },
     "execution_count": 168,
     "metadata": {},
     "output_type": "execute_result"
    }
   ],
   "source": [
    "transactions_duplicates = transactions_df[transactions_df.duplicated(keep=False)]\n",
    "transactions_duplicates.head(10)"
   ]
  },
  {
   "cell_type": "markdown",
   "id": "e2c0b20f-2912-400e-996e-033941f25abc",
   "metadata": {},
   "source": [
    "Some rows in the dataset may look like duplicates at first, but they actually represent multiple quantities of the same item being purchased in a single transaction by the same customer. \n",
    "As seen above, even though the rows are identical, they’re not mistakes — they tell us that the same item was scanned more than once or purchased in multiple units. This information is important for understanding customer behavior, basket size, and item popularity.\n",
    "\n",
    "So to maintain data integrity and accuracy, ***we will not drop these duplicate rows***."
   ]
  },
  {
   "cell_type": "markdown",
   "id": "a9016282-2feb-482e-9414-d339b7571e61",
   "metadata": {},
   "source": [
    "### Customers Data Frame"
   ]
  },
  {
   "cell_type": "code",
   "execution_count": 169,
   "id": "05e9120b-5620-43d5-ac3f-3dc299fbe6c0",
   "metadata": {},
   "outputs": [
    {
     "data": {
      "text/html": [
       "<div>\n",
       "<style scoped>\n",
       "    .dataframe tbody tr th:only-of-type {\n",
       "        vertical-align: middle;\n",
       "    }\n",
       "\n",
       "    .dataframe tbody tr th {\n",
       "        vertical-align: top;\n",
       "    }\n",
       "\n",
       "    .dataframe thead th {\n",
       "        text-align: right;\n",
       "    }\n",
       "</style>\n",
       "<table border=\"1\" class=\"dataframe\">\n",
       "  <thead>\n",
       "    <tr style=\"text-align: right;\">\n",
       "      <th></th>\n",
       "      <th>customer_id</th>\n",
       "      <th>FN</th>\n",
       "      <th>Active</th>\n",
       "      <th>club_member_status</th>\n",
       "      <th>fashion_news_frequency</th>\n",
       "      <th>age</th>\n",
       "      <th>postal_code</th>\n",
       "      <th>total_purchases</th>\n",
       "      <th>avg_recency</th>\n",
       "    </tr>\n",
       "  </thead>\n",
       "  <tbody>\n",
       "    <tr>\n",
       "      <th>0</th>\n",
       "      <td>00000dbacae5abe5e23885899a1fa44253a17956c6d1c3d25f88aa139fdfc657</td>\n",
       "      <td>NaN</td>\n",
       "      <td>NaN</td>\n",
       "      <td>ACTIVE</td>\n",
       "      <td>NONE</td>\n",
       "      <td>49.0</td>\n",
       "      <td>52043ee2162cf5aa7ee79974281641c6f11a68d276429a91f8ca0d4b6efa8100</td>\n",
       "      <td>20.0</td>\n",
       "      <td>372.65000</td>\n",
       "    </tr>\n",
       "    <tr>\n",
       "      <th>1</th>\n",
       "      <td>0000423b00ade91418cceaf3b26c6af3dd342b51fd051eec9c12fb36984420fa</td>\n",
       "      <td>NaN</td>\n",
       "      <td>NaN</td>\n",
       "      <td>ACTIVE</td>\n",
       "      <td>NONE</td>\n",
       "      <td>25.0</td>\n",
       "      <td>2973abc54daa8a5f8ccfe9362140c63247c5eee03f1d93f4c830291c32bc3057</td>\n",
       "      <td>86.0</td>\n",
       "      <td>385.27907</td>\n",
       "    </tr>\n",
       "  </tbody>\n",
       "</table>\n",
       "</div>"
      ],
      "text/plain": [
       "                                                        customer_id  FN  \\\n",
       "0  00000dbacae5abe5e23885899a1fa44253a17956c6d1c3d25f88aa139fdfc657 NaN   \n",
       "1  0000423b00ade91418cceaf3b26c6af3dd342b51fd051eec9c12fb36984420fa NaN   \n",
       "\n",
       "   Active club_member_status fashion_news_frequency   age  \\\n",
       "0     NaN             ACTIVE                   NONE  49.0   \n",
       "1     NaN             ACTIVE                   NONE  25.0   \n",
       "\n",
       "                                                        postal_code  \\\n",
       "0  52043ee2162cf5aa7ee79974281641c6f11a68d276429a91f8ca0d4b6efa8100   \n",
       "1  2973abc54daa8a5f8ccfe9362140c63247c5eee03f1d93f4c830291c32bc3057   \n",
       "\n",
       "   total_purchases  avg_recency  \n",
       "0             20.0    372.65000  \n",
       "1             86.0    385.27907  "
      ]
     },
     "execution_count": 169,
     "metadata": {},
     "output_type": "execute_result"
    }
   ],
   "source": [
    "customers_df.head(2)"
   ]
  },
  {
   "cell_type": "code",
   "execution_count": 170,
   "id": "dbfeff4e-31d6-47e9-8f3b-94ee645ce86a",
   "metadata": {},
   "outputs": [
    {
     "data": {
      "text/plain": [
       "(1371980, 9)"
      ]
     },
     "execution_count": 170,
     "metadata": {},
     "output_type": "execute_result"
    }
   ],
   "source": [
    "customers_df.shape"
   ]
  },
  {
   "cell_type": "code",
   "execution_count": 171,
   "id": "c1c5b3b8-ae71-4e69-85a3-1d13632f61d4",
   "metadata": {},
   "outputs": [
    {
     "data": {
      "text/html": [
       "<div>\n",
       "<style scoped>\n",
       "    .dataframe tbody tr th:only-of-type {\n",
       "        vertical-align: middle;\n",
       "    }\n",
       "\n",
       "    .dataframe tbody tr th {\n",
       "        vertical-align: top;\n",
       "    }\n",
       "\n",
       "    .dataframe thead th {\n",
       "        text-align: right;\n",
       "    }\n",
       "</style>\n",
       "<table border=\"1\" class=\"dataframe\">\n",
       "  <thead>\n",
       "    <tr style=\"text-align: right;\">\n",
       "      <th></th>\n",
       "      <th>FN</th>\n",
       "      <th>Active</th>\n",
       "      <th>age</th>\n",
       "      <th>total_purchases</th>\n",
       "      <th>avg_recency</th>\n",
       "    </tr>\n",
       "  </thead>\n",
       "  <tbody>\n",
       "    <tr>\n",
       "      <th>count</th>\n",
       "      <td>476930.0</td>\n",
       "      <td>464404.0</td>\n",
       "      <td>1.356119e+06</td>\n",
       "      <td>1.316521e+06</td>\n",
       "      <td>1.316521e+06</td>\n",
       "    </tr>\n",
       "    <tr>\n",
       "      <th>mean</th>\n",
       "      <td>1.0</td>\n",
       "      <td>1.0</td>\n",
       "      <td>3.638696e+01</td>\n",
       "      <td>2.237171e+01</td>\n",
       "      <td>4.005307e+02</td>\n",
       "    </tr>\n",
       "    <tr>\n",
       "      <th>std</th>\n",
       "      <td>0.0</td>\n",
       "      <td>0.0</td>\n",
       "      <td>1.431363e+01</td>\n",
       "      <td>3.705803e+01</td>\n",
       "      <td>1.652600e+02</td>\n",
       "    </tr>\n",
       "    <tr>\n",
       "      <th>min</th>\n",
       "      <td>1.0</td>\n",
       "      <td>1.0</td>\n",
       "      <td>1.600000e+01</td>\n",
       "      <td>1.000000e+00</td>\n",
       "      <td>6.000000e+01</td>\n",
       "    </tr>\n",
       "    <tr>\n",
       "      <th>25%</th>\n",
       "      <td>1.0</td>\n",
       "      <td>1.0</td>\n",
       "      <td>2.400000e+01</td>\n",
       "      <td>3.000000e+00</td>\n",
       "      <td>2.863000e+02</td>\n",
       "    </tr>\n",
       "    <tr>\n",
       "      <th>50%</th>\n",
       "      <td>1.0</td>\n",
       "      <td>1.0</td>\n",
       "      <td>3.200000e+01</td>\n",
       "      <td>9.000000e+00</td>\n",
       "      <td>4.044286e+02</td>\n",
       "    </tr>\n",
       "    <tr>\n",
       "      <th>75%</th>\n",
       "      <td>1.0</td>\n",
       "      <td>1.0</td>\n",
       "      <td>4.900000e+01</td>\n",
       "      <td>2.600000e+01</td>\n",
       "      <td>5.120000e+02</td>\n",
       "    </tr>\n",
       "    <tr>\n",
       "      <th>max</th>\n",
       "      <td>1.0</td>\n",
       "      <td>1.0</td>\n",
       "      <td>9.900000e+01</td>\n",
       "      <td>1.730000e+03</td>\n",
       "      <td>7.330000e+02</td>\n",
       "    </tr>\n",
       "  </tbody>\n",
       "</table>\n",
       "</div>"
      ],
      "text/plain": [
       "             FN    Active           age  total_purchases   avg_recency\n",
       "count  476930.0  464404.0  1.356119e+06     1.316521e+06  1.316521e+06\n",
       "mean        1.0       1.0  3.638696e+01     2.237171e+01  4.005307e+02\n",
       "std         0.0       0.0  1.431363e+01     3.705803e+01  1.652600e+02\n",
       "min         1.0       1.0  1.600000e+01     1.000000e+00  6.000000e+01\n",
       "25%         1.0       1.0  2.400000e+01     3.000000e+00  2.863000e+02\n",
       "50%         1.0       1.0  3.200000e+01     9.000000e+00  4.044286e+02\n",
       "75%         1.0       1.0  4.900000e+01     2.600000e+01  5.120000e+02\n",
       "max         1.0       1.0  9.900000e+01     1.730000e+03  7.330000e+02"
      ]
     },
     "execution_count": 171,
     "metadata": {},
     "output_type": "execute_result"
    }
   ],
   "source": [
    "customers_df.describe()"
   ]
  },
  {
   "cell_type": "code",
   "execution_count": 172,
   "id": "10772148-7da4-4031-aaa3-38ead9defe55",
   "metadata": {},
   "outputs": [
    {
     "name": "stdout",
     "output_type": "stream",
     "text": [
      "<class 'pandas.core.frame.DataFrame'>\n",
      "Int64Index: 1371980 entries, 0 to 1371979\n",
      "Data columns (total 9 columns):\n",
      " #   Column                  Non-Null Count    Dtype  \n",
      "---  ------                  --------------    -----  \n",
      " 0   customer_id             1371980 non-null  object \n",
      " 1   FN                      476930 non-null   float64\n",
      " 2   Active                  464404 non-null   float64\n",
      " 3   club_member_status      1365918 non-null  object \n",
      " 4   fashion_news_frequency  1355971 non-null  object \n",
      " 5   age                     1356119 non-null  float64\n",
      " 6   postal_code             1371980 non-null  object \n",
      " 7   total_purchases         1316521 non-null  float64\n",
      " 8   avg_recency             1316521 non-null  float64\n",
      "dtypes: float64(5), object(4)\n",
      "memory usage: 104.7+ MB\n"
     ]
    }
   ],
   "source": [
    "customers_df.info()"
   ]
  },
  {
   "cell_type": "code",
   "execution_count": 173,
   "id": "3076b92d-0eca-40d6-8e9b-9c425184dafb",
   "metadata": {},
   "outputs": [
    {
     "data": {
      "text/plain": [
       "customer_id                    0\n",
       "FN                        895050\n",
       "Active                    907576\n",
       "club_member_status          6062\n",
       "fashion_news_frequency     16009\n",
       "age                        15861\n",
       "postal_code                    0\n",
       "total_purchases            55459\n",
       "avg_recency                55459\n",
       "dtype: int64"
      ]
     },
     "execution_count": 173,
     "metadata": {},
     "output_type": "execute_result"
    }
   ],
   "source": [
    "customers_df.isna().sum()"
   ]
  },
  {
   "cell_type": "code",
   "execution_count": 174,
   "id": "376895ce-df53-42ff-82d8-ae3942f4a098",
   "metadata": {},
   "outputs": [
    {
     "data": {
      "image/png": "[encoded data removed]",
      "text/plain": [
       "<Figure size 640x480 with 1 Axes>"
      ]
     },
     "metadata": {},
     "output_type": "display_data"
    }
   ],
   "source": [
    "# Plotting Customers Missing Values:\n",
    "\n",
    "customer_missing_values = customers_df.isna().sum()\n",
    "customer_missing_values.plot(kind='bar', title='Missing Values by column', color='darkblue')\n",
    "plt.ylabel('Number of Missing Values')\n",
    "plt.show()\n",
    "\n",
    "\n"
   ]
  },
  {
   "cell_type": "markdown",
   "id": "8b7ab639-f794-4e61-ac4c-636f8f00861a",
   "metadata": {},
   "source": [
    "The customers_df contains several null values across its columns. However, since this analysis focuses only on the customer_id column — which has no missing values — we won’t be exploring the other columns with nulls in detail. The recommendation system will only use the customer_id, so the missing data in other columns won't impact our results."
   ]
  },
  {
   "cell_type": "code",
   "execution_count": 175,
   "id": "37b8e05b-eb3e-4c52-99ee-e896b47310ee",
   "metadata": {},
   "outputs": [
    {
     "name": "stdout",
     "output_type": "stream",
     "text": [
      "Duplicated rows: False\n",
      "Total of duplicates: 0\n"
     ]
    }
   ],
   "source": [
    "#Checking for duplicates:\n",
    "\n",
    "print(f'Duplicated rows: {customers_df.duplicated().any()}')\n",
    "\n",
    "print(f'Total of duplicates: {customers_df.duplicated().sum()}')"
   ]
  },
  {
   "cell_type": "markdown",
   "id": "bd16c3f0-4c17-48be-9d0a-440e56c4ef4f",
   "metadata": {},
   "source": [
    "Our Customers DataFrame doesn't have any duplicates!"
   ]
  },
  {
   "cell_type": "markdown",
   "id": "1f035d9b-6586-4eba-987a-7a047d05dbec",
   "metadata": {},
   "source": [
    "## Exploratory Data Analysis (EDA)"
   ]
  },
  {
   "cell_type": "markdown",
   "id": "ce573bcc-dc6a-498f-912d-f1a3683f020d",
   "metadata": {},
   "source": [
    "### Customers DataFrame EDA"
   ]
  },
  {
   "cell_type": "code",
   "execution_count": 176,
   "id": "dc991105-d048-40a2-a377-19a9e312ab8e",
   "metadata": {},
   "outputs": [
    {
     "name": "stdout",
     "output_type": "stream",
     "text": [
      "There are 1371980 rows and 10 columns in our transactions dataframe.\n",
      " \n"
     ]
    }
   ],
   "source": [
    "print(f\"There are {customers_df.shape[0]} rows and {transactions_df.shape[1]} columns in our transactions dataframe.\\n \")"
   ]
  },
  {
   "cell_type": "code",
   "execution_count": 177,
   "id": "e7d6fe74-3955-4534-bbb1-c489d1710ecf",
   "metadata": {},
   "outputs": [
    {
     "data": {
      "text/html": [
       "<div>\n",
       "<style scoped>\n",
       "    .dataframe tbody tr th:only-of-type {\n",
       "        vertical-align: middle;\n",
       "    }\n",
       "\n",
       "    .dataframe tbody tr th {\n",
       "        vertical-align: top;\n",
       "    }\n",
       "\n",
       "    .dataframe thead th {\n",
       "        text-align: right;\n",
       "    }\n",
       "</style>\n",
       "<table border=\"1\" class=\"dataframe\">\n",
       "  <thead>\n",
       "    <tr style=\"text-align: right;\">\n",
       "      <th></th>\n",
       "      <th>customer_id</th>\n",
       "      <th>FN</th>\n",
       "      <th>Active</th>\n",
       "      <th>club_member_status</th>\n",
       "      <th>fashion_news_frequency</th>\n",
       "      <th>age</th>\n",
       "      <th>postal_code</th>\n",
       "      <th>total_purchases</th>\n",
       "      <th>avg_recency</th>\n",
       "    </tr>\n",
       "  </thead>\n",
       "  <tbody>\n",
       "    <tr>\n",
       "      <th>0</th>\n",
       "      <td>00000dbacae5abe5e23885899a1fa44253a17956c6d1c3d25f88aa139fdfc657</td>\n",
       "      <td>NaN</td>\n",
       "      <td>NaN</td>\n",
       "      <td>ACTIVE</td>\n",
       "      <td>NONE</td>\n",
       "      <td>49.0</td>\n",
       "      <td>52043ee2162cf5aa7ee79974281641c6f11a68d276429a91f8ca0d4b6efa8100</td>\n",
       "      <td>20.0</td>\n",
       "      <td>372.65000</td>\n",
       "    </tr>\n",
       "    <tr>\n",
       "      <th>1</th>\n",
       "      <td>0000423b00ade91418cceaf3b26c6af3dd342b51fd051eec9c12fb36984420fa</td>\n",
       "      <td>NaN</td>\n",
       "      <td>NaN</td>\n",
       "      <td>ACTIVE</td>\n",
       "      <td>NONE</td>\n",
       "      <td>25.0</td>\n",
       "      <td>2973abc54daa8a5f8ccfe9362140c63247c5eee03f1d93f4c830291c32bc3057</td>\n",
       "      <td>86.0</td>\n",
       "      <td>385.27907</td>\n",
       "    </tr>\n",
       "  </tbody>\n",
       "</table>\n",
       "</div>"
      ],
      "text/plain": [
       "                                                        customer_id  FN  \\\n",
       "0  00000dbacae5abe5e23885899a1fa44253a17956c6d1c3d25f88aa139fdfc657 NaN   \n",
       "1  0000423b00ade91418cceaf3b26c6af3dd342b51fd051eec9c12fb36984420fa NaN   \n",
       "\n",
       "   Active club_member_status fashion_news_frequency   age  \\\n",
       "0     NaN             ACTIVE                   NONE  49.0   \n",
       "1     NaN             ACTIVE                   NONE  25.0   \n",
       "\n",
       "                                                        postal_code  \\\n",
       "0  52043ee2162cf5aa7ee79974281641c6f11a68d276429a91f8ca0d4b6efa8100   \n",
       "1  2973abc54daa8a5f8ccfe9362140c63247c5eee03f1d93f4c830291c32bc3057   \n",
       "\n",
       "   total_purchases  avg_recency  \n",
       "0             20.0    372.65000  \n",
       "1             86.0    385.27907  "
      ]
     },
     "execution_count": 177,
     "metadata": {},
     "output_type": "execute_result"
    }
   ],
   "source": [
    "customers_df.head(2)"
   ]
  },
  {
   "cell_type": "code",
   "execution_count": 178,
   "id": "8e5ff990-e4c7-4d5d-860c-3c27e9612e8c",
   "metadata": {},
   "outputs": [
    {
     "name": "stdout",
     "output_type": "stream",
     "text": [
      "<class 'pandas.core.frame.DataFrame'>\n",
      "Int64Index: 1371980 entries, 0 to 1371979\n",
      "Data columns (total 9 columns):\n",
      " #   Column                  Non-Null Count    Dtype  \n",
      "---  ------                  --------------    -----  \n",
      " 0   customer_id             1371980 non-null  object \n",
      " 1   FN                      476930 non-null   float64\n",
      " 2   Active                  464404 non-null   float64\n",
      " 3   club_member_status      1365918 non-null  object \n",
      " 4   fashion_news_frequency  1355971 non-null  object \n",
      " 5   age                     1356119 non-null  float64\n",
      " 6   postal_code             1371980 non-null  object \n",
      " 7   total_purchases         1316521 non-null  float64\n",
      " 8   avg_recency             1316521 non-null  float64\n",
      "dtypes: float64(5), object(4)\n",
      "memory usage: 104.7+ MB\n"
     ]
    }
   ],
   "source": [
    "customers_df.info()"
   ]
  },
  {
   "cell_type": "code",
   "execution_count": 179,
   "id": "951bdd51-1142-4f09-89a7-4b39c7683ab1",
   "metadata": {},
   "outputs": [
    {
     "data": {
      "text/html": [
       "<div>\n",
       "<style scoped>\n",
       "    .dataframe tbody tr th:only-of-type {\n",
       "        vertical-align: middle;\n",
       "    }\n",
       "\n",
       "    .dataframe tbody tr th {\n",
       "        vertical-align: top;\n",
       "    }\n",
       "\n",
       "    .dataframe thead th {\n",
       "        text-align: right;\n",
       "    }\n",
       "</style>\n",
       "<table border=\"1\" class=\"dataframe\">\n",
       "  <thead>\n",
       "    <tr style=\"text-align: right;\">\n",
       "      <th></th>\n",
       "      <th>count</th>\n",
       "      <th>mean</th>\n",
       "      <th>std</th>\n",
       "      <th>min</th>\n",
       "      <th>25%</th>\n",
       "      <th>50%</th>\n",
       "      <th>75%</th>\n",
       "      <th>max</th>\n",
       "    </tr>\n",
       "  </thead>\n",
       "  <tbody>\n",
       "    <tr>\n",
       "      <th>FN</th>\n",
       "      <td>476930.0</td>\n",
       "      <td>1.000000</td>\n",
       "      <td>0.000000</td>\n",
       "      <td>1.0</td>\n",
       "      <td>1.0</td>\n",
       "      <td>1.000000</td>\n",
       "      <td>1.0</td>\n",
       "      <td>1.0</td>\n",
       "    </tr>\n",
       "    <tr>\n",
       "      <th>Active</th>\n",
       "      <td>464404.0</td>\n",
       "      <td>1.000000</td>\n",
       "      <td>0.000000</td>\n",
       "      <td>1.0</td>\n",
       "      <td>1.0</td>\n",
       "      <td>1.000000</td>\n",
       "      <td>1.0</td>\n",
       "      <td>1.0</td>\n",
       "    </tr>\n",
       "    <tr>\n",
       "      <th>age</th>\n",
       "      <td>1356119.0</td>\n",
       "      <td>36.386965</td>\n",
       "      <td>14.313628</td>\n",
       "      <td>16.0</td>\n",
       "      <td>24.0</td>\n",
       "      <td>32.000000</td>\n",
       "      <td>49.0</td>\n",
       "      <td>99.0</td>\n",
       "    </tr>\n",
       "    <tr>\n",
       "      <th>total_purchases</th>\n",
       "      <td>1316521.0</td>\n",
       "      <td>22.371705</td>\n",
       "      <td>37.058029</td>\n",
       "      <td>1.0</td>\n",
       "      <td>3.0</td>\n",
       "      <td>9.000000</td>\n",
       "      <td>26.0</td>\n",
       "      <td>1730.0</td>\n",
       "    </tr>\n",
       "    <tr>\n",
       "      <th>avg_recency</th>\n",
       "      <td>1316521.0</td>\n",
       "      <td>400.530663</td>\n",
       "      <td>165.259978</td>\n",
       "      <td>60.0</td>\n",
       "      <td>286.3</td>\n",
       "      <td>404.428571</td>\n",
       "      <td>512.0</td>\n",
       "      <td>733.0</td>\n",
       "    </tr>\n",
       "  </tbody>\n",
       "</table>\n",
       "</div>"
      ],
      "text/plain": [
       "                     count        mean         std   min    25%         50%  \\\n",
       "FN                476930.0    1.000000    0.000000   1.0    1.0    1.000000   \n",
       "Active            464404.0    1.000000    0.000000   1.0    1.0    1.000000   \n",
       "age              1356119.0   36.386965   14.313628  16.0   24.0   32.000000   \n",
       "total_purchases  1316521.0   22.371705   37.058029   1.0    3.0    9.000000   \n",
       "avg_recency      1316521.0  400.530663  165.259978  60.0  286.3  404.428571   \n",
       "\n",
       "                   75%     max  \n",
       "FN                 1.0     1.0  \n",
       "Active             1.0     1.0  \n",
       "age               49.0    99.0  \n",
       "total_purchases   26.0  1730.0  \n",
       "avg_recency      512.0   733.0  "
      ]
     },
     "execution_count": 179,
     "metadata": {},
     "output_type": "execute_result"
    }
   ],
   "source": [
    "customers_df.describe().T"
   ]
  },
  {
   "cell_type": "markdown",
   "id": "8b0269e2-9d13-4b1c-9903-f45ca9bc2c46",
   "metadata": {},
   "source": [
    "#### Let's take a look at our **Age** distribution!"
   ]
  },
  {
   "cell_type": "code",
   "execution_count": 180,
   "id": "912e828a-7a79-44ec-8990-17e34f110470",
   "metadata": {},
   "outputs": [
    {
     "name": "stdout",
     "output_type": "stream",
     "text": [
      "The median age is 32.0, the mode age is 21.0, and the mean age is 36.39.\n"
     ]
    }
   ],
   "source": [
    "# Calculating median, mode, and mean:\n",
    "\n",
    "median_age = customers_df['age'].median()\n",
    "mode_age = customers_df['age'].mode()[0]  # taking the first most occurring mode age\n",
    "mean_age = customers_df['age'].mean()\n",
    "\n",
    "print(f'The median age is {median_age}, the mode age is {mode_age}, and the mean age is {mean_age:.2f}.')"
   ]
  },
  {
   "cell_type": "markdown",
   "id": "d20bba96-3345-4e55-a44b-d2a5753ceec6",
   "metadata": {},
   "source": [
    "This suggests a right-skewed distribution, where most individuals are younger, but a smaller number of older individuals raise the average age. Let’s take a closer look at the distribution in the graph below!"
   ]
  },
  {
   "cell_type": "code",
   "execution_count": 181,
   "id": "b89c8539-62ac-4c9c-81e6-af0204bdf0bd",
   "metadata": {},
   "outputs": [
    {
     "data": {
      "image/png": "[encoded data removed]",
      "text/plain": [
       "<Figure size 640x480 with 1 Axes>"
      ]
     },
     "metadata": {},
     "output_type": "display_data"
    }
   ],
   "source": [
    "plt.figure()\n",
    "sns.histplot(data=customers_df['age'], binwidth = 5, kde=True, color='darkblue')\n",
    "\n",
    "plt.axvline(median_age, color='red', label=f'Median: {median_age}')\n",
    "plt.axvline(mode_age, color='orange', label=f'Mode: {mode_age}')\n",
    "plt.axvline(mean_age, color='green', label=f'Mean: {mean_age:.2f}')\n",
    "\n",
    "plt.title('Age Distribution')\n",
    "plt.show()"
   ]
  },
  {
   "cell_type": "markdown",
   "id": "018ec304-e45a-43a9-82d1-9dbcf91a0390",
   "metadata": {},
   "source": [
    "Most customers are under 45 years old, with the **largest group between 20 and 30 years old**. Since the customer base is mostly young, it’s important to consider this when analyzing the data and making recommendations. This will help us create solutions that better match their needs."
   ]
  },
  {
   "cell_type": "markdown",
   "id": "bf204262-aaca-4974-ac54-b3e0195f7662",
   "metadata": {},
   "source": [
    "Most customers are under 45 years old, with the biggest group between 20 and 30 years old. Since our customers are mostly young, it’s important to keep this in mind when analyzing the data and making recommendations. This will help us create ideas and solutions that fit their needs better."
   ]
  },
  {
   "cell_type": "markdown",
   "id": "051f45f3-477b-4406-9383-e5485e27e177",
   "metadata": {},
   "source": [
    "#### how often customers like to receive fashion news:"
   ]
  },
  {
   "cell_type": "code",
   "execution_count": 182,
   "id": "0793d49e-bc90-4c8f-bdc8-84783c55872d",
   "metadata": {},
   "outputs": [
    {
     "data": {
      "image/png": "[encoded data removed]",
      "text/plain": [
       "<Figure size 640x480 with 1 Axes>"
      ]
     },
     "metadata": {},
     "output_type": "display_data"
    }
   ],
   "source": [
    "# Fashion News Frequency:\n",
    "\n",
    "sns.countplot(x='fashion_news_frequency', data=customers_df, color='darkblue')\n",
    "\n",
    "plt.title('\\n Fashion News Frequency Count \\n')\n",
    "plt.xlabel('\\n Fashion News Frequency')\n",
    "plt.ylabel('Count \\n')\n",
    "\n",
    "plt.tight_layout()\n",
    "plt.show()"
   ]
  },
  {
   "cell_type": "markdown",
   "id": "026a932a-f547-4139-9581-d0a35669f5e6",
   "metadata": {},
   "source": [
    "The majority of customers prefer not to receive fashion news updates, while a smaller segment has opted to receive them regularly. "
   ]
  },
  {
   "cell_type": "markdown",
   "id": "6532be0b-4eed-4a2a-a84b-87f40fbb7612",
   "metadata": {},
   "source": [
    "#### Customers Membership Status:"
   ]
  },
  {
   "cell_type": "code",
   "execution_count": null,
   "id": "b03ffe9e-7b6c-484c-a20e-3e08cfe2cbf7",
   "metadata": {},
   "outputs": [],
   "source": []
  },
  {
   "cell_type": "code",
   "execution_count": 183,
   "id": "909af5f3-ffcf-4bd8-9e3d-392c22748272",
   "metadata": {},
   "outputs": [
    {
     "data": {
      "image/png": "[encoded data removed]",
      "text/plain": [
       "<Figure size 640x480 with 1 Axes>"
      ]
     },
     "metadata": {},
     "output_type": "display_data"
    }
   ],
   "source": [
    "# Club member status count:\n",
    "\n",
    "sns.countplot(x='club_member_status', data=customers_df, color='darkblue')\n",
    "\n",
    "plt.xlabel('\\n Club Member Status')\n",
    "plt.ylabel('Count \\n')\n",
    "plt.title('\\n Club Member Status Count \\n')\n",
    "\n",
    "plt.tight_layout()\n",
    "plt.show()"
   ]
  },
  {
   "cell_type": "markdown",
   "id": "a5a9eec2-b259-45b7-9ad1-08d4fcf5f3c9",
   "metadata": {},
   "source": [
    "A large portion of the dataset consists of active members in the membership program. This could be because customers who make purchases often create an account, which may automatically enroll them in the program to help track their orders. Even if they haven’t made a purchase in a while, they may still remain enrolled unless they actively choose to opt out."
   ]
  },
  {
   "cell_type": "markdown",
   "id": "0e1a3dcd-4dd1-4497-9639-b1fec1668707",
   "metadata": {},
   "source": [
    "### Transactions DataFrame EDA"
   ]
  },
  {
   "cell_type": "code",
   "execution_count": 184,
   "id": "804cbd29-514b-4a67-9cdf-4d06555e32ef",
   "metadata": {},
   "outputs": [
    {
     "name": "stdout",
     "output_type": "stream",
     "text": [
      "There are 26304917 rows and 10 columns in our transactions dataframe.\n",
      " \n"
     ]
    }
   ],
   "source": [
    "print(f\"There are {transactions_df.shape[0]} rows and {transactions_df.shape[1]} columns in our transactions dataframe.\\n \")"
   ]
  },
  {
   "cell_type": "markdown",
   "id": "defede51-ba42-48b9-bd94-eff0617d38b6",
   "metadata": {},
   "source": [
    "We’re working with a large transaction dataset with over 31 million rows. We'll address how to manage and utilize this high-volume data as part of our recommendation strategy later in the analysis."
   ]
  },
  {
   "cell_type": "code",
   "execution_count": 185,
   "id": "2412d3ad-c5a8-41ec-92da-954073808870",
   "metadata": {},
   "outputs": [
    {
     "data": {
      "text/html": [
       "<div>\n",
       "<style scoped>\n",
       "    .dataframe tbody tr th:only-of-type {\n",
       "        vertical-align: middle;\n",
       "    }\n",
       "\n",
       "    .dataframe tbody tr th {\n",
       "        vertical-align: top;\n",
       "    }\n",
       "\n",
       "    .dataframe thead th {\n",
       "        text-align: right;\n",
       "    }\n",
       "</style>\n",
       "<table border=\"1\" class=\"dataframe\">\n",
       "  <thead>\n",
       "    <tr style=\"text-align: right;\">\n",
       "      <th></th>\n",
       "      <th>t_dat</th>\n",
       "      <th>customer_id</th>\n",
       "      <th>article_id</th>\n",
       "      <th>price</th>\n",
       "      <th>sales_channel_id</th>\n",
       "      <th>week</th>\n",
       "      <th>month</th>\n",
       "      <th>dayofweek</th>\n",
       "      <th>season</th>\n",
       "      <th>recency</th>\n",
       "    </tr>\n",
       "  </thead>\n",
       "  <tbody>\n",
       "    <tr>\n",
       "      <th>0</th>\n",
       "      <td>2018-09-20</td>\n",
       "      <td>000058a12d5b43e67d225668fa1f8d618c13dc232df0cad8ffe7ad4a1091e318</td>\n",
       "      <td>663713001</td>\n",
       "      <td>0.050831</td>\n",
       "      <td>2</td>\n",
       "      <td>38</td>\n",
       "      <td>9</td>\n",
       "      <td>3</td>\n",
       "      <td>Fall</td>\n",
       "      <td>673</td>\n",
       "    </tr>\n",
       "    <tr>\n",
       "      <th>1</th>\n",
       "      <td>2018-09-20</td>\n",
       "      <td>000058a12d5b43e67d225668fa1f8d618c13dc232df0cad8ffe7ad4a1091e318</td>\n",
       "      <td>541518023</td>\n",
       "      <td>0.030492</td>\n",
       "      <td>2</td>\n",
       "      <td>38</td>\n",
       "      <td>9</td>\n",
       "      <td>3</td>\n",
       "      <td>Fall</td>\n",
       "      <td>673</td>\n",
       "    </tr>\n",
       "  </tbody>\n",
       "</table>\n",
       "</div>"
      ],
      "text/plain": [
       "       t_dat  \\\n",
       "0 2018-09-20   \n",
       "1 2018-09-20   \n",
       "\n",
       "                                                        customer_id  \\\n",
       "0  000058a12d5b43e67d225668fa1f8d618c13dc232df0cad8ffe7ad4a1091e318   \n",
       "1  000058a12d5b43e67d225668fa1f8d618c13dc232df0cad8ffe7ad4a1091e318   \n",
       "\n",
       "   article_id     price  sales_channel_id  week  month  dayofweek season  \\\n",
       "0   663713001  0.050831                 2    38      9          3   Fall   \n",
       "1   541518023  0.030492                 2    38      9          3   Fall   \n",
       "\n",
       "   recency  \n",
       "0      673  \n",
       "1      673  "
      ]
     },
     "execution_count": 185,
     "metadata": {},
     "output_type": "execute_result"
    }
   ],
   "source": [
    "transactions_df.head(2)"
   ]
  },
  {
   "cell_type": "code",
   "execution_count": 186,
   "id": "15ad61fc-94ed-47d6-a701-6601456ea3f5",
   "metadata": {},
   "outputs": [
    {
     "name": "stdout",
     "output_type": "stream",
     "text": [
      "<class 'pandas.core.frame.DataFrame'>\n",
      "Int64Index: 26304917 entries, 0 to 26304916\n",
      "Data columns (total 10 columns):\n",
      " #   Column            Dtype         \n",
      "---  ------            -----         \n",
      " 0   t_dat             datetime64[ns]\n",
      " 1   customer_id       object        \n",
      " 2   article_id        int64         \n",
      " 3   price             float64       \n",
      " 4   sales_channel_id  int64         \n",
      " 5   week              UInt32        \n",
      " 6   month             int64         \n",
      " 7   dayofweek         int64         \n",
      " 8   season            object        \n",
      " 9   recency           int64         \n",
      "dtypes: UInt32(1), datetime64[ns](1), float64(1), int64(5), object(2)\n",
      "memory usage: 2.1+ GB\n"
     ]
    }
   ],
   "source": [
    "transactions_df.info()"
   ]
  },
  {
   "cell_type": "code",
   "execution_count": 187,
   "id": "cfabd786-f7b4-437a-91a7-2c4bfffc9df3",
   "metadata": {},
   "outputs": [
    {
     "data": {
      "text/html": [
       "<div>\n",
       "<style scoped>\n",
       "    .dataframe tbody tr th:only-of-type {\n",
       "        vertical-align: middle;\n",
       "    }\n",
       "\n",
       "    .dataframe tbody tr th {\n",
       "        vertical-align: top;\n",
       "    }\n",
       "\n",
       "    .dataframe thead th {\n",
       "        text-align: right;\n",
       "    }\n",
       "</style>\n",
       "<table border=\"1\" class=\"dataframe\">\n",
       "  <thead>\n",
       "    <tr style=\"text-align: right;\">\n",
       "      <th></th>\n",
       "      <th>count</th>\n",
       "      <th>mean</th>\n",
       "      <th>std</th>\n",
       "      <th>min</th>\n",
       "      <th>25%</th>\n",
       "      <th>50%</th>\n",
       "      <th>75%</th>\n",
       "      <th>max</th>\n",
       "    </tr>\n",
       "  </thead>\n",
       "  <tbody>\n",
       "    <tr>\n",
       "      <th>article_id</th>\n",
       "      <td>26304917.0</td>\n",
       "      <td>677401136.660139</td>\n",
       "      <td>126998532.624957</td>\n",
       "      <td>108775015.0</td>\n",
       "      <td>619884001.0</td>\n",
       "      <td>699934001.0</td>\n",
       "      <td>759871013.0</td>\n",
       "      <td>921096004.0</td>\n",
       "    </tr>\n",
       "    <tr>\n",
       "      <th>price</th>\n",
       "      <td>26304917.0</td>\n",
       "      <td>0.028146</td>\n",
       "      <td>0.019532</td>\n",
       "      <td>0.000017</td>\n",
       "      <td>0.016017</td>\n",
       "      <td>0.025407</td>\n",
       "      <td>0.033881</td>\n",
       "      <td>0.591525</td>\n",
       "    </tr>\n",
       "    <tr>\n",
       "      <th>sales_channel_id</th>\n",
       "      <td>26304917.0</td>\n",
       "      <td>1.715038</td>\n",
       "      <td>0.451396</td>\n",
       "      <td>1.0</td>\n",
       "      <td>1.0</td>\n",
       "      <td>2.0</td>\n",
       "      <td>2.0</td>\n",
       "      <td>2.0</td>\n",
       "    </tr>\n",
       "    <tr>\n",
       "      <th>week</th>\n",
       "      <td>26304917.0</td>\n",
       "      <td>26.063355</td>\n",
       "      <td>15.466734</td>\n",
       "      <td>1.0</td>\n",
       "      <td>13.0</td>\n",
       "      <td>25.0</td>\n",
       "      <td>41.0</td>\n",
       "      <td>52.0</td>\n",
       "    </tr>\n",
       "    <tr>\n",
       "      <th>month</th>\n",
       "      <td>26304917.0</td>\n",
       "      <td>6.393736</td>\n",
       "      <td>3.547332</td>\n",
       "      <td>1.0</td>\n",
       "      <td>3.0</td>\n",
       "      <td>6.0</td>\n",
       "      <td>10.0</td>\n",
       "      <td>12.0</td>\n",
       "    </tr>\n",
       "    <tr>\n",
       "      <th>dayofweek</th>\n",
       "      <td>26304917.0</td>\n",
       "      <td>3.077649</td>\n",
       "      <td>1.943183</td>\n",
       "      <td>0.0</td>\n",
       "      <td>1.0</td>\n",
       "      <td>3.0</td>\n",
       "      <td>5.0</td>\n",
       "      <td>6.0</td>\n",
       "    </tr>\n",
       "    <tr>\n",
       "      <th>recency</th>\n",
       "      <td>26304917.0</td>\n",
       "      <td>376.307088</td>\n",
       "      <td>173.079949</td>\n",
       "      <td>60.0</td>\n",
       "      <td>236.0</td>\n",
       "      <td>388.0</td>\n",
       "      <td>517.0</td>\n",
       "      <td>673.0</td>\n",
       "    </tr>\n",
       "  </tbody>\n",
       "</table>\n",
       "</div>"
      ],
      "text/plain": [
       "                       count              mean               std          min  \\\n",
       "article_id        26304917.0  677401136.660139  126998532.624957  108775015.0   \n",
       "price             26304917.0          0.028146          0.019532     0.000017   \n",
       "sales_channel_id  26304917.0          1.715038          0.451396          1.0   \n",
       "week              26304917.0         26.063355         15.466734          1.0   \n",
       "month             26304917.0          6.393736          3.547332          1.0   \n",
       "dayofweek         26304917.0          3.077649          1.943183          0.0   \n",
       "recency           26304917.0        376.307088        173.079949         60.0   \n",
       "\n",
       "                          25%          50%          75%          max  \n",
       "article_id        619884001.0  699934001.0  759871013.0  921096004.0  \n",
       "price                0.016017     0.025407     0.033881     0.591525  \n",
       "sales_channel_id          1.0          2.0          2.0          2.0  \n",
       "week                     13.0         25.0         41.0         52.0  \n",
       "month                     3.0          6.0         10.0         12.0  \n",
       "dayofweek                 1.0          3.0          5.0          6.0  \n",
       "recency                 236.0        388.0        517.0        673.0  "
      ]
     },
     "execution_count": 187,
     "metadata": {},
     "output_type": "execute_result"
    }
   ],
   "source": [
    "transactions_df.describe().T"
   ]
  },
  {
   "cell_type": "markdown",
   "id": "5ecccfb6-0c1d-4b3d-8fe6-662d3bc75809",
   "metadata": {},
   "source": [
    "The price column in the transactions dataset appears to be normalized or scaled already. Here's why:\n",
    "\n",
    "The prices range from ~0.000016 to ~0.59, which is much smaller than actual currency values you would expect in a retail dataset.\n",
    "\n",
    "This likely indicates that:\n",
    "\n",
    "    1- The prices were scaled down (e.g., divided by 100 or 1000) by H&M before sharing.\n",
    "\n",
    "    2- The prices are represented as proportional values, possibly for privacy or uniformity reasons.\n",
    "\n",
    "Because of this pre-scaling, we do not need to apply additional normalization or standardization at this stage. These values are ready to be used as input features directly for EDA, feature engineering, or modeling (e.g., as input to recommenders).\n",
    "\n"
   ]
  },
  {
   "cell_type": "markdown",
   "id": "9689ad63-5ad4-4669-8251-d050d549a2b7",
   "metadata": {},
   "source": [
    "### Articles DataFrame EDA"
   ]
  },
  {
   "cell_type": "code",
   "execution_count": 188,
   "id": "3955e642-cbd9-41e6-a0e2-2abd61fbc3d4",
   "metadata": {},
   "outputs": [
    {
     "name": "stdout",
     "output_type": "stream",
     "text": [
      "There are 105107 rows and 28 columns in our articles dataframe.\n",
      " \n"
     ]
    }
   ],
   "source": [
    "print(f\"There are {articles_df.shape[0]} rows and {articles_df.shape[1]} columns in our articles dataframe.\\n \")"
   ]
  },
  {
   "cell_type": "code",
   "execution_count": 189,
   "id": "211acaea-d706-4e24-889d-d260c03f633a",
   "metadata": {},
   "outputs": [
    {
     "data": {
      "text/html": [
       "<div>\n",
       "<style scoped>\n",
       "    .dataframe tbody tr th:only-of-type {\n",
       "        vertical-align: middle;\n",
       "    }\n",
       "\n",
       "    .dataframe tbody tr th {\n",
       "        vertical-align: top;\n",
       "    }\n",
       "\n",
       "    .dataframe thead th {\n",
       "        text-align: right;\n",
       "    }\n",
       "</style>\n",
       "<table border=\"1\" class=\"dataframe\">\n",
       "  <thead>\n",
       "    <tr style=\"text-align: right;\">\n",
       "      <th></th>\n",
       "      <th>article_id</th>\n",
       "      <th>product_code</th>\n",
       "      <th>prod_name</th>\n",
       "      <th>product_type_no</th>\n",
       "      <th>product_type_name</th>\n",
       "      <th>product_group_name</th>\n",
       "      <th>graphical_appearance_no</th>\n",
       "      <th>graphical_appearance_name</th>\n",
       "      <th>colour_group_code</th>\n",
       "      <th>colour_group_name</th>\n",
       "      <th>...</th>\n",
       "      <th>index_group_no</th>\n",
       "      <th>index_group_name</th>\n",
       "      <th>section_no</th>\n",
       "      <th>section_name</th>\n",
       "      <th>garment_group_no</th>\n",
       "      <th>garment_group_name</th>\n",
       "      <th>detail_desc</th>\n",
       "      <th>desc_length</th>\n",
       "      <th>preprocessed_desc</th>\n",
       "      <th>popularity</th>\n",
       "    </tr>\n",
       "  </thead>\n",
       "  <tbody>\n",
       "    <tr>\n",
       "      <th>0</th>\n",
       "      <td>108775015</td>\n",
       "      <td>108775</td>\n",
       "      <td>Strap top</td>\n",
       "      <td>253</td>\n",
       "      <td>Vest top</td>\n",
       "      <td>Garment Upper body</td>\n",
       "      <td>1010016</td>\n",
       "      <td>Solid</td>\n",
       "      <td>9</td>\n",
       "      <td>Black</td>\n",
       "      <td>...</td>\n",
       "      <td>1</td>\n",
       "      <td>Ladieswear</td>\n",
       "      <td>16</td>\n",
       "      <td>Womens Everyday Basics</td>\n",
       "      <td>1002</td>\n",
       "      <td>Jersey Basic</td>\n",
       "      <td>Jersey top with narrow shoulder straps.</td>\n",
       "      <td>39.0</td>\n",
       "      <td>jersey top narrow shoulder strap</td>\n",
       "      <td>10841.0</td>\n",
       "    </tr>\n",
       "    <tr>\n",
       "      <th>1</th>\n",
       "      <td>108775044</td>\n",
       "      <td>108775</td>\n",
       "      <td>Strap top</td>\n",
       "      <td>253</td>\n",
       "      <td>Vest top</td>\n",
       "      <td>Garment Upper body</td>\n",
       "      <td>1010016</td>\n",
       "      <td>Solid</td>\n",
       "      <td>10</td>\n",
       "      <td>White</td>\n",
       "      <td>...</td>\n",
       "      <td>1</td>\n",
       "      <td>Ladieswear</td>\n",
       "      <td>16</td>\n",
       "      <td>Womens Everyday Basics</td>\n",
       "      <td>1002</td>\n",
       "      <td>Jersey Basic</td>\n",
       "      <td>Jersey top with narrow shoulder straps.</td>\n",
       "      <td>39.0</td>\n",
       "      <td>jersey top narrow shoulder strap</td>\n",
       "      <td>7212.0</td>\n",
       "    </tr>\n",
       "  </tbody>\n",
       "</table>\n",
       "<p>2 rows × 28 columns</p>\n",
       "</div>"
      ],
      "text/plain": [
       "   article_id  product_code  prod_name  product_type_no product_type_name  \\\n",
       "0   108775015        108775  Strap top              253          Vest top   \n",
       "1   108775044        108775  Strap top              253          Vest top   \n",
       "\n",
       "   product_group_name  graphical_appearance_no graphical_appearance_name  \\\n",
       "0  Garment Upper body                  1010016                     Solid   \n",
       "1  Garment Upper body                  1010016                     Solid   \n",
       "\n",
       "   colour_group_code colour_group_name  ...  index_group_no index_group_name  \\\n",
       "0                  9             Black  ...               1       Ladieswear   \n",
       "1                 10             White  ...               1       Ladieswear   \n",
       "\n",
       "   section_no            section_name  garment_group_no garment_group_name  \\\n",
       "0          16  Womens Everyday Basics              1002       Jersey Basic   \n",
       "1          16  Womens Everyday Basics              1002       Jersey Basic   \n",
       "\n",
       "                               detail_desc desc_length  \\\n",
       "0  Jersey top with narrow shoulder straps.        39.0   \n",
       "1  Jersey top with narrow shoulder straps.        39.0   \n",
       "\n",
       "                  preprocessed_desc popularity  \n",
       "0  jersey top narrow shoulder strap    10841.0  \n",
       "1  jersey top narrow shoulder strap     7212.0  \n",
       "\n",
       "[2 rows x 28 columns]"
      ]
     },
     "execution_count": 189,
     "metadata": {},
     "output_type": "execute_result"
    }
   ],
   "source": [
    "articles_df.head(2)"
   ]
  },
  {
   "cell_type": "code",
   "execution_count": 190,
   "id": "b0000d69-df2b-4cca-9e9d-6778bc38340a",
   "metadata": {},
   "outputs": [
    {
     "name": "stdout",
     "output_type": "stream",
     "text": [
      "<class 'pandas.core.frame.DataFrame'>\n",
      "Int64Index: 105107 entries, 0 to 105522\n",
      "Data columns (total 28 columns):\n",
      " #   Column                        Non-Null Count   Dtype  \n",
      "---  ------                        --------------   -----  \n",
      " 0   article_id                    105107 non-null  int64  \n",
      " 1   product_code                  105107 non-null  int64  \n",
      " 2   prod_name                     105107 non-null  object \n",
      " 3   product_type_no               105107 non-null  int64  \n",
      " 4   product_type_name             105107 non-null  object \n",
      " 5   product_group_name            105107 non-null  object \n",
      " 6   graphical_appearance_no       105107 non-null  int64  \n",
      " 7   graphical_appearance_name     105107 non-null  object \n",
      " 8   colour_group_code             105107 non-null  int64  \n",
      " 9   colour_group_name             105107 non-null  object \n",
      " 10  perceived_colour_value_id     105107 non-null  int64  \n",
      " 11  perceived_colour_value_name   105107 non-null  object \n",
      " 12  perceived_colour_master_id    105107 non-null  int64  \n",
      " 13  perceived_colour_master_name  105107 non-null  object \n",
      " 14  department_no                 105107 non-null  int64  \n",
      " 15  department_name               105107 non-null  object \n",
      " 16  index_code                    105107 non-null  object \n",
      " 17  index_name                    105107 non-null  object \n",
      " 18  index_group_no                105107 non-null  int64  \n",
      " 19  index_group_name              105107 non-null  object \n",
      " 20  section_no                    105107 non-null  int64  \n",
      " 21  section_name                  105107 non-null  object \n",
      " 22  garment_group_no              105107 non-null  int64  \n",
      " 23  garment_group_name            105107 non-null  object \n",
      " 24  detail_desc                   105107 non-null  object \n",
      " 25  desc_length                   105107 non-null  float64\n",
      " 26  preprocessed_desc             105107 non-null  object \n",
      " 27  popularity                    105107 non-null  float64\n",
      "dtypes: float64(2), int64(11), object(15)\n",
      "memory usage: 27.3+ MB\n"
     ]
    }
   ],
   "source": [
    "articles_df.info()\n"
   ]
  },
  {
   "cell_type": "code",
   "execution_count": 191,
   "id": "2995199e-701b-439d-aa1c-283d3842ef30",
   "metadata": {},
   "outputs": [
    {
     "data": {
      "text/plain": [
       "Garment Upper body     42593\n",
       "Garment Lower body     19763\n",
       "Garment Full body      13245\n",
       "Accessories            11141\n",
       "Underwear               5449\n",
       "Shoes                   5196\n",
       "Swimwear                3104\n",
       "Socks & Tights          2438\n",
       "Nightwear               1899\n",
       "Unknown                  121\n",
       "Underwear/nightwear       54\n",
       "Cosmetic                  49\n",
       "Bags                      25\n",
       "Items                     17\n",
       "Furniture                 13\n",
       "Name: product_group_name, dtype: int64"
      ]
     },
     "execution_count": 191,
     "metadata": {},
     "output_type": "execute_result"
    }
   ],
   "source": [
    "product_group_counts = articles_df['product_group_name'].value_counts()\n",
    "product_group_counts"
   ]
  },
  {
   "cell_type": "code",
   "execution_count": 192,
   "id": "1f104664-6461-4573-acef-7767e6f9a757",
   "metadata": {},
   "outputs": [
    {
     "data": {
      "text/plain": [
       "Garment Upper body     42593\n",
       "Garment Lower body     19763\n",
       "Garment Full body      13245\n",
       "Accessories            11141\n",
       "Underwear               5449\n",
       "Shoes                   5196\n",
       "Swimwear                3104\n",
       "Socks & Tights          2438\n",
       "Nightwear               1899\n",
       "Unknown                  121\n",
       "Underwear/nightwear       54\n",
       "Cosmetic                  49\n",
       "Bags                      25\n",
       "Items                     17\n",
       "Furniture                 13\n",
       "Name: product_group_name, dtype: int64"
      ]
     },
     "execution_count": 192,
     "metadata": {},
     "output_type": "execute_result"
    }
   ],
   "source": [
    "selected_product_group = product_group_counts[product_group_counts > 9].index\n",
    "selected_product_group\n",
    "articles_df = articles_df[articles_df[\"product_group_name\"].isin(selected_product_group)]\n",
    "articles_df[\"product_group_name\"].value_counts()"
   ]
  },
  {
   "cell_type": "markdown",
   "id": "f5da68a3-e94c-441a-8ae9-80fb30071e5f",
   "metadata": {},
   "source": [
    "The distribution of product_group_name in the articles dataset shows some categories had fewer than 9 items (\"Fun\", \"Stationery\", \"Interior textile\"), which are either out of scope for a fashion recommender or too rare to extract meaningful patterns. To reduce noise and improve model quality, we removed these rare product groups."
   ]
  },
  {
   "cell_type": "code",
   "execution_count": 193,
   "id": "3eaf7368-adbe-4b0e-9d7d-7d2b32974619",
   "metadata": {},
   "outputs": [
    {
     "data": {
      "image/png": "[encoded data removed]",
      "text/plain": [
       "<Figure size 640x480 with 1 Axes>"
      ]
     },
     "metadata": {},
     "output_type": "display_data"
    }
   ],
   "source": [
    "index_group_name_counts = articles_df['index_group_name'].value_counts()\n",
    "\n",
    "plt.figure()\n",
    "sns.barplot(x=index_group_name_counts, y=index_group_name_counts.index,color='navy')\n",
    "\n",
    "plt.xticks(rotation=45)\n",
    "plt.xlabel(\"Count of Index\")\n",
    "plt.ylabel(\"Index Group\")\n",
    "plt.title(\"Index Groups\")\n",
    "\n",
    "plt.show()"
   ]
  },
  {
   "cell_type": "code",
   "execution_count": 194,
   "id": "6d968a74-7e18-42d0-ae2b-a5ec758ccced",
   "metadata": {},
   "outputs": [
    {
     "data": {
      "text/plain": [
       "Backpack                  6\n",
       "Straw hat                 6\n",
       "Sleep Bag                 6\n",
       "Alice band                6\n",
       "Cross-body bag            5\n",
       "Mobile case               4\n",
       "Moccasins                 4\n",
       "Chem. cosmetics           3\n",
       "Baby Bib                  3\n",
       "Braces                    3\n",
       "Tote bag                  2\n",
       "Eyeglasses                2\n",
       "Wireless earphone case    2\n",
       "Hairband                  2\n",
       "Shoulder bag              2\n",
       "Headband                  1\n",
       "Pre-walkers               1\n",
       "Bumbag                    1\n",
       "Bra extender              1\n",
       "Keychain                  1\n",
       "Name: product_type_name, dtype: int64"
      ]
     },
     "execution_count": 194,
     "metadata": {},
     "output_type": "execute_result"
    }
   ],
   "source": [
    "articles_df[\"product_type_name\"].value_counts().tail(20)"
   ]
  },
  {
   "cell_type": "code",
   "execution_count": 195,
   "id": "45c966d8-0af5-4d53-be9d-84e4ca4197df",
   "metadata": {},
   "outputs": [
    {
     "data": {
      "image/png": "[encoded data removed]",
      "text/plain": [
       "<Figure size 1000x600 with 1 Axes>"
      ]
     },
     "metadata": {},
     "output_type": "display_data"
    }
   ],
   "source": [
    "top_10_products = articles_df['product_type_name'].value_counts().head(10)\n",
    "\n",
    "\n",
    "plt.figure(figsize=(10,6))\n",
    "sns.barplot(x=top_10_products.values, y=top_10_products.index,color='navy')\n",
    "\n",
    "# plt.xticks(rotation=90)\n",
    "plt.xlabel(\"Number of Articles\")\n",
    "plt.ylabel(\"Product Types\")\n",
    "plt.title(\"Top 10 Prouct Types\")\n",
    "plt.show()"
   ]
  },
  {
   "cell_type": "markdown",
   "id": "77ce35cd-df2d-49af-b7b8-17fa24990bad",
   "metadata": {},
   "source": [
    "We examined the most common product types in the dataset. The top 10 most frequent items include essential wardrobe staples such as trousers, dresses, sweaters, and T-shirts. These categories dominate the dataset, with trousers being the most represented, followed by dresses and sweaters.\n",
    "\n",
    "This distribution suggests that H&M’s product offerings are heavily focused on casual and core apparel, which may influence customer purchase behavior and should be considered in the recommendation logic.\n",
    "\n",
    "<!-- Since these product types are well-represented, they provide a solid foundation for both collaborative filtering models (due to their frequency) and content-based approaches (with ample data to extract features from descriptions, prices, or style details). -->"
   ]
  },
  {
   "cell_type": "code",
   "execution_count": 196,
   "id": "5fcef930-edd6-4c73-9a8d-2c533a895a99",
   "metadata": {},
   "outputs": [
    {
     "data": {
      "image/png": "[encoded data removed]",
      "text/plain": [
       "<Figure size 640x480 with 1 Axes>"
      ]
     },
     "metadata": {},
     "output_type": "display_data"
    }
   ],
   "source": [
    "# Top 10 Articles by Color Group:\n",
    "\n",
    "color_group_counts = articles_df['colour_group_name'].value_counts().head(10)\n",
    "sns.barplot(x=color_group_counts.values, y=color_group_counts.index,color='navy')\n",
    "\n",
    "plt.title('\\n Top 10 Color Groups \\n')\n",
    "plt.xlabel('\\n Number of Articles')\n",
    "plt.ylabel('Color Group \\n')\n",
    "plt.show()\n"
   ]
  },
  {
   "cell_type": "code",
   "execution_count": 197,
   "id": "67c729ca-60b4-4d9b-8947-f1030a7cd88e",
   "metadata": {},
   "outputs": [
    {
     "data": {
      "text/plain": [
       "T-shirt in printed cotton jersey.                                                      159\n",
       "Leggings in soft organic cotton jersey with an elasticated waist.                      138\n",
       "T-shirt in soft, printed cotton jersey.                                                137\n",
       "Socks in a soft, jacquard-knit cotton blend with elasticated tops.                     136\n",
       "Fine-knit trainer socks in a soft cotton blend with elasticated tops.                  134\n",
       "Socks in a soft, fine-knit cotton blend with elasticated tops.                         118\n",
       "Sunglasses with plastic frames and UV-protective, tinted lenses.                       117\n",
       "Boxer shorts in a cotton weave with an elasticated waist, long legs and button fly.    104\n",
       "Tights in a soft, fine-knit cotton blend with an elasticated waist.                     97\n",
       "Fine-knit socks in a soft cotton blend.                                                 97\n",
       "Name: detail_desc, dtype: int64"
      ]
     },
     "execution_count": 197,
     "metadata": {},
     "output_type": "execute_result"
    }
   ],
   "source": [
    "articles_df['detail_desc'].value_counts().head(10)"
   ]
  },
  {
   "cell_type": "code",
   "execution_count": 198,
   "id": "0db17841-35f3-47e3-ad6c-c8dcb3b2a454",
   "metadata": {},
   "outputs": [
    {
     "name": "stdout",
     "output_type": "stream",
     "text": [
      "Total unique description: 43391\n",
      "1,Pile-lined jacket in imitation suede with a pile-lined stand-up collar with a fastening. Zip down the front and open front pockets.\n",
      "\n",
      "2,Jacket in Tencel™ lyocell twill with rounded lapels, a drawstring at the waist, a concealed press-stud fastening at the front and long sleeves. Unlined.\n",
      "\n",
      "3,Fitted vest top in ribbed jersey in a narrow cut at the top.\n",
      "\n",
      "4,Short sports tights in fast-drying functional fabric with a wide waistband to hold in and shape the waist. Concealed key pocket in the waistband.\n",
      "\n",
      "5,Top in sweatshirt fabric with a lined drawstring hood, and text print on the front. Long sleeves, a kangaroo pocket, and ribbing at the cuffs and hem. Soft brushed inside.\n",
      "\n",
      "6,5-pocket, high-waisted, ankle-length jeans in washed cotton denim with hard-worn details. Sewn-on belt with metal rings, a zip fly and concealed hook-and-eye fastener, and straight legs.\n",
      "\n",
      "7,Blouse in woven fabric with a small stand-up collar with buttons at the back of the neck, a cut-out section at the back and short trumpet sleeves.\n",
      "\n",
      "8,Long, sleeveless dress in sturdy satin with a deep V-neck and adjustable spaghetti shoulder straps. Concealed zip and hook-and-eye fastener at one side, a seam at the waist and a flared, segmented skirt. Satin lining.\n",
      "\n",
      "9,Thin metal snake chain necklaces with rectangular pendants in metal and plastic. Adjustable length 50-57 cm and 75-82 cm.\n",
      "\n",
      "10,Long, straight-cut shirt jacket in woven fabric with a collar, buttons down the front and a yoke at the back. Flap chest pockets and concealed pockets in the side seams. Dropped shoulders, long, wide sleeves with buttoned cuffs, and a rounded hem. Slightly longer at the back. Lined.\n",
      "\n"
     ]
    }
   ],
   "source": [
    "# Adjust display to show full description text\n",
    "pd.set_option('display.max_colwidth', None)\n",
    "\n",
    "unique_descriptions = articles_df['detail_desc'].unique()\n",
    "\n",
    "print(f\"Total unique description: {len(unique_descriptions)}\")\n",
    "\n",
    "unique_descriptions_series = pd.Series(unique_descriptions)\n",
    "sample_description = unique_descriptions_series.sample(10, random_state=42)\n",
    "for i, desc in enumerate(sample_description, 1):\n",
    "    print(f\"{i},{desc}\\n\")"
   ]
  },
  {
   "cell_type": "markdown",
   "id": "636613db-f0dc-4648-9860-d70eaa822b59",
   "metadata": {},
   "source": [
    "Since our NLP recommender system will rely heavily on product descriptions, it’s important to explore and clean the detail_desc column to ensure high-quality input for embeddings and downstream tasks."
   ]
  },
  {
   "cell_type": "code",
   "execution_count": 199,
   "id": "2867f1bc-1a57-478c-ae01-a9114ff91b62",
   "metadata": {},
   "outputs": [
    {
     "data": {
      "text/plain": [
       "count    105107.000000\n",
       "mean        142.137879\n",
       "std          68.059697\n",
       "min          11.000000\n",
       "25%          94.000000\n",
       "50%         132.000000\n",
       "75%         178.000000\n",
       "max         764.000000\n",
       "Name: desc_length, dtype: float64"
      ]
     },
     "execution_count": 199,
     "metadata": {},
     "output_type": "execute_result"
    }
   ],
   "source": [
    "articles_df['desc_length'] = articles_df['detail_desc'].str.len()\n",
    "articles_df['desc_length'].describe()"
   ]
  },
  {
   "cell_type": "markdown",
   "id": "6c127579-9a87-4ece-8622-bc40b5264f75",
   "metadata": {},
   "source": [
    "The average description is about 142 characters long, which is reasonable for capturing useful product information.\n",
    "\n",
    "The shortest description is just 11 characters, and the longest is 764 characters.\n",
    "\n",
    "Most descriptions (50%) are between 94 and 178 characters long.\n",
    "\n",
    "A few descriptions are quite short (under 20), which might lack enough context for semantic comparison."
   ]
  },
  {
   "cell_type": "code",
   "execution_count": 200,
   "id": "ad013d91-920e-46da-8e18-d94e7241b510",
   "metadata": {},
   "outputs": [],
   "source": [
    "# Initialize the stopwords list:\n",
    "\n",
    "stop_words = set(stopwords.words('english'))\n",
    "lemmatizer = WordNetLemmatizer()\n",
    "\n",
    "#Creating custom tokenizer function:\n",
    "\n",
    "def text_cleaner(text):\n",
    "\n",
    "    if not isinstance(text, str):\n",
    "\n",
    "        return \"\"\n",
    "    \n",
    "    # Lowercasing\n",
    "    text = text.lower()\n",
    "\n",
    "    # Removing Numbers\n",
    "    text = re.sub(r'\\d+', '', text)\n",
    "\n",
    "    # Removing punctuation\n",
    "    text = re.sub(f\"[{re.escape(string.punctuation)}]\", \" \", text)\n",
    "     \n",
    "    # Splitting into words\n",
    "    words = text.split()\n",
    "\n",
    "    #\n",
    "    words = [lemmatizer.lemmatize(word, pos='v') for word in words]\n",
    "\n",
    "    # Removing stopwords\n",
    "    words = [word for word in words if word not in stop_words and word]\n",
    "\n",
    "    # Reconstructing the sentence\n",
    "    cleaned_text = ' '.join(words)\n",
    "\n",
    "    return cleaned_text\n",
    "\n"
   ]
  },
  {
   "cell_type": "code",
   "execution_count": 201,
   "id": "2b51832c-3ab7-4b4e-91b4-c4abc0ec2e08",
   "metadata": {},
   "outputs": [],
   "source": [
    "# Apply to dataset\n",
    "articles_df['preprocessed_desc'] = articles_df['detail_desc'].apply(text_cleaner)\n"
   ]
  },
  {
   "cell_type": "markdown",
   "id": "314b1789-f18e-48e7-9c3a-ea9871c4ba74",
   "metadata": {},
   "source": [
    "\n",
    "\n"
   ]
  },
  {
   "cell_type": "code",
   "execution_count": 202,
   "id": "bc5e3b0e-941c-4ac0-948d-816b69e1246d",
   "metadata": {},
   "outputs": [],
   "source": [
    "from sklearn.feature_extraction.text import CountVectorizer\n",
    "\n",
    "def plot_top_ngrams(text_series, title, ngram_range=(1, 1), top_n=10):\n",
    "    \n",
    "    # Initiate\n",
    "    bagofwords = CountVectorizer(\n",
    "        \n",
    "        ngram_range=ngram_range)\n",
    "    \n",
    "    # Fit and Transform\n",
    "    transformed = bagofwords.fit_transform(text_series.tolist())\n",
    "    \n",
    "    transactions_df = pd.DataFrame( data=transformed.toarray(),columns=bagofwords.get_feature_names_out())\n",
    "    word_counts = transactions_df.sum(axis=0).sort_values(ascending=False)\n",
    "\n",
    "    #Select top-n ngrams and their counts\n",
    "    top_ngrams = word_counts.head(top_n)\n",
    "    words = top_ngrams.index.tolist()\n",
    "    counts = top_ngrams.values\n",
    "    \n",
    "    plt.figure(figsize=(7,4))\n",
    "    sns.barplot(x=counts, y=words, palette=\"crest\")\n",
    "    plt.xlabel(\"Frequency\\n\")\n",
    "    plt.ylabel(f\"Top {top_n} {ngram_range[0]}-grams\")\n",
    "    if ngram_range == (1,1):\n",
    "        plt.title(f\"Most Common Unigrams in {title} Descriptions\")\n",
    "    \n",
    "    else:\n",
    "        plt.title(f\"Most Common {ngram_range}-grams in {title} Descriptions\")\n",
    "    plt.tight_layout()\n",
    "    plt.show()\n",
    "\n"
   ]
  },
  {
   "cell_type": "code",
   "execution_count": 203,
   "id": "d4e96999-be68-44ce-90f5-68110c4885da",
   "metadata": {},
   "outputs": [
    {
     "data": {
      "image/png": "[encoded data removed]",
      "text/plain": [
       "<Figure size 700x400 with 1 Axes>"
      ]
     },
     "metadata": {},
     "output_type": "display_data"
    },
    {
     "data": {
      "image/png": "[encoded data removed]",
      "text/plain": [
       "<Figure size 700x400 with 1 Axes>"
      ]
     },
     "metadata": {},
     "output_type": "display_data"
    },
    {
     "data": {
      "image/png": "[encoded data removed]",
      "text/plain": [
       "<Figure size 700x400 with 1 Axes>"
      ]
     },
     "metadata": {},
     "output_type": "display_data"
    },
    {
     "data": {
      "image/png": "[encoded data removed]",
      "text/plain": [
       "<Figure size 700x400 with 1 Axes>"
      ]
     },
     "metadata": {},
     "output_type": "display_data"
    },
    {
     "data": {
      "image/png": "[encoded data removed]",
      "text/plain": [
       "<Figure size 700x400 with 1 Axes>"
      ]
     },
     "metadata": {},
     "output_type": "display_data"
    }
   ],
   "source": [
    "for group in articles_df['index_group_name'].unique():\n",
    "    group_desc = articles_df[articles_df['index_group_name'] == group]['preprocessed_desc']\n",
    "    plot_top_ngrams(group_desc, group, ngram_range=(1, 1), top_n=10)\n",
    "    "
   ]
  },
  {
   "cell_type": "markdown",
   "id": "c4552f76-6232-4b3d-9083-801781d07267",
   "metadata": {},
   "source": [
    "The bar charts above showcase the most frequently used words in product descriptions across different index groups. Words like \"back,\" \"top,\" and \"cotton\" are commonly found, indicating a focus on particular garment features and materials. Each index group highlights different priorities—for example, Baby/Children’s wear emphasizes comfort, while the Sport category focuses more on performance.\n",
    "\n"
   ]
  },
  {
   "cell_type": "code",
   "execution_count": 204,
   "id": "9f224b47-947b-4fd6-84e2-33fe4c1d709b",
   "metadata": {},
   "outputs": [
    {
     "data": {
      "image/png": "[encoded data removed]",
      "text/plain": [
       "<Figure size 700x400 with 1 Axes>"
      ]
     },
     "metadata": {},
     "output_type": "display_data"
    },
    {
     "data": {
      "image/png": "[encoded data removed]",
      "text/plain": [
       "<Figure size 700x400 with 1 Axes>"
      ]
     },
     "metadata": {},
     "output_type": "display_data"
    },
    {
     "data": {
      "image/png": "[encoded data removed]",
      "text/plain": [
       "<Figure size 700x400 with 1 Axes>"
      ]
     },
     "metadata": {},
     "output_type": "display_data"
    },
    {
     "data": {
      "image/png": "[encoded data removed]",
      "text/plain": [
       "<Figure size 700x400 with 1 Axes>"
      ]
     },
     "metadata": {},
     "output_type": "display_data"
    },
    {
     "data": {
      "image/png": "[encoded data removed]",
      "text/plain": [
       "<Figure size 700x400 with 1 Axes>"
      ]
     },
     "metadata": {},
     "output_type": "display_data"
    }
   ],
   "source": [
    "for group in articles_df['index_group_name'].unique():\n",
    "    group_desc = articles_df[articles_df['index_group_name'] == group]['preprocessed_desc']\n",
    "    plot_top_ngrams(group_desc, group, ngram_range=(2, 2), top_n=10)"
   ]
  },
  {
   "cell_type": "markdown",
   "id": "90cc532d-21ca-43ad-a5fb-4c1b1d377f04",
   "metadata": {},
   "source": [
    "Byy analyzing bigrams instead of unigrams, we sometimes gain more meaningful insights. For example, \"long sleeves\" provides clearer context than just \"sleeves,\" and phrases like \"shoulder strap\" or \"drop shoulder\" are more informative than the single word \"shoulder.\" This highlights the importance of examining bigrams to better understand the specific features mentioned in product descriptions."
   ]
  },
  {
   "cell_type": "markdown",
   "id": "cdf5564e-87d8-40b0-93b6-86aad34d62f8",
   "metadata": {},
   "source": [
    "## Feature Engineering"
   ]
  },
  {
   "cell_type": "markdown",
   "id": "8baccecd-8a5e-423d-b63e-2356fff1907f",
   "metadata": {},
   "source": [
    "Now, let's add a few features that might help later in the modeling:"
   ]
  },
  {
   "cell_type": "markdown",
   "id": "5bb07a66-8d86-476d-a195-98233f187a01",
   "metadata": {},
   "source": [
    "#### Add Features to transactions DataFarme"
   ]
  },
  {
   "cell_type": "markdown",
   "id": "b66b0fde-1985-4eb8-9b22-ffe45209d435",
   "metadata": {},
   "source": [
    "To better understand customer purchasing behavior over time, we extracted additional time-based features from the transaction dates:\n",
    "\n",
    "    Week: ISO calendar week of the transaction.\n",
    "\n",
    "    Month: Calendar month of the transaction.\n",
    "\n",
    "    Day of the week: From 0 (Monday) to 6 (Sunday).\n",
    "\n",
    "We also created a season column based on the month to categorize transactions into Winter, Spring, Summer, and Fall. This will help us analyze seasonal trends and identify patterns in customer activity across different times of the year."
   ]
  },
  {
   "cell_type": "code",
   "execution_count": 205,
   "id": "23497187-cb6d-49ea-94cf-32ed83b5f1ce",
   "metadata": {},
   "outputs": [],
   "source": [
    "transactions_df['week'] = transactions_df['t_dat'].dt.isocalendar().week\n",
    "transactions_df['month'] = transactions_df['t_dat'].dt.month\n",
    "transactions_df['dayofweek'] = transactions_df['t_dat'].dt.dayofweek\n",
    "\n",
    "#Create a season column\n",
    "def get_season(month):\n",
    "    if month in [12, 1, 2]:\n",
    "        return 'Winter'\n",
    "    elif month in [3, 4, 5]:\n",
    "        return 'Spring'\n",
    "    elif month in [6, 7, 8]:\n",
    "        return 'Summer'\n",
    "    else:\n",
    "        return 'Fall'\n",
    "\n",
    "transactions_df['season'] = transactions_df['month'].apply(get_season)\n"
   ]
  },
  {
   "cell_type": "code",
   "execution_count": 206,
   "id": "975cd545-3446-4d79-87e7-a1beaf79ba84",
   "metadata": {},
   "outputs": [
    {
     "data": {
      "text/html": [
       "<div>\n",
       "<style scoped>\n",
       "    .dataframe tbody tr th:only-of-type {\n",
       "        vertical-align: middle;\n",
       "    }\n",
       "\n",
       "    .dataframe tbody tr th {\n",
       "        vertical-align: top;\n",
       "    }\n",
       "\n",
       "    .dataframe thead th {\n",
       "        text-align: right;\n",
       "    }\n",
       "</style>\n",
       "<table border=\"1\" class=\"dataframe\">\n",
       "  <thead>\n",
       "    <tr style=\"text-align: right;\">\n",
       "      <th></th>\n",
       "      <th>customer_id</th>\n",
       "      <th>recency</th>\n",
       "    </tr>\n",
       "  </thead>\n",
       "  <tbody>\n",
       "    <tr>\n",
       "      <th>0</th>\n",
       "      <td>000058a12d5b43e67d225668fa1f8d618c13dc232df0cad8ffe7ad4a1091e318</td>\n",
       "      <td>613</td>\n",
       "    </tr>\n",
       "    <tr>\n",
       "      <th>1</th>\n",
       "      <td>000058a12d5b43e67d225668fa1f8d618c13dc232df0cad8ffe7ad4a1091e318</td>\n",
       "      <td>613</td>\n",
       "    </tr>\n",
       "    <tr>\n",
       "      <th>2</th>\n",
       "      <td>00007d2de826758b65a93dd24ce629ed66842531df6699338c5570910a014cc2</td>\n",
       "      <td>613</td>\n",
       "    </tr>\n",
       "    <tr>\n",
       "      <th>3</th>\n",
       "      <td>00007d2de826758b65a93dd24ce629ed66842531df6699338c5570910a014cc2</td>\n",
       "      <td>613</td>\n",
       "    </tr>\n",
       "    <tr>\n",
       "      <th>4</th>\n",
       "      <td>00007d2de826758b65a93dd24ce629ed66842531df6699338c5570910a014cc2</td>\n",
       "      <td>613</td>\n",
       "    </tr>\n",
       "  </tbody>\n",
       "</table>\n",
       "</div>"
      ],
      "text/plain": [
       "                                                        customer_id  recency\n",
       "0  000058a12d5b43e67d225668fa1f8d618c13dc232df0cad8ffe7ad4a1091e318      613\n",
       "1  000058a12d5b43e67d225668fa1f8d618c13dc232df0cad8ffe7ad4a1091e318      613\n",
       "2  00007d2de826758b65a93dd24ce629ed66842531df6699338c5570910a014cc2      613\n",
       "3  00007d2de826758b65a93dd24ce629ed66842531df6699338c5570910a014cc2      613\n",
       "4  00007d2de826758b65a93dd24ce629ed66842531df6699338c5570910a014cc2      613"
      ]
     },
     "execution_count": 206,
     "metadata": {},
     "output_type": "execute_result"
    }
   ],
   "source": [
    "# Get the latest transaction date\n",
    "latest_date = transactions_df['t_dat'].max()\n",
    "transactions_df['recency'] = (latest_date - transactions_df['t_dat']).dt.days\n",
    "\n",
    "# Check the top 5 recency values\n",
    "transactions_df[['customer_id', 'recency']].head(5)"
   ]
  },
  {
   "cell_type": "code",
   "execution_count": 207,
   "id": "43d4a1cb-1664-4b92-b296-72588a20f0c4",
   "metadata": {},
   "outputs": [
    {
     "name": "stdout",
     "output_type": "stream",
     "text": [
      "The latest transaction date is 2020-05-25 00:00:00\n",
      "\n",
      "The earliest transaction date is 2018-09-20 00:00:00\n",
      "\n"
     ]
    }
   ],
   "source": [
    "latest_date = transactions_df['t_dat'].max()\n",
    "earliest_date = transactions_df['t_dat'].min()\n",
    "\n",
    "print(f\"The latest transaction date is {latest_date}\\n\")\n",
    "print(f\"The earliest transaction date is {earliest_date}\\n\")"
   ]
  },
  {
   "cell_type": "markdown",
   "id": "b717cfd9-259f-429b-bc47-c65ac78a8d9f",
   "metadata": {},
   "source": [
    "To manage the large size of our transactions_df (which contains over 31 million transactions), the analysis will be focused on the most recent data (3months). This approach ensures that the analysis is both manageable and focused on the most recent and relevant data.\n"
   ]
  },
  {
   "cell_type": "code",
   "execution_count": 208,
   "id": "bea24d71-2aeb-47bc-bb93-e4b535b04d05",
   "metadata": {},
   "outputs": [
    {
     "name": "stdout",
     "output_type": "stream",
     "text": [
      "transactions dataframe shape is:(23765875, 10)\n",
      "\n",
      "count of transactions unique article_id is:87654\n"
     ]
    }
   ],
   "source": [
    "# Getting the maximum date in the 't_dat' column and calculating the start date as 2 weeks before the end date: \n",
    "\n",
    "start_date = latest_date - pd.DateOffset(weeks=12)\n",
    "\n",
    "# Filtering the dataframe to include only the last 2 weeks of data:\n",
    "\n",
    "transactions_df = transactions_df[transactions_df['recency'] >= 60]\n",
    "\n",
    "# Printing the shape of the filtered dataframe:\n",
    "\n",
    "print(f\"transactions dataframe shape is:{transactions_df.shape}\\n\")\n",
    "print(f\"count of transactions unique article_id is:{transactions_df['article_id'].nunique()}\")"
   ]
  },
  {
   "cell_type": "markdown",
   "id": "55665af6-c62c-453a-9106-5c2dd4339b14",
   "metadata": {},
   "source": [
    "#### Add Feauters in Customers DataFrame"
   ]
  },
  {
   "cell_type": "markdown",
   "id": "8f4d9a56-e9dd-4404-b97f-f676a8dcf8b4",
   "metadata": {},
   "source": [
    "We added two useful features to the customer dataset to better understand shopping behavior:\n",
    "\n",
    "    Total Purchases: The number of times each customer made a purchase, based on how many transactions they have.\n",
    "\n",
    "    Average Recency: The average number of days between each customer's purchases, which helps us understand how often they shop.\n",
    "\n",
    "These features were merged into the customers_df to give us a more complete view of customer activity and help with future analysis and recommendations."
   ]
  },
  {
   "cell_type": "code",
   "execution_count": 210,
   "id": "594202d3-7d48-486a-b643-1e832b36270d",
   "metadata": {},
   "outputs": [
    {
     "data": {
      "text/html": [
       "<div>\n",
       "<style scoped>\n",
       "    .dataframe tbody tr th:only-of-type {\n",
       "        vertical-align: middle;\n",
       "    }\n",
       "\n",
       "    .dataframe tbody tr th {\n",
       "        vertical-align: top;\n",
       "    }\n",
       "\n",
       "    .dataframe thead th {\n",
       "        text-align: right;\n",
       "    }\n",
       "</style>\n",
       "<table border=\"1\" class=\"dataframe\">\n",
       "  <thead>\n",
       "    <tr style=\"text-align: right;\">\n",
       "      <th></th>\n",
       "      <th>customer_id</th>\n",
       "      <th>avg_recency</th>\n",
       "      <th>total_purchases</th>\n",
       "    </tr>\n",
       "  </thead>\n",
       "  <tbody>\n",
       "    <tr>\n",
       "      <th>0</th>\n",
       "      <td>00000dbacae5abe5e23885899a1fa44253a17956c6d1c3d25f88aa139fdfc657</td>\n",
       "      <td>252.65000</td>\n",
       "      <td>20.0</td>\n",
       "    </tr>\n",
       "    <tr>\n",
       "      <th>1</th>\n",
       "      <td>0000423b00ade91418cceaf3b26c6af3dd342b51fd051eec9c12fb36984420fa</td>\n",
       "      <td>315.43662</td>\n",
       "      <td>71.0</td>\n",
       "    </tr>\n",
       "  </tbody>\n",
       "</table>\n",
       "</div>"
      ],
      "text/plain": [
       "                                                        customer_id  \\\n",
       "0  00000dbacae5abe5e23885899a1fa44253a17956c6d1c3d25f88aa139fdfc657   \n",
       "1  0000423b00ade91418cceaf3b26c6af3dd342b51fd051eec9c12fb36984420fa   \n",
       "\n",
       "   avg_recency  total_purchases  \n",
       "0    252.65000             20.0  \n",
       "1    315.43662             71.0  "
      ]
     },
     "execution_count": 210,
     "metadata": {},
     "output_type": "execute_result"
    }
   ],
   "source": [
    "# Total purchase by customer\n",
    "customer_purchases = transactions_df.groupby('customer_id')['article_id'].count().reset_index()\n",
    "customer_purchases.columns = ['customer_id', 'total_purchases']\n",
    "\n",
    "customers_df = pd.merge(customers_df, customer_purchases, on='customer_id', how='left')\n",
    "\n",
    "#Average Recency per Customer\n",
    "average_recency = transactions_df.groupby('customer_id')['recency'].mean().reset_index()\n",
    "average_recency.columns = ['customer_id', 'avg_recency']\n",
    "\n",
    "customers_df = pd.merge(customers_df, average_recency, on='customer_id', how='left')\n",
    "customers_df[['customer_id', 'avg_recency', 'total_purchases']].head(2)"
   ]
  },
  {
   "cell_type": "markdown",
   "id": "4a7e95ba-a14b-4e1d-9f99-d59cc65bdff9",
   "metadata": {},
   "source": [
    "#### Add features to Articles DataFrame"
   ]
  },
  {
   "cell_type": "markdown",
   "id": "bb4c7bbd-43ee-4c3e-bf1a-db3427ed9fa2",
   "metadata": {},
   "source": [
    "We calculated how popular each article is by counting how many times it was purchased across all transactions. This gives us a popularity score for each article.\n",
    "\n",
    "We then merged this information into the articles_df, so each item now includes a popularity metric. This can help us identify bestsellers and understand customer preferences.\n",
    "\n"
   ]
  },
  {
   "cell_type": "code",
   "execution_count": 214,
   "id": "52f43e57-d2fd-4d91-9094-b565c28de08e",
   "metadata": {},
   "outputs": [],
   "source": [
    "# Total transactions per article\n",
    "article_popularity = transactions_df.groupby('article_id')['customer_id'].count().reset_index()\n",
    "article_popularity.columns = ['article_id', 'popularity']\n",
    "\n",
    "# Merge with articles\n",
    "articles_df = pd.merge(articles_df, article_popularity, on='article_id', how='left')"
   ]
  },
  {
   "cell_type": "code",
   "execution_count": 215,
   "id": "ff2f9f80-6435-40d3-bad9-1a8742b47560",
   "metadata": {},
   "outputs": [
    {
     "data": {
      "text/html": [
       "<div>\n",
       "<style scoped>\n",
       "    .dataframe tbody tr th:only-of-type {\n",
       "        vertical-align: middle;\n",
       "    }\n",
       "\n",
       "    .dataframe tbody tr th {\n",
       "        vertical-align: top;\n",
       "    }\n",
       "\n",
       "    .dataframe thead th {\n",
       "        text-align: right;\n",
       "    }\n",
       "</style>\n",
       "<table border=\"1\" class=\"dataframe\">\n",
       "  <thead>\n",
       "    <tr style=\"text-align: right;\">\n",
       "      <th></th>\n",
       "      <th>article_id</th>\n",
       "      <th>popularity</th>\n",
       "    </tr>\n",
       "  </thead>\n",
       "  <tbody>\n",
       "    <tr>\n",
       "      <th>0</th>\n",
       "      <td>108775015</td>\n",
       "      <td>10820.0</td>\n",
       "    </tr>\n",
       "    <tr>\n",
       "      <th>1</th>\n",
       "      <td>108775044</td>\n",
       "      <td>6974.0</td>\n",
       "    </tr>\n",
       "  </tbody>\n",
       "</table>\n",
       "</div>"
      ],
      "text/plain": [
       "   article_id  popularity\n",
       "0   108775015     10820.0\n",
       "1   108775044      6974.0"
      ]
     },
     "execution_count": 215,
     "metadata": {},
     "output_type": "execute_result"
    }
   ],
   "source": [
    "articles_df['popularity'] = articles_df['popularity'].fillna(0)\n",
    "articles_df[['article_id', 'popularity']].head(2)\n"
   ]
  },
  {
   "cell_type": "code",
   "execution_count": 216,
   "id": "96f28df7-98da-4bf7-b4f7-1245f4d60c7e",
   "metadata": {},
   "outputs": [
    {
     "name": "stdout",
     "output_type": "stream",
     "text": [
      "<class 'pandas.core.frame.DataFrame'>\n",
      "Int64Index: 105107 entries, 0 to 105106\n",
      "Data columns (total 30 columns):\n",
      " #   Column                        Non-Null Count   Dtype  \n",
      "---  ------                        --------------   -----  \n",
      " 0   article_id                    105107 non-null  int64  \n",
      " 1   product_code                  105107 non-null  int64  \n",
      " 2   prod_name                     105107 non-null  object \n",
      " 3   product_type_no               105107 non-null  int64  \n",
      " 4   product_type_name             105107 non-null  object \n",
      " 5   product_group_name            105107 non-null  object \n",
      " 6   graphical_appearance_no       105107 non-null  int64  \n",
      " 7   graphical_appearance_name     105107 non-null  object \n",
      " 8   colour_group_code             105107 non-null  int64  \n",
      " 9   colour_group_name             105107 non-null  object \n",
      " 10  perceived_colour_value_id     105107 non-null  int64  \n",
      " 11  perceived_colour_value_name   105107 non-null  object \n",
      " 12  perceived_colour_master_id    105107 non-null  int64  \n",
      " 13  perceived_colour_master_name  105107 non-null  object \n",
      " 14  department_no                 105107 non-null  int64  \n",
      " 15  department_name               105107 non-null  object \n",
      " 16  index_code                    105107 non-null  object \n",
      " 17  index_name                    105107 non-null  object \n",
      " 18  index_group_no                105107 non-null  int64  \n",
      " 19  index_group_name              105107 non-null  object \n",
      " 20  section_no                    105107 non-null  int64  \n",
      " 21  section_name                  105107 non-null  object \n",
      " 22  garment_group_no              105107 non-null  int64  \n",
      " 23  garment_group_name            105107 non-null  object \n",
      " 24  detail_desc                   105107 non-null  object \n",
      " 25  desc_length                   105107 non-null  int64  \n",
      " 26  preprocessed_desc             105107 non-null  object \n",
      " 27  popularity_x                  105107 non-null  float64\n",
      " 28  popularity_y                  87234 non-null   float64\n",
      " 29  popularity                    105107 non-null  float64\n",
      "dtypes: float64(3), int64(12), object(15)\n",
      "memory usage: 24.9+ MB\n"
     ]
    }
   ],
   "source": [
    "articles_df.info()"
   ]
  },
  {
   "cell_type": "code",
   "execution_count": 217,
   "id": "e9c4919d-8942-4e56-ac45-368935c3540d",
   "metadata": {},
   "outputs": [],
   "source": [
    "\n",
    "# To improve our model’s understanding of each article, and dealing with missing values for description details column, we created a new text column called full_text. This combines several informative \n",
    "\n",
    "# features such as:\n",
    "\n",
    "# prod_name, product_type_name, product group anme, detail_desc, colour_group_name, index_group_name, garment_group_name\n"
   ]
  },
  {
   "cell_type": "code",
   "execution_count": 218,
   "id": "788b1155-c2c1-4963-8cef-a6b7a235c30a",
   "metadata": {},
   "outputs": [],
   "source": [
    "# articles_df['product_group_name'].unique()"
   ]
  },
  {
   "cell_type": "code",
   "execution_count": 219,
   "id": "67d27921-cbb7-4e0d-8a1f-9969445916c7",
   "metadata": {},
   "outputs": [],
   "source": [
    "# articles_df['full_text'] = (\n",
    "#     articles_df['product_type_name'] + ' ' +\n",
    "#     articles_df['prod_name'] + ' ' +\n",
    "#     articles_df['preprocessed_desc'] + ' ' +\n",
    "#     articles_df['colour_group_name'] + ' ' +\n",
    "#     articles_df['index_group_name']\n",
    "# )\n"
   ]
  },
  {
   "cell_type": "code",
   "execution_count": 220,
   "id": "31e77859-16ba-4988-86f0-c2863e92ccf2",
   "metadata": {},
   "outputs": [],
   "source": [
    "# # Clean the full_text column with our text_cleaner function\n",
    "\n",
    "# articles_df['full_text'] = articles_df['full_text'].apply(text_cleaner)"
   ]
  },
  {
   "cell_type": "code",
   "execution_count": 221,
   "id": "0b2b77fa-1164-4fbc-888d-d95af35122e2",
   "metadata": {},
   "outputs": [],
   "source": [
    "# Our dataset includes numeric codes for almost every categorical feature already, like product_type_no, graphical_appearance_no, department_no, etc., which represent their respective *_name columns. So we can create a copy of articles_df and drop the *_name columns to avoid redundancy.\n",
    "\n",
    "# Also 'full_text' column already has information given in 'detail_desc'."
   ]
  },
  {
   "cell_type": "code",
   "execution_count": 222,
   "id": "5de1914c-0fc2-4c00-9cb3-6933024493bb",
   "metadata": {},
   "outputs": [],
   "source": [
    "# articles_categ_df = articles_df.drop(columns=[\n",
    "#     'product_type_name',\n",
    "#     'graphical_appearance_name',\n",
    "#     'colour_group_name',\n",
    "#     'perceived_colour_value_name',\n",
    "#     'perceived_colour_master_name',\n",
    "#     'department_name',\n",
    "#     'index_name',\n",
    "#     'index_group_name',\n",
    "#     'section_name',\n",
    "#     'garment_group_name',\n",
    "#     'detail_desc', \n",
    "# ])"
   ]
  },
  {
   "cell_type": "code",
   "execution_count": 223,
   "id": "108b7f41-e844-4cfb-8513-77d42a047f06",
   "metadata": {
    "jupyter": {
     "source_hidden": true
    }
   },
   "outputs": [],
   "source": [
    "articles_df.to_csv(\"../data/processed/cleaned_articles.csv\", index=False)\n",
    "customers_df.to_csv(\"../data/processed/cleaned_customers.csv\", index=False)\n",
    "transactions_df.to_csv(\"../data/processed/cleaned_transactions.csv\", index=False)\n"
   ]
  },
  {
   "cell_type": "code",
   "execution_count": 224,
   "id": "7d835725-7f19-4a55-bb8a-a77d708d147a",
   "metadata": {},
   "outputs": [],
   "source": [
    "articles_df.to_pickle(\"../data/processed/cleaned_articles.pkl\")\n",
    "customers_df.to_pickle(\"../data/processed/cleaned_customers.pkl\")\n",
    "transactions_df.to_pickle(\"../data/processed/cleaned_transactions.pkl\")\n"
   ]
  },
  {
   "cell_type": "markdown",
   "id": "1b42e02c-a0a5-4b06-9a56-75a392aa43cc",
   "metadata": {},
   "source": [
    "### Encode Categorical Features"
   ]
  },
  {
   "cell_type": "code",
   "execution_count": null,
   "id": "6b6c619e-6ea3-4e2d-acb8-8c8f54344078",
   "metadata": {},
   "outputs": [],
   "source": []
  }
 ],
 "metadata": {
  "kernelspec": {
   "display_name": "Python [conda env:base] *",
   "language": "python",
   "name": "conda-base-py"
  },
  "language_info": {
   "codemirror_mode": {
    "name": "ipython",
    "version": 3
   },
   "file_extension": ".py",
   "mimetype": "text/x-python",
   "name": "python",
   "nbconvert_exporter": "python",
   "pygments_lexer": "ipython3",
   "version": "3.11.5"
  }
 },
 "nbformat": 4,
 "nbformat_minor": 5
}
