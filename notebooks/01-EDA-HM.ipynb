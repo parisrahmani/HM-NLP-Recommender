{
 "cells": [
  {
   "cell_type": "code",
   "execution_count": 172,
   "id": "60205090-fc3d-48e7-9639-e89b26df7000",
   "metadata": {},
   "outputs": [
    {
     "name": "stderr",
     "output_type": "stream",
     "text": [
      "[nltk_data] Downloading package stopwords to\n",
      "[nltk_data]     /Users/Parisa/nltk_data...\n",
      "[nltk_data]   Package stopwords is already up-to-date!\n",
      "[nltk_data] Downloading package punkt to /Users/Parisa/nltk_data...\n",
      "[nltk_data]   Package punkt is already up-to-date!\n",
      "[nltk_data] Downloading package wordnet to /Users/Parisa/nltk_data...\n"
     ]
    },
    {
     "data": {
      "text/plain": [
       "True"
      ]
     },
     "execution_count": 172,
     "metadata": {},
     "output_type": "execute_result"
    }
   ],
   "source": [
    "import numpy as np\n",
    "import pandas as pd\n",
    "import matplotlib.pyplot as plt\n",
    "import matplotlib.image as mpimg\n",
    "import seaborn as sns\n",
    "import seaborn as sns\n",
    "import os\n",
    "#import time\n",
    "import re\n",
    "import string\n",
    "\n",
    "from PIL import Image\n",
    "\n",
    "import nltk\n",
    "nltk.download('stopwords')\n",
    "from nltk.corpus import stopwords\n",
    "from nltk.tokenize import word_tokenize\n",
    "nltk.download('punkt')\n",
    "from nltk.stem import WordNetLemmatizer\n",
    "nltk.download('wordnet')\n",
    "\n",
    "\n"
   ]
  },
  {
   "cell_type": "code",
   "execution_count": 8,
   "id": "1a0afce5-a5e6-4439-9f15-68f330ff2d2f",
   "metadata": {},
   "outputs": [],
   "source": [
    "customers_df = pd.read_csv('../data/raw/customers.csv')"
   ]
  },
  {
   "cell_type": "code",
   "execution_count": 7,
   "id": "924e7434-66cf-431f-9097-1722d3b43a12",
   "metadata": {},
   "outputs": [],
   "source": [
    "transactions_df = pd.read_csv('../data/raw/transactions_train.csv')\n"
   ]
  },
  {
   "cell_type": "code",
   "execution_count": 6,
   "id": "63b42f2d-9998-4edb-8942-28c322130d36",
   "metadata": {},
   "outputs": [],
   "source": [
    "articles_df = pd.read_csv('../data/raw/articles.csv')\n"
   ]
  },
  {
   "cell_type": "code",
   "execution_count": 9,
   "id": "be4ce46b-99ee-4110-b743-473d38285816",
   "metadata": {},
   "outputs": [
    {
     "data": {
      "text/html": [
       "<div>\n",
       "<style scoped>\n",
       "    .dataframe tbody tr th:only-of-type {\n",
       "        vertical-align: middle;\n",
       "    }\n",
       "\n",
       "    .dataframe tbody tr th {\n",
       "        vertical-align: top;\n",
       "    }\n",
       "\n",
       "    .dataframe thead th {\n",
       "        text-align: right;\n",
       "    }\n",
       "</style>\n",
       "<table border=\"1\" class=\"dataframe\">\n",
       "  <thead>\n",
       "    <tr style=\"text-align: right;\">\n",
       "      <th></th>\n",
       "      <th>article_id</th>\n",
       "      <th>product_code</th>\n",
       "      <th>prod_name</th>\n",
       "      <th>product_type_no</th>\n",
       "      <th>product_type_name</th>\n",
       "      <th>product_group_name</th>\n",
       "      <th>graphical_appearance_no</th>\n",
       "      <th>graphical_appearance_name</th>\n",
       "      <th>colour_group_code</th>\n",
       "      <th>colour_group_name</th>\n",
       "      <th>...</th>\n",
       "      <th>department_name</th>\n",
       "      <th>index_code</th>\n",
       "      <th>index_name</th>\n",
       "      <th>index_group_no</th>\n",
       "      <th>index_group_name</th>\n",
       "      <th>section_no</th>\n",
       "      <th>section_name</th>\n",
       "      <th>garment_group_no</th>\n",
       "      <th>garment_group_name</th>\n",
       "      <th>detail_desc</th>\n",
       "    </tr>\n",
       "  </thead>\n",
       "  <tbody>\n",
       "    <tr>\n",
       "      <th>0</th>\n",
       "      <td>108775015</td>\n",
       "      <td>108775</td>\n",
       "      <td>Strap top</td>\n",
       "      <td>253</td>\n",
       "      <td>Vest top</td>\n",
       "      <td>Garment Upper body</td>\n",
       "      <td>1010016</td>\n",
       "      <td>Solid</td>\n",
       "      <td>9</td>\n",
       "      <td>Black</td>\n",
       "      <td>...</td>\n",
       "      <td>Jersey Basic</td>\n",
       "      <td>A</td>\n",
       "      <td>Ladieswear</td>\n",
       "      <td>1</td>\n",
       "      <td>Ladieswear</td>\n",
       "      <td>16</td>\n",
       "      <td>Womens Everyday Basics</td>\n",
       "      <td>1002</td>\n",
       "      <td>Jersey Basic</td>\n",
       "      <td>Jersey top with narrow shoulder straps.</td>\n",
       "    </tr>\n",
       "    <tr>\n",
       "      <th>1</th>\n",
       "      <td>108775044</td>\n",
       "      <td>108775</td>\n",
       "      <td>Strap top</td>\n",
       "      <td>253</td>\n",
       "      <td>Vest top</td>\n",
       "      <td>Garment Upper body</td>\n",
       "      <td>1010016</td>\n",
       "      <td>Solid</td>\n",
       "      <td>10</td>\n",
       "      <td>White</td>\n",
       "      <td>...</td>\n",
       "      <td>Jersey Basic</td>\n",
       "      <td>A</td>\n",
       "      <td>Ladieswear</td>\n",
       "      <td>1</td>\n",
       "      <td>Ladieswear</td>\n",
       "      <td>16</td>\n",
       "      <td>Womens Everyday Basics</td>\n",
       "      <td>1002</td>\n",
       "      <td>Jersey Basic</td>\n",
       "      <td>Jersey top with narrow shoulder straps.</td>\n",
       "    </tr>\n",
       "  </tbody>\n",
       "</table>\n",
       "<p>2 rows × 25 columns</p>\n",
       "</div>"
      ],
      "text/plain": [
       "   article_id  product_code  prod_name  product_type_no product_type_name  \\\n",
       "0   108775015        108775  Strap top              253          Vest top   \n",
       "1   108775044        108775  Strap top              253          Vest top   \n",
       "\n",
       "   product_group_name  graphical_appearance_no graphical_appearance_name  \\\n",
       "0  Garment Upper body                  1010016                     Solid   \n",
       "1  Garment Upper body                  1010016                     Solid   \n",
       "\n",
       "   colour_group_code colour_group_name  ...  department_name index_code  \\\n",
       "0                  9             Black  ...     Jersey Basic          A   \n",
       "1                 10             White  ...     Jersey Basic          A   \n",
       "\n",
       "   index_name index_group_no  index_group_name section_no  \\\n",
       "0  Ladieswear              1        Ladieswear         16   \n",
       "1  Ladieswear              1        Ladieswear         16   \n",
       "\n",
       "             section_name garment_group_no  garment_group_name  \\\n",
       "0  Womens Everyday Basics             1002        Jersey Basic   \n",
       "1  Womens Everyday Basics             1002        Jersey Basic   \n",
       "\n",
       "                               detail_desc  \n",
       "0  Jersey top with narrow shoulder straps.  \n",
       "1  Jersey top with narrow shoulder straps.  \n",
       "\n",
       "[2 rows x 25 columns]"
      ]
     },
     "execution_count": 9,
     "metadata": {},
     "output_type": "execute_result"
    }
   ],
   "source": [
    "articles_df.head(2)"
   ]
  },
  {
   "cell_type": "markdown",
   "id": "99300155-cc72-485b-bdcb-3429d01d0d9f",
   "metadata": {},
   "source": [
    "# Cleaning"
   ]
  },
  {
   "cell_type": "markdown",
   "id": "152b5320-c410-4ebe-b0b0-bd4250ce0f11",
   "metadata": {},
   "source": [
    "### Articles DataFrame"
   ]
  },
  {
   "cell_type": "code",
   "execution_count": 10,
   "id": "e2d638ab-7b40-49d0-bd37-44d993bf4c09",
   "metadata": {},
   "outputs": [
    {
     "name": "stdout",
     "output_type": "stream",
     "text": [
      " articles_df's shape : (105542, 25)\n"
     ]
    }
   ],
   "source": [
    "articles_df.shape\n",
    "print(f\" articles_df's shape : {articles_df.shape}\")"
   ]
  },
  {
   "cell_type": "code",
   "execution_count": 11,
   "id": "8a78c652-88c8-497e-9c2e-38c4f8547757",
   "metadata": {},
   "outputs": [
    {
     "data": {
      "text/html": [
       "<div>\n",
       "<style scoped>\n",
       "    .dataframe tbody tr th:only-of-type {\n",
       "        vertical-align: middle;\n",
       "    }\n",
       "\n",
       "    .dataframe tbody tr th {\n",
       "        vertical-align: top;\n",
       "    }\n",
       "\n",
       "    .dataframe thead th {\n",
       "        text-align: right;\n",
       "    }\n",
       "</style>\n",
       "<table border=\"1\" class=\"dataframe\">\n",
       "  <thead>\n",
       "    <tr style=\"text-align: right;\">\n",
       "      <th></th>\n",
       "      <th>article_id</th>\n",
       "      <th>product_code</th>\n",
       "      <th>product_type_no</th>\n",
       "      <th>graphical_appearance_no</th>\n",
       "      <th>colour_group_code</th>\n",
       "      <th>perceived_colour_value_id</th>\n",
       "      <th>perceived_colour_master_id</th>\n",
       "      <th>department_no</th>\n",
       "      <th>index_group_no</th>\n",
       "      <th>section_no</th>\n",
       "      <th>garment_group_no</th>\n",
       "    </tr>\n",
       "  </thead>\n",
       "  <tbody>\n",
       "    <tr>\n",
       "      <th>count</th>\n",
       "      <td>1.055420e+05</td>\n",
       "      <td>105542.000000</td>\n",
       "      <td>105542.000000</td>\n",
       "      <td>1.055420e+05</td>\n",
       "      <td>105542.000000</td>\n",
       "      <td>105542.000000</td>\n",
       "      <td>105542.000000</td>\n",
       "      <td>105542.000000</td>\n",
       "      <td>105542.000000</td>\n",
       "      <td>105542.000000</td>\n",
       "      <td>105542.000000</td>\n",
       "    </tr>\n",
       "    <tr>\n",
       "      <th>mean</th>\n",
       "      <td>6.984246e+08</td>\n",
       "      <td>698424.563378</td>\n",
       "      <td>234.861875</td>\n",
       "      <td>1.009515e+06</td>\n",
       "      <td>32.233822</td>\n",
       "      <td>3.206183</td>\n",
       "      <td>7.807972</td>\n",
       "      <td>4532.777833</td>\n",
       "      <td>3.171534</td>\n",
       "      <td>42.664219</td>\n",
       "      <td>1010.438290</td>\n",
       "    </tr>\n",
       "    <tr>\n",
       "      <th>std</th>\n",
       "      <td>1.284624e+08</td>\n",
       "      <td>128462.384432</td>\n",
       "      <td>75.049308</td>\n",
       "      <td>2.241359e+04</td>\n",
       "      <td>28.086154</td>\n",
       "      <td>1.563839</td>\n",
       "      <td>5.376727</td>\n",
       "      <td>2712.692011</td>\n",
       "      <td>4.353234</td>\n",
       "      <td>23.260105</td>\n",
       "      <td>6.731023</td>\n",
       "    </tr>\n",
       "    <tr>\n",
       "      <th>min</th>\n",
       "      <td>1.087750e+08</td>\n",
       "      <td>108775.000000</td>\n",
       "      <td>-1.000000</td>\n",
       "      <td>-1.000000e+00</td>\n",
       "      <td>-1.000000</td>\n",
       "      <td>-1.000000</td>\n",
       "      <td>-1.000000</td>\n",
       "      <td>1201.000000</td>\n",
       "      <td>1.000000</td>\n",
       "      <td>2.000000</td>\n",
       "      <td>1001.000000</td>\n",
       "    </tr>\n",
       "    <tr>\n",
       "      <th>25%</th>\n",
       "      <td>6.169925e+08</td>\n",
       "      <td>616992.500000</td>\n",
       "      <td>252.000000</td>\n",
       "      <td>1.010008e+06</td>\n",
       "      <td>9.000000</td>\n",
       "      <td>2.000000</td>\n",
       "      <td>4.000000</td>\n",
       "      <td>1676.000000</td>\n",
       "      <td>1.000000</td>\n",
       "      <td>20.000000</td>\n",
       "      <td>1005.000000</td>\n",
       "    </tr>\n",
       "    <tr>\n",
       "      <th>50%</th>\n",
       "      <td>7.022130e+08</td>\n",
       "      <td>702213.000000</td>\n",
       "      <td>259.000000</td>\n",
       "      <td>1.010016e+06</td>\n",
       "      <td>14.000000</td>\n",
       "      <td>4.000000</td>\n",
       "      <td>5.000000</td>\n",
       "      <td>4222.000000</td>\n",
       "      <td>2.000000</td>\n",
       "      <td>46.000000</td>\n",
       "      <td>1009.000000</td>\n",
       "    </tr>\n",
       "    <tr>\n",
       "      <th>75%</th>\n",
       "      <td>7.967030e+08</td>\n",
       "      <td>796703.000000</td>\n",
       "      <td>272.000000</td>\n",
       "      <td>1.010016e+06</td>\n",
       "      <td>52.000000</td>\n",
       "      <td>4.000000</td>\n",
       "      <td>11.000000</td>\n",
       "      <td>7389.000000</td>\n",
       "      <td>4.000000</td>\n",
       "      <td>61.000000</td>\n",
       "      <td>1017.000000</td>\n",
       "    </tr>\n",
       "    <tr>\n",
       "      <th>max</th>\n",
       "      <td>9.594610e+08</td>\n",
       "      <td>959461.000000</td>\n",
       "      <td>762.000000</td>\n",
       "      <td>1.010029e+06</td>\n",
       "      <td>93.000000</td>\n",
       "      <td>7.000000</td>\n",
       "      <td>20.000000</td>\n",
       "      <td>9989.000000</td>\n",
       "      <td>26.000000</td>\n",
       "      <td>97.000000</td>\n",
       "      <td>1025.000000</td>\n",
       "    </tr>\n",
       "  </tbody>\n",
       "</table>\n",
       "</div>"
      ],
      "text/plain": [
       "         article_id   product_code  product_type_no  graphical_appearance_no  \\\n",
       "count  1.055420e+05  105542.000000    105542.000000             1.055420e+05   \n",
       "mean   6.984246e+08  698424.563378       234.861875             1.009515e+06   \n",
       "std    1.284624e+08  128462.384432        75.049308             2.241359e+04   \n",
       "min    1.087750e+08  108775.000000        -1.000000            -1.000000e+00   \n",
       "25%    6.169925e+08  616992.500000       252.000000             1.010008e+06   \n",
       "50%    7.022130e+08  702213.000000       259.000000             1.010016e+06   \n",
       "75%    7.967030e+08  796703.000000       272.000000             1.010016e+06   \n",
       "max    9.594610e+08  959461.000000       762.000000             1.010029e+06   \n",
       "\n",
       "       colour_group_code  perceived_colour_value_id  \\\n",
       "count      105542.000000              105542.000000   \n",
       "mean           32.233822                   3.206183   \n",
       "std            28.086154                   1.563839   \n",
       "min            -1.000000                  -1.000000   \n",
       "25%             9.000000                   2.000000   \n",
       "50%            14.000000                   4.000000   \n",
       "75%            52.000000                   4.000000   \n",
       "max            93.000000                   7.000000   \n",
       "\n",
       "       perceived_colour_master_id  department_no  index_group_no  \\\n",
       "count               105542.000000  105542.000000   105542.000000   \n",
       "mean                     7.807972    4532.777833        3.171534   \n",
       "std                      5.376727    2712.692011        4.353234   \n",
       "min                     -1.000000    1201.000000        1.000000   \n",
       "25%                      4.000000    1676.000000        1.000000   \n",
       "50%                      5.000000    4222.000000        2.000000   \n",
       "75%                     11.000000    7389.000000        4.000000   \n",
       "max                     20.000000    9989.000000       26.000000   \n",
       "\n",
       "          section_no  garment_group_no  \n",
       "count  105542.000000     105542.000000  \n",
       "mean       42.664219       1010.438290  \n",
       "std        23.260105          6.731023  \n",
       "min         2.000000       1001.000000  \n",
       "25%        20.000000       1005.000000  \n",
       "50%        46.000000       1009.000000  \n",
       "75%        61.000000       1017.000000  \n",
       "max        97.000000       1025.000000  "
      ]
     },
     "execution_count": 11,
     "metadata": {},
     "output_type": "execute_result"
    }
   ],
   "source": [
    "articles_df.describe()"
   ]
  },
  {
   "cell_type": "code",
   "execution_count": 12,
   "id": "af1f8867-e9b2-431b-a629-5d4b925f0f69",
   "metadata": {},
   "outputs": [],
   "source": [
    "columns_with_neg1 = [\n",
    "    'product_type_no', 'graphical_appearance_no', 'colour_group_code',\n",
    "    'perceived_colour_value_id', 'perceived_colour_master_id'\n",
    "]\n",
    "\n"
   ]
  },
  {
   "cell_type": "code",
   "execution_count": 13,
   "id": "4db2ea3e-c13e-4eca-9f90-7d0a1c4ea327",
   "metadata": {},
   "outputs": [
    {
     "data": {
      "text/plain": [
       "830"
      ]
     },
     "execution_count": 13,
     "metadata": {},
     "output_type": "execute_result"
    }
   ],
   "source": [
    "# Filter rows where any column has a value of -1\n",
    "rows_with_neg1 = articles_df[(articles_df == -1).any(axis=1)]\n",
    "rows_with_neg1.shape[0]"
   ]
  },
  {
   "cell_type": "code",
   "execution_count": 14,
   "id": "610046dc-6b4e-4055-90eb-777f8d0d03d5",
   "metadata": {},
   "outputs": [
    {
     "data": {
      "text/plain": [
       "105542"
      ]
     },
     "execution_count": 14,
     "metadata": {},
     "output_type": "execute_result"
    }
   ],
   "source": [
    "articles_df.shape[0]"
   ]
  },
  {
   "cell_type": "code",
   "execution_count": 15,
   "id": "55c27e8f-38a5-4244-8c21-2c2893151a3d",
   "metadata": {},
   "outputs": [
    {
     "name": "stdout",
     "output_type": "stream",
     "text": [
      "<class 'pandas.core.frame.DataFrame'>\n",
      "RangeIndex: 105542 entries, 0 to 105541\n",
      "Data columns (total 25 columns):\n",
      " #   Column                        Non-Null Count   Dtype \n",
      "---  ------                        --------------   ----- \n",
      " 0   article_id                    105542 non-null  int64 \n",
      " 1   product_code                  105542 non-null  int64 \n",
      " 2   prod_name                     105542 non-null  object\n",
      " 3   product_type_no               105542 non-null  int64 \n",
      " 4   product_type_name             105542 non-null  object\n",
      " 5   product_group_name            105542 non-null  object\n",
      " 6   graphical_appearance_no       105542 non-null  int64 \n",
      " 7   graphical_appearance_name     105542 non-null  object\n",
      " 8   colour_group_code             105542 non-null  int64 \n",
      " 9   colour_group_name             105542 non-null  object\n",
      " 10  perceived_colour_value_id     105542 non-null  int64 \n",
      " 11  perceived_colour_value_name   105542 non-null  object\n",
      " 12  perceived_colour_master_id    105542 non-null  int64 \n",
      " 13  perceived_colour_master_name  105542 non-null  object\n",
      " 14  department_no                 105542 non-null  int64 \n",
      " 15  department_name               105542 non-null  object\n",
      " 16  index_code                    105542 non-null  object\n",
      " 17  index_name                    105542 non-null  object\n",
      " 18  index_group_no                105542 non-null  int64 \n",
      " 19  index_group_name              105542 non-null  object\n",
      " 20  section_no                    105542 non-null  int64 \n",
      " 21  section_name                  105542 non-null  object\n",
      " 22  garment_group_no              105542 non-null  int64 \n",
      " 23  garment_group_name            105542 non-null  object\n",
      " 24  detail_desc                   105126 non-null  object\n",
      "dtypes: int64(11), object(14)\n",
      "memory usage: 20.1+ MB\n"
     ]
    }
   ],
   "source": [
    "articles_df.info()"
   ]
  },
  {
   "cell_type": "code",
   "execution_count": 16,
   "id": "1fb83a8e-e5d5-4f0c-b68d-16c776052962",
   "metadata": {},
   "outputs": [
    {
     "data": {
      "text/plain": [
       "article_id                        0\n",
       "product_code                      0\n",
       "prod_name                         0\n",
       "product_type_no                   0\n",
       "product_type_name                 0\n",
       "product_group_name                0\n",
       "graphical_appearance_no           0\n",
       "graphical_appearance_name         0\n",
       "colour_group_code                 0\n",
       "colour_group_name                 0\n",
       "perceived_colour_value_id         0\n",
       "perceived_colour_value_name       0\n",
       "perceived_colour_master_id        0\n",
       "perceived_colour_master_name      0\n",
       "department_no                     0\n",
       "department_name                   0\n",
       "index_code                        0\n",
       "index_name                        0\n",
       "index_group_no                    0\n",
       "index_group_name                  0\n",
       "section_no                        0\n",
       "section_name                      0\n",
       "garment_group_no                  0\n",
       "garment_group_name                0\n",
       "detail_desc                     416\n",
       "dtype: int64"
      ]
     },
     "execution_count": 16,
     "metadata": {},
     "output_type": "execute_result"
    }
   ],
   "source": [
    "#Checking for NULL in articles_df:\n",
    "\n",
    "articles_df.isna().sum()"
   ]
  },
  {
   "cell_type": "markdown",
   "id": "711db3a5-7567-4a53-a342-ff273191d4d5",
   "metadata": {},
   "source": [
    "Wr’re dealing with only 416 nulls out of 105,542, which is less than ***0.4%*** of the dataset. Since the detail_desc field is crucial for our ***NLP recommender***, it’s better to drop those rows."
   ]
  },
  {
   "cell_type": "code",
   "execution_count": 17,
   "id": "b1a7878d-dac8-4e17-943b-4676fd27b27c",
   "metadata": {},
   "outputs": [
    {
     "name": "stdout",
     "output_type": "stream",
     "text": [
      "New articles_df shape after dropping nulls in detail_desc: (105126, 25)\n"
     ]
    }
   ],
   "source": [
    "#Drop Nulls in detail_desc\n",
    "\n",
    "articles_df = articles_df.dropna(subset=['detail_desc']).reset_index(drop=True)\n",
    "print(f\"New articles_df shape after dropping nulls in detail_desc: {articles_df.shape}\")"
   ]
  },
  {
   "cell_type": "code",
   "execution_count": 18,
   "id": "e5af8db4-3fb8-46ee-97f6-059b26fbf25e",
   "metadata": {},
   "outputs": [
    {
     "name": "stdout",
     "output_type": "stream",
     "text": [
      "Articles Duplicated columns: False\n",
      "Articles Duplicated rows: False\n",
      "Articles Total of duplicates: 0\n"
     ]
    }
   ],
   "source": [
    "#Checking for duplicates in articles_df:\n",
    "\n",
    "print(f'Articles Duplicated columns: {articles_df.T.duplicated().any()}')\n",
    "\n",
    "print(f'Articles Duplicated rows: {articles_df.duplicated().any()}')\n",
    "\n",
    "print(f'Articles Total of duplicates: {articles_df.duplicated().sum()}')"
   ]
  },
  {
   "cell_type": "markdown",
   "id": "a658b724-cea1-4c77-b342-bdf70c980092",
   "metadata": {},
   "source": [
    "## SAVE CLEANED DATA?"
   ]
  },
  {
   "cell_type": "code",
   "execution_count": 19,
   "id": "a493cd14-c3f2-4d54-b868-b9eb9e040259",
   "metadata": {},
   "outputs": [],
   "source": [
    "# articles_df['cleaned_prod_name'] = articles_df['prod_name'].astype(str).apply(clean_text)\n",
    "# articles_df['cleaned_detail_desc'] = articles_df['detail_desc'].astype(str).apply(clean_text)"
   ]
  },
  {
   "cell_type": "code",
   "execution_count": 20,
   "id": "e1856510-3fe3-4eb0-8852-ff472b9b5959",
   "metadata": {
    "scrolled": true
   },
   "outputs": [],
   "source": [
    "# articles_df.head()"
   ]
  },
  {
   "cell_type": "markdown",
   "id": "2e71b2c5-1586-4365-a5ad-8ce36ffd21a6",
   "metadata": {},
   "source": [
    "### Transactions Data Frame"
   ]
  },
  {
   "cell_type": "code",
   "execution_count": 21,
   "id": "2aa9c3f9-f7b6-4962-ae34-a80ca37085ea",
   "metadata": {},
   "outputs": [
    {
     "data": {
      "text/html": [
       "<div>\n",
       "<style scoped>\n",
       "    .dataframe tbody tr th:only-of-type {\n",
       "        vertical-align: middle;\n",
       "    }\n",
       "\n",
       "    .dataframe tbody tr th {\n",
       "        vertical-align: top;\n",
       "    }\n",
       "\n",
       "    .dataframe thead th {\n",
       "        text-align: right;\n",
       "    }\n",
       "</style>\n",
       "<table border=\"1\" class=\"dataframe\">\n",
       "  <thead>\n",
       "    <tr style=\"text-align: right;\">\n",
       "      <th></th>\n",
       "      <th>t_dat</th>\n",
       "      <th>customer_id</th>\n",
       "      <th>article_id</th>\n",
       "      <th>price</th>\n",
       "      <th>sales_channel_id</th>\n",
       "    </tr>\n",
       "  </thead>\n",
       "  <tbody>\n",
       "    <tr>\n",
       "      <th>0</th>\n",
       "      <td>2018-09-20</td>\n",
       "      <td>000058a12d5b43e67d225668fa1f8d618c13dc232df0ca...</td>\n",
       "      <td>663713001</td>\n",
       "      <td>0.050831</td>\n",
       "      <td>2</td>\n",
       "    </tr>\n",
       "    <tr>\n",
       "      <th>1</th>\n",
       "      <td>2018-09-20</td>\n",
       "      <td>000058a12d5b43e67d225668fa1f8d618c13dc232df0ca...</td>\n",
       "      <td>541518023</td>\n",
       "      <td>0.030492</td>\n",
       "      <td>2</td>\n",
       "    </tr>\n",
       "  </tbody>\n",
       "</table>\n",
       "</div>"
      ],
      "text/plain": [
       "        t_dat                                        customer_id  article_id  \\\n",
       "0  2018-09-20  000058a12d5b43e67d225668fa1f8d618c13dc232df0ca...   663713001   \n",
       "1  2018-09-20  000058a12d5b43e67d225668fa1f8d618c13dc232df0ca...   541518023   \n",
       "\n",
       "      price  sales_channel_id  \n",
       "0  0.050831                 2  \n",
       "1  0.030492                 2  "
      ]
     },
     "execution_count": 21,
     "metadata": {},
     "output_type": "execute_result"
    }
   ],
   "source": [
    "transactions_df.head(2)"
   ]
  },
  {
   "cell_type": "code",
   "execution_count": 22,
   "id": "c2588855-c652-41af-b5c9-f669ba3eafe4",
   "metadata": {},
   "outputs": [
    {
     "data": {
      "text/plain": [
       "(31788324, 5)"
      ]
     },
     "execution_count": 22,
     "metadata": {},
     "output_type": "execute_result"
    }
   ],
   "source": [
    "transactions_df.shape"
   ]
  },
  {
   "cell_type": "code",
   "execution_count": 23,
   "id": "260cae10-5ea8-4fb1-b088-01a5094d33e9",
   "metadata": {},
   "outputs": [
    {
     "data": {
      "text/html": [
       "<div>\n",
       "<style scoped>\n",
       "    .dataframe tbody tr th:only-of-type {\n",
       "        vertical-align: middle;\n",
       "    }\n",
       "\n",
       "    .dataframe tbody tr th {\n",
       "        vertical-align: top;\n",
       "    }\n",
       "\n",
       "    .dataframe thead th {\n",
       "        text-align: right;\n",
       "    }\n",
       "</style>\n",
       "<table border=\"1\" class=\"dataframe\">\n",
       "  <thead>\n",
       "    <tr style=\"text-align: right;\">\n",
       "      <th></th>\n",
       "      <th>article_id</th>\n",
       "      <th>price</th>\n",
       "      <th>sales_channel_id</th>\n",
       "    </tr>\n",
       "  </thead>\n",
       "  <tbody>\n",
       "    <tr>\n",
       "      <th>count</th>\n",
       "      <td>3.178832e+07</td>\n",
       "      <td>3.178832e+07</td>\n",
       "      <td>3.178832e+07</td>\n",
       "    </tr>\n",
       "    <tr>\n",
       "      <th>mean</th>\n",
       "      <td>6.962272e+08</td>\n",
       "      <td>2.782927e-02</td>\n",
       "      <td>1.704028e+00</td>\n",
       "    </tr>\n",
       "    <tr>\n",
       "      <th>std</th>\n",
       "      <td>1.334480e+08</td>\n",
       "      <td>1.918113e-02</td>\n",
       "      <td>4.564786e-01</td>\n",
       "    </tr>\n",
       "    <tr>\n",
       "      <th>min</th>\n",
       "      <td>1.087750e+08</td>\n",
       "      <td>1.694915e-05</td>\n",
       "      <td>1.000000e+00</td>\n",
       "    </tr>\n",
       "    <tr>\n",
       "      <th>25%</th>\n",
       "      <td>6.328030e+08</td>\n",
       "      <td>1.581356e-02</td>\n",
       "      <td>1.000000e+00</td>\n",
       "    </tr>\n",
       "    <tr>\n",
       "      <th>50%</th>\n",
       "      <td>7.145820e+08</td>\n",
       "      <td>2.540678e-02</td>\n",
       "      <td>2.000000e+00</td>\n",
       "    </tr>\n",
       "    <tr>\n",
       "      <th>75%</th>\n",
       "      <td>7.865240e+08</td>\n",
       "      <td>3.388136e-02</td>\n",
       "      <td>2.000000e+00</td>\n",
       "    </tr>\n",
       "    <tr>\n",
       "      <th>max</th>\n",
       "      <td>9.562170e+08</td>\n",
       "      <td>5.915254e-01</td>\n",
       "      <td>2.000000e+00</td>\n",
       "    </tr>\n",
       "  </tbody>\n",
       "</table>\n",
       "</div>"
      ],
      "text/plain": [
       "         article_id         price  sales_channel_id\n",
       "count  3.178832e+07  3.178832e+07      3.178832e+07\n",
       "mean   6.962272e+08  2.782927e-02      1.704028e+00\n",
       "std    1.334480e+08  1.918113e-02      4.564786e-01\n",
       "min    1.087750e+08  1.694915e-05      1.000000e+00\n",
       "25%    6.328030e+08  1.581356e-02      1.000000e+00\n",
       "50%    7.145820e+08  2.540678e-02      2.000000e+00\n",
       "75%    7.865240e+08  3.388136e-02      2.000000e+00\n",
       "max    9.562170e+08  5.915254e-01      2.000000e+00"
      ]
     },
     "execution_count": 23,
     "metadata": {},
     "output_type": "execute_result"
    }
   ],
   "source": [
    "transactions_df.describe()"
   ]
  },
  {
   "cell_type": "code",
   "execution_count": 24,
   "id": "c9456cc5-2b3e-4894-9bd0-3e50950582e3",
   "metadata": {},
   "outputs": [
    {
     "name": "stdout",
     "output_type": "stream",
     "text": [
      "<class 'pandas.core.frame.DataFrame'>\n",
      "RangeIndex: 31788324 entries, 0 to 31788323\n",
      "Data columns (total 5 columns):\n",
      " #   Column            Dtype  \n",
      "---  ------            -----  \n",
      " 0   t_dat             object \n",
      " 1   customer_id       object \n",
      " 2   article_id        int64  \n",
      " 3   price             float64\n",
      " 4   sales_channel_id  int64  \n",
      "dtypes: float64(1), int64(2), object(2)\n",
      "memory usage: 1.2+ GB\n"
     ]
    }
   ],
   "source": [
    "transactions_df.info()"
   ]
  },
  {
   "cell_type": "code",
   "execution_count": 25,
   "id": "2301e231-5f40-481b-9b14-8345b3b1de84",
   "metadata": {},
   "outputs": [
    {
     "data": {
      "text/plain": [
       "t_dat               0\n",
       "customer_id         0\n",
       "article_id          0\n",
       "price               0\n",
       "sales_channel_id    0\n",
       "dtype: int64"
      ]
     },
     "execution_count": 25,
     "metadata": {},
     "output_type": "execute_result"
    }
   ],
   "source": [
    "transactions_df.isna().sum()"
   ]
  },
  {
   "cell_type": "markdown",
   "id": "b8cec0b4-37bc-47ae-812d-e09e14524e87",
   "metadata": {},
   "source": [
    "There are no null values in transaction data frame!"
   ]
  },
  {
   "cell_type": "code",
   "execution_count": 26,
   "id": "80d42d07-00d8-4492-bcb5-105a48ea46f5",
   "metadata": {},
   "outputs": [],
   "source": [
    "# Converting date column data to date instead of object\n",
    "transactions_df['t_dat'] = pd.to_datetime(transactions_df['t_dat'])"
   ]
  },
  {
   "cell_type": "code",
   "execution_count": 27,
   "id": "1778e25d-4fd3-446f-acc2-949c6e4e5415",
   "metadata": {},
   "outputs": [
    {
     "data": {
      "text/html": [
       "<div>\n",
       "<style scoped>\n",
       "    .dataframe tbody tr th:only-of-type {\n",
       "        vertical-align: middle;\n",
       "    }\n",
       "\n",
       "    .dataframe tbody tr th {\n",
       "        vertical-align: top;\n",
       "    }\n",
       "\n",
       "    .dataframe thead th {\n",
       "        text-align: right;\n",
       "    }\n",
       "</style>\n",
       "<table border=\"1\" class=\"dataframe\">\n",
       "  <thead>\n",
       "    <tr style=\"text-align: right;\">\n",
       "      <th></th>\n",
       "      <th>t_dat</th>\n",
       "      <th>customer_id</th>\n",
       "      <th>article_id</th>\n",
       "      <th>price</th>\n",
       "      <th>sales_channel_id</th>\n",
       "    </tr>\n",
       "  </thead>\n",
       "  <tbody>\n",
       "    <tr>\n",
       "      <th>0</th>\n",
       "      <td>2018-09-20</td>\n",
       "      <td>000058a12d5b43e67d225668fa1f8d618c13dc232df0ca...</td>\n",
       "      <td>663713001</td>\n",
       "      <td>0.050831</td>\n",
       "      <td>2</td>\n",
       "    </tr>\n",
       "    <tr>\n",
       "      <th>1</th>\n",
       "      <td>2018-09-20</td>\n",
       "      <td>000058a12d5b43e67d225668fa1f8d618c13dc232df0ca...</td>\n",
       "      <td>541518023</td>\n",
       "      <td>0.030492</td>\n",
       "      <td>2</td>\n",
       "    </tr>\n",
       "  </tbody>\n",
       "</table>\n",
       "</div>"
      ],
      "text/plain": [
       "       t_dat                                        customer_id  article_id  \\\n",
       "0 2018-09-20  000058a12d5b43e67d225668fa1f8d618c13dc232df0ca...   663713001   \n",
       "1 2018-09-20  000058a12d5b43e67d225668fa1f8d618c13dc232df0ca...   541518023   \n",
       "\n",
       "      price  sales_channel_id  \n",
       "0  0.050831                 2  \n",
       "1  0.030492                 2  "
      ]
     },
     "execution_count": 27,
     "metadata": {},
     "output_type": "execute_result"
    }
   ],
   "source": [
    "\n",
    "transactions_df.head(2)"
   ]
  },
  {
   "cell_type": "markdown",
   "id": "5551864f-39fc-4864-be97-29f1437b0e51",
   "metadata": {},
   "source": [
    "Now we are able to sort data by time if needed"
   ]
  },
  {
   "cell_type": "code",
   "execution_count": 28,
   "id": "e1052f77-0600-4b62-952f-e9551943d5dc",
   "metadata": {},
   "outputs": [
    {
     "name": "stdout",
     "output_type": "stream",
     "text": [
      "Transactions Duplicated rows: True\n",
      "Transactions Total of duplicates: 2974905\n"
     ]
    }
   ],
   "source": [
    "#Checking for duplicates in transactions_df:\n",
    "\n",
    "\n",
    "print(f'Transactions Duplicated rows: {transactions_df.duplicated().any()}')\n",
    "\n",
    "print(f'Transactions Total of duplicates: {transactions_df.duplicated().sum()}')\n",
    "\n"
   ]
  },
  {
   "cell_type": "markdown",
   "id": "981b30c3-ee9d-499d-9597-a981acd1f290",
   "metadata": {},
   "source": [
    "Trabsactions Data Frame has duplicate rows! to be able to handle it, we'll review the the flagged rows."
   ]
  },
  {
   "cell_type": "code",
   "execution_count": 29,
   "id": "99349d75-0f75-4513-abdf-3f3283066559",
   "metadata": {},
   "outputs": [
    {
     "data": {
      "text/html": [
       "<div>\n",
       "<style scoped>\n",
       "    .dataframe tbody tr th:only-of-type {\n",
       "        vertical-align: middle;\n",
       "    }\n",
       "\n",
       "    .dataframe tbody tr th {\n",
       "        vertical-align: top;\n",
       "    }\n",
       "\n",
       "    .dataframe thead th {\n",
       "        text-align: right;\n",
       "    }\n",
       "</style>\n",
       "<table border=\"1\" class=\"dataframe\">\n",
       "  <thead>\n",
       "    <tr style=\"text-align: right;\">\n",
       "      <th></th>\n",
       "      <th>t_dat</th>\n",
       "      <th>customer_id</th>\n",
       "      <th>article_id</th>\n",
       "      <th>price</th>\n",
       "      <th>sales_channel_id</th>\n",
       "    </tr>\n",
       "  </thead>\n",
       "  <tbody>\n",
       "    <tr>\n",
       "      <th>14</th>\n",
       "      <td>2018-09-20</td>\n",
       "      <td>000aa7f0dc06cd7174389e76c9e132a67860c5f65f9706...</td>\n",
       "      <td>501820043</td>\n",
       "      <td>0.016932</td>\n",
       "      <td>2</td>\n",
       "    </tr>\n",
       "    <tr>\n",
       "      <th>15</th>\n",
       "      <td>2018-09-20</td>\n",
       "      <td>000aa7f0dc06cd7174389e76c9e132a67860c5f65f9706...</td>\n",
       "      <td>501820043</td>\n",
       "      <td>0.016932</td>\n",
       "      <td>2</td>\n",
       "    </tr>\n",
       "    <tr>\n",
       "      <th>17</th>\n",
       "      <td>2018-09-20</td>\n",
       "      <td>000aa7f0dc06cd7174389e76c9e132a67860c5f65f9706...</td>\n",
       "      <td>671505001</td>\n",
       "      <td>0.033881</td>\n",
       "      <td>2</td>\n",
       "    </tr>\n",
       "    <tr>\n",
       "      <th>18</th>\n",
       "      <td>2018-09-20</td>\n",
       "      <td>000aa7f0dc06cd7174389e76c9e132a67860c5f65f9706...</td>\n",
       "      <td>671505001</td>\n",
       "      <td>0.033881</td>\n",
       "      <td>2</td>\n",
       "    </tr>\n",
       "    <tr>\n",
       "      <th>19</th>\n",
       "      <td>2018-09-20</td>\n",
       "      <td>000aa7f0dc06cd7174389e76c9e132a67860c5f65f9706...</td>\n",
       "      <td>631848002</td>\n",
       "      <td>0.033881</td>\n",
       "      <td>2</td>\n",
       "    </tr>\n",
       "    <tr>\n",
       "      <th>20</th>\n",
       "      <td>2018-09-20</td>\n",
       "      <td>000aa7f0dc06cd7174389e76c9e132a67860c5f65f9706...</td>\n",
       "      <td>631848002</td>\n",
       "      <td>0.033881</td>\n",
       "      <td>2</td>\n",
       "    </tr>\n",
       "    <tr>\n",
       "      <th>21</th>\n",
       "      <td>2018-09-20</td>\n",
       "      <td>000aa7f0dc06cd7174389e76c9e132a67860c5f65f9706...</td>\n",
       "      <td>631848002</td>\n",
       "      <td>0.033881</td>\n",
       "      <td>2</td>\n",
       "    </tr>\n",
       "    <tr>\n",
       "      <th>22</th>\n",
       "      <td>2018-09-20</td>\n",
       "      <td>000aa7f0dc06cd7174389e76c9e132a67860c5f65f9706...</td>\n",
       "      <td>631848002</td>\n",
       "      <td>0.033881</td>\n",
       "      <td>2</td>\n",
       "    </tr>\n",
       "    <tr>\n",
       "      <th>24</th>\n",
       "      <td>2018-09-20</td>\n",
       "      <td>000aa7f0dc06cd7174389e76c9e132a67860c5f65f9706...</td>\n",
       "      <td>676827002</td>\n",
       "      <td>0.042356</td>\n",
       "      <td>2</td>\n",
       "    </tr>\n",
       "    <tr>\n",
       "      <th>25</th>\n",
       "      <td>2018-09-20</td>\n",
       "      <td>000aa7f0dc06cd7174389e76c9e132a67860c5f65f9706...</td>\n",
       "      <td>676827002</td>\n",
       "      <td>0.042356</td>\n",
       "      <td>2</td>\n",
       "    </tr>\n",
       "  </tbody>\n",
       "</table>\n",
       "</div>"
      ],
      "text/plain": [
       "        t_dat                                        customer_id  article_id  \\\n",
       "14 2018-09-20  000aa7f0dc06cd7174389e76c9e132a67860c5f65f9706...   501820043   \n",
       "15 2018-09-20  000aa7f0dc06cd7174389e76c9e132a67860c5f65f9706...   501820043   \n",
       "17 2018-09-20  000aa7f0dc06cd7174389e76c9e132a67860c5f65f9706...   671505001   \n",
       "18 2018-09-20  000aa7f0dc06cd7174389e76c9e132a67860c5f65f9706...   671505001   \n",
       "19 2018-09-20  000aa7f0dc06cd7174389e76c9e132a67860c5f65f9706...   631848002   \n",
       "20 2018-09-20  000aa7f0dc06cd7174389e76c9e132a67860c5f65f9706...   631848002   \n",
       "21 2018-09-20  000aa7f0dc06cd7174389e76c9e132a67860c5f65f9706...   631848002   \n",
       "22 2018-09-20  000aa7f0dc06cd7174389e76c9e132a67860c5f65f9706...   631848002   \n",
       "24 2018-09-20  000aa7f0dc06cd7174389e76c9e132a67860c5f65f9706...   676827002   \n",
       "25 2018-09-20  000aa7f0dc06cd7174389e76c9e132a67860c5f65f9706...   676827002   \n",
       "\n",
       "       price  sales_channel_id  \n",
       "14  0.016932                 2  \n",
       "15  0.016932                 2  \n",
       "17  0.033881                 2  \n",
       "18  0.033881                 2  \n",
       "19  0.033881                 2  \n",
       "20  0.033881                 2  \n",
       "21  0.033881                 2  \n",
       "22  0.033881                 2  \n",
       "24  0.042356                 2  \n",
       "25  0.042356                 2  "
      ]
     },
     "execution_count": 29,
     "metadata": {},
     "output_type": "execute_result"
    }
   ],
   "source": [
    "transactions_duplicates = transactions_df[transactions_df.duplicated(keep=False)]\n",
    "transactions_duplicates.head(10)"
   ]
  },
  {
   "cell_type": "markdown",
   "id": "e2c0b20f-2912-400e-996e-033941f25abc",
   "metadata": {},
   "source": [
    "Some rows in the dataset may look like duplicates at first, but they actually represent multiple quantities of the same item being purchased in a single transaction by the same customer. \n",
    "As seen above, even though the rows are identical, they’re not mistakes — they tell us that the same item was scanned more than once or purchased in multiple units. This information is important for understanding customer behavior, basket size, and item popularity.\n",
    "\n",
    "So to maintain data integrity and accuracy, ***we will not drop these duplicate rows***."
   ]
  },
  {
   "cell_type": "markdown",
   "id": "a9016282-2feb-482e-9414-d339b7571e61",
   "metadata": {},
   "source": [
    "### Customers Data Frame"
   ]
  },
  {
   "cell_type": "code",
   "execution_count": 30,
   "id": "05e9120b-5620-43d5-ac3f-3dc299fbe6c0",
   "metadata": {},
   "outputs": [
    {
     "data": {
      "text/html": [
       "<div>\n",
       "<style scoped>\n",
       "    .dataframe tbody tr th:only-of-type {\n",
       "        vertical-align: middle;\n",
       "    }\n",
       "\n",
       "    .dataframe tbody tr th {\n",
       "        vertical-align: top;\n",
       "    }\n",
       "\n",
       "    .dataframe thead th {\n",
       "        text-align: right;\n",
       "    }\n",
       "</style>\n",
       "<table border=\"1\" class=\"dataframe\">\n",
       "  <thead>\n",
       "    <tr style=\"text-align: right;\">\n",
       "      <th></th>\n",
       "      <th>customer_id</th>\n",
       "      <th>FN</th>\n",
       "      <th>Active</th>\n",
       "      <th>club_member_status</th>\n",
       "      <th>fashion_news_frequency</th>\n",
       "      <th>age</th>\n",
       "      <th>postal_code</th>\n",
       "    </tr>\n",
       "  </thead>\n",
       "  <tbody>\n",
       "    <tr>\n",
       "      <th>0</th>\n",
       "      <td>00000dbacae5abe5e23885899a1fa44253a17956c6d1c3...</td>\n",
       "      <td>NaN</td>\n",
       "      <td>NaN</td>\n",
       "      <td>ACTIVE</td>\n",
       "      <td>NONE</td>\n",
       "      <td>49.0</td>\n",
       "      <td>52043ee2162cf5aa7ee79974281641c6f11a68d276429a...</td>\n",
       "    </tr>\n",
       "    <tr>\n",
       "      <th>1</th>\n",
       "      <td>0000423b00ade91418cceaf3b26c6af3dd342b51fd051e...</td>\n",
       "      <td>NaN</td>\n",
       "      <td>NaN</td>\n",
       "      <td>ACTIVE</td>\n",
       "      <td>NONE</td>\n",
       "      <td>25.0</td>\n",
       "      <td>2973abc54daa8a5f8ccfe9362140c63247c5eee03f1d93...</td>\n",
       "    </tr>\n",
       "  </tbody>\n",
       "</table>\n",
       "</div>"
      ],
      "text/plain": [
       "                                         customer_id  FN  Active  \\\n",
       "0  00000dbacae5abe5e23885899a1fa44253a17956c6d1c3... NaN     NaN   \n",
       "1  0000423b00ade91418cceaf3b26c6af3dd342b51fd051e... NaN     NaN   \n",
       "\n",
       "  club_member_status fashion_news_frequency   age  \\\n",
       "0             ACTIVE                   NONE  49.0   \n",
       "1             ACTIVE                   NONE  25.0   \n",
       "\n",
       "                                         postal_code  \n",
       "0  52043ee2162cf5aa7ee79974281641c6f11a68d276429a...  \n",
       "1  2973abc54daa8a5f8ccfe9362140c63247c5eee03f1d93...  "
      ]
     },
     "execution_count": 30,
     "metadata": {},
     "output_type": "execute_result"
    }
   ],
   "source": [
    "customers_df.head(2)"
   ]
  },
  {
   "cell_type": "code",
   "execution_count": 31,
   "id": "dbfeff4e-31d6-47e9-8f3b-94ee645ce86a",
   "metadata": {},
   "outputs": [
    {
     "data": {
      "text/plain": [
       "(1371980, 7)"
      ]
     },
     "execution_count": 31,
     "metadata": {},
     "output_type": "execute_result"
    }
   ],
   "source": [
    "customers_df.shape"
   ]
  },
  {
   "cell_type": "code",
   "execution_count": 32,
   "id": "c1c5b3b8-ae71-4e69-85a3-1d13632f61d4",
   "metadata": {},
   "outputs": [
    {
     "data": {
      "text/html": [
       "<div>\n",
       "<style scoped>\n",
       "    .dataframe tbody tr th:only-of-type {\n",
       "        vertical-align: middle;\n",
       "    }\n",
       "\n",
       "    .dataframe tbody tr th {\n",
       "        vertical-align: top;\n",
       "    }\n",
       "\n",
       "    .dataframe thead th {\n",
       "        text-align: right;\n",
       "    }\n",
       "</style>\n",
       "<table border=\"1\" class=\"dataframe\">\n",
       "  <thead>\n",
       "    <tr style=\"text-align: right;\">\n",
       "      <th></th>\n",
       "      <th>FN</th>\n",
       "      <th>Active</th>\n",
       "      <th>age</th>\n",
       "    </tr>\n",
       "  </thead>\n",
       "  <tbody>\n",
       "    <tr>\n",
       "      <th>count</th>\n",
       "      <td>476930.0</td>\n",
       "      <td>464404.0</td>\n",
       "      <td>1.356119e+06</td>\n",
       "    </tr>\n",
       "    <tr>\n",
       "      <th>mean</th>\n",
       "      <td>1.0</td>\n",
       "      <td>1.0</td>\n",
       "      <td>3.638696e+01</td>\n",
       "    </tr>\n",
       "    <tr>\n",
       "      <th>std</th>\n",
       "      <td>0.0</td>\n",
       "      <td>0.0</td>\n",
       "      <td>1.431363e+01</td>\n",
       "    </tr>\n",
       "    <tr>\n",
       "      <th>min</th>\n",
       "      <td>1.0</td>\n",
       "      <td>1.0</td>\n",
       "      <td>1.600000e+01</td>\n",
       "    </tr>\n",
       "    <tr>\n",
       "      <th>25%</th>\n",
       "      <td>1.0</td>\n",
       "      <td>1.0</td>\n",
       "      <td>2.400000e+01</td>\n",
       "    </tr>\n",
       "    <tr>\n",
       "      <th>50%</th>\n",
       "      <td>1.0</td>\n",
       "      <td>1.0</td>\n",
       "      <td>3.200000e+01</td>\n",
       "    </tr>\n",
       "    <tr>\n",
       "      <th>75%</th>\n",
       "      <td>1.0</td>\n",
       "      <td>1.0</td>\n",
       "      <td>4.900000e+01</td>\n",
       "    </tr>\n",
       "    <tr>\n",
       "      <th>max</th>\n",
       "      <td>1.0</td>\n",
       "      <td>1.0</td>\n",
       "      <td>9.900000e+01</td>\n",
       "    </tr>\n",
       "  </tbody>\n",
       "</table>\n",
       "</div>"
      ],
      "text/plain": [
       "             FN    Active           age\n",
       "count  476930.0  464404.0  1.356119e+06\n",
       "mean        1.0       1.0  3.638696e+01\n",
       "std         0.0       0.0  1.431363e+01\n",
       "min         1.0       1.0  1.600000e+01\n",
       "25%         1.0       1.0  2.400000e+01\n",
       "50%         1.0       1.0  3.200000e+01\n",
       "75%         1.0       1.0  4.900000e+01\n",
       "max         1.0       1.0  9.900000e+01"
      ]
     },
     "execution_count": 32,
     "metadata": {},
     "output_type": "execute_result"
    }
   ],
   "source": [
    "customers_df.describe()"
   ]
  },
  {
   "cell_type": "code",
   "execution_count": 33,
   "id": "10772148-7da4-4031-aaa3-38ead9defe55",
   "metadata": {},
   "outputs": [
    {
     "name": "stdout",
     "output_type": "stream",
     "text": [
      "<class 'pandas.core.frame.DataFrame'>\n",
      "RangeIndex: 1371980 entries, 0 to 1371979\n",
      "Data columns (total 7 columns):\n",
      " #   Column                  Non-Null Count    Dtype  \n",
      "---  ------                  --------------    -----  \n",
      " 0   customer_id             1371980 non-null  object \n",
      " 1   FN                      476930 non-null   float64\n",
      " 2   Active                  464404 non-null   float64\n",
      " 3   club_member_status      1365918 non-null  object \n",
      " 4   fashion_news_frequency  1355971 non-null  object \n",
      " 5   age                     1356119 non-null  float64\n",
      " 6   postal_code             1371980 non-null  object \n",
      "dtypes: float64(3), object(4)\n",
      "memory usage: 73.3+ MB\n"
     ]
    }
   ],
   "source": [
    "customers_df.info()"
   ]
  },
  {
   "cell_type": "code",
   "execution_count": 34,
   "id": "3076b92d-0eca-40d6-8e9b-9c425184dafb",
   "metadata": {},
   "outputs": [
    {
     "data": {
      "text/plain": [
       "customer_id                    0\n",
       "FN                        895050\n",
       "Active                    907576\n",
       "club_member_status          6062\n",
       "fashion_news_frequency     16009\n",
       "age                        15861\n",
       "postal_code                    0\n",
       "dtype: int64"
      ]
     },
     "execution_count": 34,
     "metadata": {},
     "output_type": "execute_result"
    }
   ],
   "source": [
    "customers_df.isna().sum()"
   ]
  },
  {
   "cell_type": "markdown",
   "id": "c743fec8-50eb-4d25-8eec-cc3ef431cbfb",
   "metadata": {},
   "source": [
    "## SNS maybe?"
   ]
  },
  {
   "cell_type": "code",
   "execution_count": 35,
   "id": "376895ce-df53-42ff-82d8-ae3942f4a098",
   "metadata": {},
   "outputs": [
    {
     "data": {
      "image/png": "[encoded data removed]",
      "text/plain": [
       "<Figure size 640x480 with 1 Axes>"
      ]
     },
     "metadata": {},
     "output_type": "display_data"
    }
   ],
   "source": [
    "# Plotting Customers Missing Values:\n",
    "\n",
    "customer_missing_values = customers_df.isna().sum()\n",
    "customer_missing_values.plot(kind='bar', title='Missing Values by column')\n",
    "plt.ylabel('Number of Missing Values')\n",
    "plt.show()\n",
    "\n",
    "\n"
   ]
  },
  {
   "cell_type": "markdown",
   "id": "8b7ab639-f794-4e61-ac4c-636f8f00861a",
   "metadata": {},
   "source": [
    "The customers_df contains several null values across its columns. However, since this analysis focuses only on the customer_id column — which has no missing values — we won’t be exploring the other columns with nulls in detail. The recommendation system will only use the customer_id, so the missing data in other columns won't impact our results."
   ]
  },
  {
   "cell_type": "code",
   "execution_count": 36,
   "id": "37b8e05b-eb3e-4c52-99ee-e896b47310ee",
   "metadata": {},
   "outputs": [
    {
     "name": "stdout",
     "output_type": "stream",
     "text": [
      "Duplicated rows: False\n",
      "Total of duplicates: 0\n"
     ]
    }
   ],
   "source": [
    "#Checking for duplicates:\n",
    "\n",
    "print(f'Duplicated rows: {customers_df.duplicated().any()}')\n",
    "\n",
    "print(f'Total of duplicates: {customers_df.duplicated().sum()}')"
   ]
  },
  {
   "cell_type": "markdown",
   "id": "bd16c3f0-4c17-48be-9d0a-440e56c4ef4f",
   "metadata": {},
   "source": [
    "Our Customers DataFrame doesn't have any duplicates!"
   ]
  },
  {
   "cell_type": "markdown",
   "id": "1f035d9b-6586-4eba-987a-7a047d05dbec",
   "metadata": {},
   "source": [
    "## Exploratory Data Analysis (EDA)"
   ]
  },
  {
   "cell_type": "markdown",
   "id": "ce573bcc-dc6a-498f-912d-f1a3683f020d",
   "metadata": {},
   "source": [
    "### Customers DataFrame EDA"
   ]
  },
  {
   "cell_type": "code",
   "execution_count": 53,
   "id": "dc991105-d048-40a2-a377-19a9e312ab8e",
   "metadata": {},
   "outputs": [
    {
     "name": "stdout",
     "output_type": "stream",
     "text": [
      "There are 1371980 rows and 5 columns in our transactions dataframe.\n",
      " \n"
     ]
    }
   ],
   "source": [
    "print(f\"There are {customers_df.shape[0]} rows and {transactions_df.shape[1]} columns in our transactions dataframe.\\n \")"
   ]
  },
  {
   "cell_type": "code",
   "execution_count": 56,
   "id": "e7d6fe74-3955-4534-bbb1-c489d1710ecf",
   "metadata": {},
   "outputs": [
    {
     "data": {
      "text/html": [
       "<div>\n",
       "<style scoped>\n",
       "    .dataframe tbody tr th:only-of-type {\n",
       "        vertical-align: middle;\n",
       "    }\n",
       "\n",
       "    .dataframe tbody tr th {\n",
       "        vertical-align: top;\n",
       "    }\n",
       "\n",
       "    .dataframe thead th {\n",
       "        text-align: right;\n",
       "    }\n",
       "</style>\n",
       "<table border=\"1\" class=\"dataframe\">\n",
       "  <thead>\n",
       "    <tr style=\"text-align: right;\">\n",
       "      <th></th>\n",
       "      <th>customer_id</th>\n",
       "      <th>FN</th>\n",
       "      <th>Active</th>\n",
       "      <th>club_member_status</th>\n",
       "      <th>fashion_news_frequency</th>\n",
       "      <th>age</th>\n",
       "      <th>postal_code</th>\n",
       "    </tr>\n",
       "  </thead>\n",
       "  <tbody>\n",
       "    <tr>\n",
       "      <th>0</th>\n",
       "      <td>00000dbacae5abe5e23885899a1fa44253a17956c6d1c3...</td>\n",
       "      <td>NaN</td>\n",
       "      <td>NaN</td>\n",
       "      <td>ACTIVE</td>\n",
       "      <td>NONE</td>\n",
       "      <td>49.0</td>\n",
       "      <td>52043ee2162cf5aa7ee79974281641c6f11a68d276429a...</td>\n",
       "    </tr>\n",
       "    <tr>\n",
       "      <th>1</th>\n",
       "      <td>0000423b00ade91418cceaf3b26c6af3dd342b51fd051e...</td>\n",
       "      <td>NaN</td>\n",
       "      <td>NaN</td>\n",
       "      <td>ACTIVE</td>\n",
       "      <td>NONE</td>\n",
       "      <td>25.0</td>\n",
       "      <td>2973abc54daa8a5f8ccfe9362140c63247c5eee03f1d93...</td>\n",
       "    </tr>\n",
       "  </tbody>\n",
       "</table>\n",
       "</div>"
      ],
      "text/plain": [
       "                                         customer_id  FN  Active  \\\n",
       "0  00000dbacae5abe5e23885899a1fa44253a17956c6d1c3... NaN     NaN   \n",
       "1  0000423b00ade91418cceaf3b26c6af3dd342b51fd051e... NaN     NaN   \n",
       "\n",
       "  club_member_status fashion_news_frequency   age  \\\n",
       "0             ACTIVE                   NONE  49.0   \n",
       "1             ACTIVE                   NONE  25.0   \n",
       "\n",
       "                                         postal_code  \n",
       "0  52043ee2162cf5aa7ee79974281641c6f11a68d276429a...  \n",
       "1  2973abc54daa8a5f8ccfe9362140c63247c5eee03f1d93...  "
      ]
     },
     "execution_count": 56,
     "metadata": {},
     "output_type": "execute_result"
    }
   ],
   "source": [
    "customers_df.head(2)"
   ]
  },
  {
   "cell_type": "code",
   "execution_count": 57,
   "id": "8e5ff990-e4c7-4d5d-860c-3c27e9612e8c",
   "metadata": {},
   "outputs": [
    {
     "name": "stdout",
     "output_type": "stream",
     "text": [
      "<class 'pandas.core.frame.DataFrame'>\n",
      "RangeIndex: 1371980 entries, 0 to 1371979\n",
      "Data columns (total 7 columns):\n",
      " #   Column                  Non-Null Count    Dtype  \n",
      "---  ------                  --------------    -----  \n",
      " 0   customer_id             1371980 non-null  object \n",
      " 1   FN                      476930 non-null   float64\n",
      " 2   Active                  464404 non-null   float64\n",
      " 3   club_member_status      1365918 non-null  object \n",
      " 4   fashion_news_frequency  1355971 non-null  object \n",
      " 5   age                     1356119 non-null  float64\n",
      " 6   postal_code             1371980 non-null  object \n",
      "dtypes: float64(3), object(4)\n",
      "memory usage: 73.3+ MB\n"
     ]
    }
   ],
   "source": [
    "customers_df.info()"
   ]
  },
  {
   "cell_type": "code",
   "execution_count": 58,
   "id": "951bdd51-1142-4f09-89a7-4b39c7683ab1",
   "metadata": {},
   "outputs": [
    {
     "data": {
      "text/html": [
       "<div>\n",
       "<style scoped>\n",
       "    .dataframe tbody tr th:only-of-type {\n",
       "        vertical-align: middle;\n",
       "    }\n",
       "\n",
       "    .dataframe tbody tr th {\n",
       "        vertical-align: top;\n",
       "    }\n",
       "\n",
       "    .dataframe thead th {\n",
       "        text-align: right;\n",
       "    }\n",
       "</style>\n",
       "<table border=\"1\" class=\"dataframe\">\n",
       "  <thead>\n",
       "    <tr style=\"text-align: right;\">\n",
       "      <th></th>\n",
       "      <th>FN</th>\n",
       "      <th>Active</th>\n",
       "      <th>age</th>\n",
       "    </tr>\n",
       "  </thead>\n",
       "  <tbody>\n",
       "    <tr>\n",
       "      <th>count</th>\n",
       "      <td>476930.0</td>\n",
       "      <td>464404.0</td>\n",
       "      <td>1.356119e+06</td>\n",
       "    </tr>\n",
       "    <tr>\n",
       "      <th>mean</th>\n",
       "      <td>1.0</td>\n",
       "      <td>1.0</td>\n",
       "      <td>3.638696e+01</td>\n",
       "    </tr>\n",
       "    <tr>\n",
       "      <th>std</th>\n",
       "      <td>0.0</td>\n",
       "      <td>0.0</td>\n",
       "      <td>1.431363e+01</td>\n",
       "    </tr>\n",
       "    <tr>\n",
       "      <th>min</th>\n",
       "      <td>1.0</td>\n",
       "      <td>1.0</td>\n",
       "      <td>1.600000e+01</td>\n",
       "    </tr>\n",
       "    <tr>\n",
       "      <th>25%</th>\n",
       "      <td>1.0</td>\n",
       "      <td>1.0</td>\n",
       "      <td>2.400000e+01</td>\n",
       "    </tr>\n",
       "    <tr>\n",
       "      <th>50%</th>\n",
       "      <td>1.0</td>\n",
       "      <td>1.0</td>\n",
       "      <td>3.200000e+01</td>\n",
       "    </tr>\n",
       "    <tr>\n",
       "      <th>75%</th>\n",
       "      <td>1.0</td>\n",
       "      <td>1.0</td>\n",
       "      <td>4.900000e+01</td>\n",
       "    </tr>\n",
       "    <tr>\n",
       "      <th>max</th>\n",
       "      <td>1.0</td>\n",
       "      <td>1.0</td>\n",
       "      <td>9.900000e+01</td>\n",
       "    </tr>\n",
       "  </tbody>\n",
       "</table>\n",
       "</div>"
      ],
      "text/plain": [
       "             FN    Active           age\n",
       "count  476930.0  464404.0  1.356119e+06\n",
       "mean        1.0       1.0  3.638696e+01\n",
       "std         0.0       0.0  1.431363e+01\n",
       "min         1.0       1.0  1.600000e+01\n",
       "25%         1.0       1.0  2.400000e+01\n",
       "50%         1.0       1.0  3.200000e+01\n",
       "75%         1.0       1.0  4.900000e+01\n",
       "max         1.0       1.0  9.900000e+01"
      ]
     },
     "execution_count": 58,
     "metadata": {},
     "output_type": "execute_result"
    }
   ],
   "source": [
    "customers_df.describe()"
   ]
  },
  {
   "cell_type": "code",
   "execution_count": 72,
   "id": "b89c8539-62ac-4c9c-81e6-af0204bdf0bd",
   "metadata": {},
   "outputs": [
    {
     "data": {
      "image/png": "[encoded data removed]",
      "text/plain": [
       "<Figure size 640x480 with 1 Axes>"
      ]
     },
     "metadata": {},
     "output_type": "display_data"
    }
   ],
   "source": [
    "plt.figure()\n",
    "sns.histplot(data=customers_df['age'], binwidth = 5, kde=True)\n",
    "plt.title('Age Distribution')\n",
    "plt.show()"
   ]
  },
  {
   "cell_type": "code",
   "execution_count": 83,
   "id": "3546dd92-423b-480d-8f9c-24b46671b835",
   "metadata": {},
   "outputs": [
    {
     "data": {
      "image/png": "[encoded data removed]",
      "text/plain": [
       "<Figure size 1000x600 with 1 Axes>"
      ]
     },
     "metadata": {},
     "output_type": "display_data"
    }
   ],
   "source": [
    "# Create age bins\n",
    "age_bins = [16, 21, 26, 31, 36, 41, 46, 51, 56, 61, 71, 100]\n",
    "age_labels = [\n",
    "    '16-20', '21-25', '26-30', '31-35', '36-40', '41-45',\n",
    "    '46-50', '51-55', '56-60', '61-70', '71+']\n",
    "\n",
    "customers_df['age_group'] = pd.cut(customers_df['age'], bins=age_bins, labels=age_labels)\n",
    "\n",
    "# Count plot for club_member_status by age group\n",
    "plt.figure(figsize=(10, 6))\n",
    "sns.countplot(data=customers_df, x='age_group', hue='club_member_status')\n",
    "plt.title(\"Club Member Status by Age Group\")\n",
    "plt.show()\n"
   ]
  },
  {
   "cell_type": "markdown",
   "id": "0e1a3dcd-4dd1-4497-9639-b1fec1668707",
   "metadata": {},
   "source": [
    "### Transactions DataFrame EDA"
   ]
  },
  {
   "cell_type": "code",
   "execution_count": 73,
   "id": "804cbd29-514b-4a67-9cdf-4d06555e32ef",
   "metadata": {},
   "outputs": [
    {
     "name": "stdout",
     "output_type": "stream",
     "text": [
      "There are 31788324 rows and 5 columns in our transactions dataframe.\n",
      " \n"
     ]
    }
   ],
   "source": [
    "print(f\"There are {transactions_df.shape[0]} rows and {transactions_df.shape[1]} columns in our transactions dataframe.\\n \")"
   ]
  },
  {
   "cell_type": "code",
   "execution_count": 74,
   "id": "2412d3ad-c5a8-41ec-92da-954073808870",
   "metadata": {},
   "outputs": [
    {
     "data": {
      "text/html": [
       "<div>\n",
       "<style scoped>\n",
       "    .dataframe tbody tr th:only-of-type {\n",
       "        vertical-align: middle;\n",
       "    }\n",
       "\n",
       "    .dataframe tbody tr th {\n",
       "        vertical-align: top;\n",
       "    }\n",
       "\n",
       "    .dataframe thead th {\n",
       "        text-align: right;\n",
       "    }\n",
       "</style>\n",
       "<table border=\"1\" class=\"dataframe\">\n",
       "  <thead>\n",
       "    <tr style=\"text-align: right;\">\n",
       "      <th></th>\n",
       "      <th>t_dat</th>\n",
       "      <th>customer_id</th>\n",
       "      <th>article_id</th>\n",
       "      <th>price</th>\n",
       "      <th>sales_channel_id</th>\n",
       "    </tr>\n",
       "  </thead>\n",
       "  <tbody>\n",
       "    <tr>\n",
       "      <th>0</th>\n",
       "      <td>2018-09-20</td>\n",
       "      <td>000058a12d5b43e67d225668fa1f8d618c13dc232df0ca...</td>\n",
       "      <td>663713001</td>\n",
       "      <td>0.050831</td>\n",
       "      <td>2</td>\n",
       "    </tr>\n",
       "    <tr>\n",
       "      <th>1</th>\n",
       "      <td>2018-09-20</td>\n",
       "      <td>000058a12d5b43e67d225668fa1f8d618c13dc232df0ca...</td>\n",
       "      <td>541518023</td>\n",
       "      <td>0.030492</td>\n",
       "      <td>2</td>\n",
       "    </tr>\n",
       "  </tbody>\n",
       "</table>\n",
       "</div>"
      ],
      "text/plain": [
       "       t_dat                                        customer_id  article_id  \\\n",
       "0 2018-09-20  000058a12d5b43e67d225668fa1f8d618c13dc232df0ca...   663713001   \n",
       "1 2018-09-20  000058a12d5b43e67d225668fa1f8d618c13dc232df0ca...   541518023   \n",
       "\n",
       "      price  sales_channel_id  \n",
       "0  0.050831                 2  \n",
       "1  0.030492                 2  "
      ]
     },
     "execution_count": 74,
     "metadata": {},
     "output_type": "execute_result"
    }
   ],
   "source": [
    "transactions_df.head(2)"
   ]
  },
  {
   "cell_type": "code",
   "execution_count": 75,
   "id": "15ad61fc-94ed-47d6-a701-6601456ea3f5",
   "metadata": {},
   "outputs": [
    {
     "name": "stdout",
     "output_type": "stream",
     "text": [
      "<class 'pandas.core.frame.DataFrame'>\n",
      "RangeIndex: 31788324 entries, 0 to 31788323\n",
      "Data columns (total 5 columns):\n",
      " #   Column            Dtype         \n",
      "---  ------            -----         \n",
      " 0   t_dat             datetime64[ns]\n",
      " 1   customer_id       object        \n",
      " 2   article_id        int64         \n",
      " 3   price             float64       \n",
      " 4   sales_channel_id  int64         \n",
      "dtypes: datetime64[ns](1), float64(1), int64(2), object(1)\n",
      "memory usage: 1.2+ GB\n"
     ]
    }
   ],
   "source": [
    "transactions_df.info()"
   ]
  },
  {
   "cell_type": "code",
   "execution_count": 84,
   "id": "cfabd786-f7b4-437a-91a7-2c4bfffc9df3",
   "metadata": {},
   "outputs": [
    {
     "data": {
      "text/html": [
       "<div>\n",
       "<style scoped>\n",
       "    .dataframe tbody tr th:only-of-type {\n",
       "        vertical-align: middle;\n",
       "    }\n",
       "\n",
       "    .dataframe tbody tr th {\n",
       "        vertical-align: top;\n",
       "    }\n",
       "\n",
       "    .dataframe thead th {\n",
       "        text-align: right;\n",
       "    }\n",
       "</style>\n",
       "<table border=\"1\" class=\"dataframe\">\n",
       "  <thead>\n",
       "    <tr style=\"text-align: right;\">\n",
       "      <th></th>\n",
       "      <th>article_id</th>\n",
       "      <th>price</th>\n",
       "      <th>sales_channel_id</th>\n",
       "    </tr>\n",
       "  </thead>\n",
       "  <tbody>\n",
       "    <tr>\n",
       "      <th>count</th>\n",
       "      <td>3.178832e+07</td>\n",
       "      <td>3.178832e+07</td>\n",
       "      <td>3.178832e+07</td>\n",
       "    </tr>\n",
       "    <tr>\n",
       "      <th>mean</th>\n",
       "      <td>6.962272e+08</td>\n",
       "      <td>2.782927e-02</td>\n",
       "      <td>1.704028e+00</td>\n",
       "    </tr>\n",
       "    <tr>\n",
       "      <th>std</th>\n",
       "      <td>1.334480e+08</td>\n",
       "      <td>1.918113e-02</td>\n",
       "      <td>4.564786e-01</td>\n",
       "    </tr>\n",
       "    <tr>\n",
       "      <th>min</th>\n",
       "      <td>1.087750e+08</td>\n",
       "      <td>1.694915e-05</td>\n",
       "      <td>1.000000e+00</td>\n",
       "    </tr>\n",
       "    <tr>\n",
       "      <th>25%</th>\n",
       "      <td>6.328030e+08</td>\n",
       "      <td>1.581356e-02</td>\n",
       "      <td>1.000000e+00</td>\n",
       "    </tr>\n",
       "    <tr>\n",
       "      <th>50%</th>\n",
       "      <td>7.145820e+08</td>\n",
       "      <td>2.540678e-02</td>\n",
       "      <td>2.000000e+00</td>\n",
       "    </tr>\n",
       "    <tr>\n",
       "      <th>75%</th>\n",
       "      <td>7.865240e+08</td>\n",
       "      <td>3.388136e-02</td>\n",
       "      <td>2.000000e+00</td>\n",
       "    </tr>\n",
       "    <tr>\n",
       "      <th>max</th>\n",
       "      <td>9.562170e+08</td>\n",
       "      <td>5.915254e-01</td>\n",
       "      <td>2.000000e+00</td>\n",
       "    </tr>\n",
       "  </tbody>\n",
       "</table>\n",
       "</div>"
      ],
      "text/plain": [
       "         article_id         price  sales_channel_id\n",
       "count  3.178832e+07  3.178832e+07      3.178832e+07\n",
       "mean   6.962272e+08  2.782927e-02      1.704028e+00\n",
       "std    1.334480e+08  1.918113e-02      4.564786e-01\n",
       "min    1.087750e+08  1.694915e-05      1.000000e+00\n",
       "25%    6.328030e+08  1.581356e-02      1.000000e+00\n",
       "50%    7.145820e+08  2.540678e-02      2.000000e+00\n",
       "75%    7.865240e+08  3.388136e-02      2.000000e+00\n",
       "max    9.562170e+08  5.915254e-01      2.000000e+00"
      ]
     },
     "execution_count": 84,
     "metadata": {},
     "output_type": "execute_result"
    }
   ],
   "source": [
    "transactions_df.describe()"
   ]
  },
  {
   "cell_type": "markdown",
   "id": "5ecccfb6-0c1d-4b3d-8fe6-662d3bc75809",
   "metadata": {},
   "source": [
    "The price column in the transactions dataset appears to be normalized or scaled already. Here's why:\n",
    "\n",
    "The prices range from ~0.000016 to ~0.59, which is much smaller than actual currency values you would expect in a retail dataset.\n",
    "\n",
    "This likely indicates that:\n",
    "\n",
    "    1- The prices were scaled down (e.g., divided by 100 or 1000) by H&M before sharing.\n",
    "\n",
    "    2- The prices are represented as proportional values, possibly for privacy or uniformity reasons.\n",
    "\n",
    "Because of this pre-scaling, we do not need to apply additional normalization or standardization at this stage. These values are ready to be used as input features directly for EDA, feature engineering, or modeling (e.g., as input to recommenders).\n",
    "\n"
   ]
  },
  {
   "cell_type": "markdown",
   "id": "9689ad63-5ad4-4669-8251-d050d549a2b7",
   "metadata": {},
   "source": [
    "### Articles DataFrame EDA"
   ]
  },
  {
   "cell_type": "code",
   "execution_count": 85,
   "id": "3955e642-cbd9-41e6-a0e2-2abd61fbc3d4",
   "metadata": {},
   "outputs": [
    {
     "name": "stdout",
     "output_type": "stream",
     "text": [
      "There are 105126 rows and 25 columns in our articles dataframe.\n",
      " \n"
     ]
    }
   ],
   "source": [
    "print(f\"There are {articles_df.shape[0]} rows and {articles_df.shape[1]} columns in our articles dataframe.\\n \")"
   ]
  },
  {
   "cell_type": "code",
   "execution_count": 39,
   "id": "211acaea-d706-4e24-889d-d260c03f633a",
   "metadata": {},
   "outputs": [
    {
     "data": {
      "text/html": [
       "<div>\n",
       "<style scoped>\n",
       "    .dataframe tbody tr th:only-of-type {\n",
       "        vertical-align: middle;\n",
       "    }\n",
       "\n",
       "    .dataframe tbody tr th {\n",
       "        vertical-align: top;\n",
       "    }\n",
       "\n",
       "    .dataframe thead th {\n",
       "        text-align: right;\n",
       "    }\n",
       "</style>\n",
       "<table border=\"1\" class=\"dataframe\">\n",
       "  <thead>\n",
       "    <tr style=\"text-align: right;\">\n",
       "      <th></th>\n",
       "      <th>article_id</th>\n",
       "      <th>product_code</th>\n",
       "      <th>prod_name</th>\n",
       "      <th>product_type_no</th>\n",
       "      <th>product_type_name</th>\n",
       "      <th>product_group_name</th>\n",
       "      <th>graphical_appearance_no</th>\n",
       "      <th>graphical_appearance_name</th>\n",
       "      <th>colour_group_code</th>\n",
       "      <th>colour_group_name</th>\n",
       "      <th>...</th>\n",
       "      <th>department_name</th>\n",
       "      <th>index_code</th>\n",
       "      <th>index_name</th>\n",
       "      <th>index_group_no</th>\n",
       "      <th>index_group_name</th>\n",
       "      <th>section_no</th>\n",
       "      <th>section_name</th>\n",
       "      <th>garment_group_no</th>\n",
       "      <th>garment_group_name</th>\n",
       "      <th>detail_desc</th>\n",
       "    </tr>\n",
       "  </thead>\n",
       "  <tbody>\n",
       "    <tr>\n",
       "      <th>0</th>\n",
       "      <td>108775015</td>\n",
       "      <td>108775</td>\n",
       "      <td>Strap top</td>\n",
       "      <td>253</td>\n",
       "      <td>Vest top</td>\n",
       "      <td>Garment Upper body</td>\n",
       "      <td>1010016</td>\n",
       "      <td>Solid</td>\n",
       "      <td>9</td>\n",
       "      <td>Black</td>\n",
       "      <td>...</td>\n",
       "      <td>Jersey Basic</td>\n",
       "      <td>A</td>\n",
       "      <td>Ladieswear</td>\n",
       "      <td>1</td>\n",
       "      <td>Ladieswear</td>\n",
       "      <td>16</td>\n",
       "      <td>Womens Everyday Basics</td>\n",
       "      <td>1002</td>\n",
       "      <td>Jersey Basic</td>\n",
       "      <td>Jersey top with narrow shoulder straps.</td>\n",
       "    </tr>\n",
       "    <tr>\n",
       "      <th>1</th>\n",
       "      <td>108775044</td>\n",
       "      <td>108775</td>\n",
       "      <td>Strap top</td>\n",
       "      <td>253</td>\n",
       "      <td>Vest top</td>\n",
       "      <td>Garment Upper body</td>\n",
       "      <td>1010016</td>\n",
       "      <td>Solid</td>\n",
       "      <td>10</td>\n",
       "      <td>White</td>\n",
       "      <td>...</td>\n",
       "      <td>Jersey Basic</td>\n",
       "      <td>A</td>\n",
       "      <td>Ladieswear</td>\n",
       "      <td>1</td>\n",
       "      <td>Ladieswear</td>\n",
       "      <td>16</td>\n",
       "      <td>Womens Everyday Basics</td>\n",
       "      <td>1002</td>\n",
       "      <td>Jersey Basic</td>\n",
       "      <td>Jersey top with narrow shoulder straps.</td>\n",
       "    </tr>\n",
       "  </tbody>\n",
       "</table>\n",
       "<p>2 rows × 25 columns</p>\n",
       "</div>"
      ],
      "text/plain": [
       "   article_id  product_code  prod_name  product_type_no product_type_name  \\\n",
       "0   108775015        108775  Strap top              253          Vest top   \n",
       "1   108775044        108775  Strap top              253          Vest top   \n",
       "\n",
       "   product_group_name  graphical_appearance_no graphical_appearance_name  \\\n",
       "0  Garment Upper body                  1010016                     Solid   \n",
       "1  Garment Upper body                  1010016                     Solid   \n",
       "\n",
       "   colour_group_code colour_group_name  ...  department_name index_code  \\\n",
       "0                  9             Black  ...     Jersey Basic          A   \n",
       "1                 10             White  ...     Jersey Basic          A   \n",
       "\n",
       "   index_name index_group_no  index_group_name section_no  \\\n",
       "0  Ladieswear              1        Ladieswear         16   \n",
       "1  Ladieswear              1        Ladieswear         16   \n",
       "\n",
       "             section_name garment_group_no  garment_group_name  \\\n",
       "0  Womens Everyday Basics             1002        Jersey Basic   \n",
       "1  Womens Everyday Basics             1002        Jersey Basic   \n",
       "\n",
       "                               detail_desc  \n",
       "0  Jersey top with narrow shoulder straps.  \n",
       "1  Jersey top with narrow shoulder straps.  \n",
       "\n",
       "[2 rows x 25 columns]"
      ]
     },
     "execution_count": 39,
     "metadata": {},
     "output_type": "execute_result"
    }
   ],
   "source": [
    "articles_df.head(2)"
   ]
  },
  {
   "cell_type": "code",
   "execution_count": 40,
   "id": "b0000d69-df2b-4cca-9e9d-6778bc38340a",
   "metadata": {},
   "outputs": [
    {
     "name": "stdout",
     "output_type": "stream",
     "text": [
      "<class 'pandas.core.frame.DataFrame'>\n",
      "RangeIndex: 105126 entries, 0 to 105125\n",
      "Data columns (total 25 columns):\n",
      " #   Column                        Non-Null Count   Dtype \n",
      "---  ------                        --------------   ----- \n",
      " 0   article_id                    105126 non-null  int64 \n",
      " 1   product_code                  105126 non-null  int64 \n",
      " 2   prod_name                     105126 non-null  object\n",
      " 3   product_type_no               105126 non-null  int64 \n",
      " 4   product_type_name             105126 non-null  object\n",
      " 5   product_group_name            105126 non-null  object\n",
      " 6   graphical_appearance_no       105126 non-null  int64 \n",
      " 7   graphical_appearance_name     105126 non-null  object\n",
      " 8   colour_group_code             105126 non-null  int64 \n",
      " 9   colour_group_name             105126 non-null  object\n",
      " 10  perceived_colour_value_id     105126 non-null  int64 \n",
      " 11  perceived_colour_value_name   105126 non-null  object\n",
      " 12  perceived_colour_master_id    105126 non-null  int64 \n",
      " 13  perceived_colour_master_name  105126 non-null  object\n",
      " 14  department_no                 105126 non-null  int64 \n",
      " 15  department_name               105126 non-null  object\n",
      " 16  index_code                    105126 non-null  object\n",
      " 17  index_name                    105126 non-null  object\n",
      " 18  index_group_no                105126 non-null  int64 \n",
      " 19  index_group_name              105126 non-null  object\n",
      " 20  section_no                    105126 non-null  int64 \n",
      " 21  section_name                  105126 non-null  object\n",
      " 22  garment_group_no              105126 non-null  int64 \n",
      " 23  garment_group_name            105126 non-null  object\n",
      " 24  detail_desc                   105126 non-null  object\n",
      "dtypes: int64(11), object(14)\n",
      "memory usage: 20.1+ MB\n"
     ]
    }
   ],
   "source": [
    "articles_df.info()\n"
   ]
  },
  {
   "cell_type": "code",
   "execution_count": 109,
   "id": "2995199e-701b-439d-aa1c-283d3842ef30",
   "metadata": {},
   "outputs": [
    {
     "name": "stdout",
     "output_type": "stream",
     "text": [
      "<class 'pandas.core.series.Series'>\n",
      "Index: 15 entries, Garment Upper body to Furniture\n",
      "Series name: product_group_name\n",
      "Non-Null Count  Dtype\n",
      "--------------  -----\n",
      "15 non-null     int64\n",
      "dtypes: int64(1)\n",
      "memory usage: 240.0+ bytes\n"
     ]
    }
   ],
   "source": [
    "product_group_counts = articles_df['product_group_name'].value_counts()\n",
    "product_group_counts"
   ]
  },
  {
   "cell_type": "code",
   "execution_count": 114,
   "id": "1f104664-6461-4573-acef-7767e6f9a757",
   "metadata": {},
   "outputs": [
    {
     "data": {
      "text/plain": [
       "Garment Upper body     42593\n",
       "Garment Lower body     19763\n",
       "Garment Full body      13245\n",
       "Accessories            11141\n",
       "Underwear               5449\n",
       "Shoes                   5196\n",
       "Swimwear                3104\n",
       "Socks & Tights          2438\n",
       "Nightwear               1899\n",
       "Unknown                  121\n",
       "Underwear/nightwear       54\n",
       "Cosmetic                  49\n",
       "Bags                      25\n",
       "Items                     17\n",
       "Furniture                 13\n",
       "Name: product_group_name, dtype: int64"
      ]
     },
     "execution_count": 114,
     "metadata": {},
     "output_type": "execute_result"
    }
   ],
   "source": [
    "selected_product_group = product_group_counts[product_group_counts > 10].index\n",
    "selected_product_group\n",
    "articles_df = articles_df[articles_df[\"product_group_name\"].isin(selected_product_group)]\n",
    "articles_df[\"product_group_name\"].value_counts()"
   ]
  },
  {
   "cell_type": "markdown",
   "id": "f5da68a3-e94c-441a-8ae9-80fb30071e5f",
   "metadata": {},
   "source": [
    "We analyzed the distribution of product_group_name in the articles dataset. Some categories had fewer than 10 items (\"Fun\", \"Stationery\", \"Interior textile\" and \"Garment and Shoe care \"), which are either out of scope for a fashion recommender or too rare to extract meaningful patterns. To reduce noise and improve model quality, we removed these rare product groups."
   ]
  },
  {
   "cell_type": "code",
   "execution_count": 188,
   "id": "3eaf7368-adbe-4b0e-9d7d-7d2b32974619",
   "metadata": {},
   "outputs": [
    {
     "data": {
      "image/png": "[encoded data removed]",
      "text/plain": [
       "<Figure size 640x480 with 1 Axes>"
      ]
     },
     "metadata": {},
     "output_type": "display_data"
    }
   ],
   "source": [
    "index_group_name_counts = articles_df['index_group_name'].value_counts()\n",
    "\n",
    "plt.figure()\n",
    "sns.barplot(x=index_group_name_counts, y=index_group_name_counts.index)\n",
    "\n",
    "plt.xticks(rotation=45)\n",
    "plt.xlabel(\"Counts\")\n",
    "plt.ylabel(\"Index Group\")\n",
    "plt.title(\"Index Groups\")\n",
    "\n",
    "plt.show()"
   ]
  },
  {
   "cell_type": "code",
   "execution_count": 124,
   "id": "6d968a74-7e18-42d0-ae2b-a5ec758ccced",
   "metadata": {},
   "outputs": [
    {
     "data": {
      "text/plain": [
       "Backpack                  6\n",
       "Straw hat                 6\n",
       "Sleep Bag                 6\n",
       "Alice band                6\n",
       "Cross-body bag            5\n",
       "Mobile case               4\n",
       "Moccasins                 4\n",
       "Chem. cosmetics           3\n",
       "Baby Bib                  3\n",
       "Braces                    3\n",
       "Tote bag                  2\n",
       "Eyeglasses                2\n",
       "Wireless earphone case    2\n",
       "Hairband                  2\n",
       "Shoulder bag              2\n",
       "Headband                  1\n",
       "Pre-walkers               1\n",
       "Bumbag                    1\n",
       "Bra extender              1\n",
       "Keychain                  1\n",
       "Name: product_type_name, dtype: int64"
      ]
     },
     "execution_count": 124,
     "metadata": {},
     "output_type": "execute_result"
    }
   ],
   "source": [
    "articles_df[\"product_type_name\"].value_counts().tail(20)"
   ]
  },
  {
   "cell_type": "code",
   "execution_count": 51,
   "id": "45c966d8-0af5-4d53-be9d-84e4ca4197df",
   "metadata": {},
   "outputs": [
    {
     "data": {
      "image/png": "[encoded data removed]",
      "text/plain": [
       "<Figure size 1000x600 with 1 Axes>"
      ]
     },
     "metadata": {},
     "output_type": "display_data"
    }
   ],
   "source": [
    "top_10_products = articles_df['product_type_name'].value_counts().head(10)\n",
    "\n",
    "\n",
    "plt.figure(figsize=(10,6))\n",
    "sns.barplot(x=top_10_products.values, y=top_10_products.index)\n",
    "\n",
    "# plt.xticks(rotation=90)\n",
    "plt.xlabel(\"Product counts\")\n",
    "plt.ylabel(\"Product Types\")\n",
    "plt.title(\"Top 10 Proucts\")\n",
    "plt.show()"
   ]
  },
  {
   "cell_type": "markdown",
   "id": "77ce35cd-df2d-49af-b7b8-17fa24990bad",
   "metadata": {},
   "source": [
    "We examined the most common product types in the dataset. The top 10 most frequent items include essential wardrobe staples such as trousers, dresses, sweaters, and T-shirts. These categories dominate the dataset, with trousers being the most represented, followed by dresses and sweaters.\n",
    "\n",
    "This distribution suggests that H&M’s product offerings are heavily focused on casual and core apparel, which may influence customer purchase behavior and should be considered in the recommendation logic.\n",
    "\n",
    "<!-- Since these product types are well-represented, they provide a solid foundation for both collaborative filtering models (due to their frequency) and content-based approaches (with ample data to extract features from descriptions, prices, or style details). -->"
   ]
  },
  {
   "cell_type": "code",
   "execution_count": 128,
   "id": "67c729ca-60b4-4d9b-8947-f1030a7cd88e",
   "metadata": {},
   "outputs": [
    {
     "data": {
      "text/plain": [
       "T-shirt in printed cotton jersey.                                                      159\n",
       "Leggings in soft organic cotton jersey with an elasticated waist.                      138\n",
       "T-shirt in soft, printed cotton jersey.                                                137\n",
       "Socks in a soft, jacquard-knit cotton blend with elasticated tops.                     136\n",
       "Fine-knit trainer socks in a soft cotton blend with elasticated tops.                  134\n",
       "Socks in a soft, fine-knit cotton blend with elasticated tops.                         118\n",
       "Sunglasses with plastic frames and UV-protective, tinted lenses.                       117\n",
       "Boxer shorts in a cotton weave with an elasticated waist, long legs and button fly.    104\n",
       "Tights in a soft, fine-knit cotton blend with an elasticated waist.                     97\n",
       "Fine-knit socks in a soft cotton blend.                                                 97\n",
       "Name: detail_desc, dtype: int64"
      ]
     },
     "execution_count": 128,
     "metadata": {},
     "output_type": "execute_result"
    }
   ],
   "source": [
    "articles_df['detail_desc'].value_counts().head(10)"
   ]
  },
  {
   "cell_type": "code",
   "execution_count": 145,
   "id": "0db17841-35f3-47e3-ad6c-c8dcb3b2a454",
   "metadata": {},
   "outputs": [
    {
     "name": "stdout",
     "output_type": "stream",
     "text": [
      "Total unique description: 43391\n",
      "1,Pile-lined jacket in imitation suede with a pile-lined stand-up collar with a fastening. Zip down the front and open front pockets.\n",
      "\n",
      "2,Jacket in Tencel™ lyocell twill with rounded lapels, a drawstring at the waist, a concealed press-stud fastening at the front and long sleeves. Unlined.\n",
      "\n",
      "3,Fitted vest top in ribbed jersey in a narrow cut at the top.\n",
      "\n",
      "4,Short sports tights in fast-drying functional fabric with a wide waistband to hold in and shape the waist. Concealed key pocket in the waistband.\n",
      "\n",
      "5,Top in sweatshirt fabric with a lined drawstring hood, and text print on the front. Long sleeves, a kangaroo pocket, and ribbing at the cuffs and hem. Soft brushed inside.\n",
      "\n",
      "6,5-pocket, high-waisted, ankle-length jeans in washed cotton denim with hard-worn details. Sewn-on belt with metal rings, a zip fly and concealed hook-and-eye fastener, and straight legs.\n",
      "\n",
      "7,Blouse in woven fabric with a small stand-up collar with buttons at the back of the neck, a cut-out section at the back and short trumpet sleeves.\n",
      "\n",
      "8,Long, sleeveless dress in sturdy satin with a deep V-neck and adjustable spaghetti shoulder straps. Concealed zip and hook-and-eye fastener at one side, a seam at the waist and a flared, segmented skirt. Satin lining.\n",
      "\n",
      "9,Thin metal snake chain necklaces with rectangular pendants in metal and plastic. Adjustable length 50-57 cm and 75-82 cm.\n",
      "\n",
      "10,Long, straight-cut shirt jacket in woven fabric with a collar, buttons down the front and a yoke at the back. Flap chest pockets and concealed pockets in the side seams. Dropped shoulders, long, wide sleeves with buttoned cuffs, and a rounded hem. Slightly longer at the back. Lined.\n",
      "\n"
     ]
    }
   ],
   "source": [
    "# Adjust display to show full description text\n",
    "pd.set_option('display.max_colwidth', None)\n",
    "\n",
    "unique_descriptions = articles_df['detail_desc'].unique()\n",
    "\n",
    "print(f\"Total unique description: {len(unique_description)}\")\n",
    "\n",
    "unique_descriptions_series = pd.Series(unique_descriptions)\n",
    "sample_description = unique_descriptions_series.sample(10, random_state=42)\n",
    "for i, desc in enumerate(sample_description, 1):\n",
    "    print(f\"{i},{desc}\\n\")"
   ]
  },
  {
   "cell_type": "markdown",
   "id": "636613db-f0dc-4648-9860-d70eaa822b59",
   "metadata": {},
   "source": [
    "Since our NLP recommender system will rely heavily on product descriptions, it’s important to explore and clean the detail_desc column to ensure high-quality input for embeddings and downstream tasks."
   ]
  },
  {
   "cell_type": "code",
   "execution_count": null,
   "id": "bce2b87b-ca5a-47e4-93ef-6a99969b5a96",
   "metadata": {},
   "outputs": [],
   "source": []
  },
  {
   "cell_type": "code",
   "execution_count": 151,
   "id": "2867f1bc-1a57-478c-ae01-a9114ff91b62",
   "metadata": {},
   "outputs": [
    {
     "data": {
      "text/plain": [
       "count    105107.000000\n",
       "mean        142.137879\n",
       "std          68.059697\n",
       "min          11.000000\n",
       "25%          94.000000\n",
       "50%         132.000000\n",
       "75%         178.000000\n",
       "max         764.000000\n",
       "Name: desc_length, dtype: float64"
      ]
     },
     "execution_count": 151,
     "metadata": {},
     "output_type": "execute_result"
    }
   ],
   "source": [
    "articles_df['desc_length'] = articles_df['detail_desc'].str.len()\n",
    "articles_df['desc_length'].describe()"
   ]
  },
  {
   "cell_type": "markdown",
   "id": "6c127579-9a87-4ece-8622-bc40b5264f75",
   "metadata": {},
   "source": [
    "The average description is about 142 characters long, which is reasonable for capturing useful product information.\n",
    "\n",
    "The shortest description is just 11 characters, and the longest is 764 characters.\n",
    "\n",
    "Most descriptions (50%) are between 94 and 178 characters long.\n",
    "\n",
    "A few descriptions are quite short (under 20), which might lack enough context for semantic comparison."
   ]
  },
  {
   "cell_type": "code",
   "execution_count": 173,
   "id": "ad013d91-920e-46da-8e18-d94e7241b510",
   "metadata": {},
   "outputs": [],
   "source": [
    "# Initialize the stopwords list:\n",
    "\n",
    "stop_words = set(stopwords.words('english'))\n",
    "lemmatizer = WordNetLemmatizer()\n",
    "\n",
    "#Creating custom tokenizer function:\n",
    "\n",
    "def text_cleaner(text):\n",
    "\n",
    "    if not isinstance(text, str):\n",
    "\n",
    "        return \"\"\n",
    "    \n",
    "    # Lowercasing\n",
    "    text = text.lower()\n",
    "\n",
    "    # Removing Numbers\n",
    "    text = re.sub(r'\\d+', '', text)\n",
    "\n",
    "    # Removing punctuation\n",
    "    text = re.sub(f\"[{re.escape(string.punctuation)}]\", \" \", text)\n",
    "     \n",
    "    # Splitting into words\n",
    "    words = text.split()\n",
    "\n",
    "    #\n",
    "    words = [lemmatizer.lemmatize(word, pos='v') for word in words]\n",
    "\n",
    "    # Removing stopwords\n",
    "    words = [word for word in words if word not in stop_words and word]\n",
    "\n",
    "    # Reconstructing the sentence\n",
    "    cleaned_text = ' '.join(words)\n",
    "\n",
    "    return cleaned_text\n",
    "\n"
   ]
  },
  {
   "cell_type": "code",
   "execution_count": 189,
   "id": "2b51832c-3ab7-4b4e-91b4-c4abc0ec2e08",
   "metadata": {},
   "outputs": [],
   "source": [
    "# Apply to dataset\n",
    "articles_df['preprocessed_desc'] = articles_df['detail_desc'].apply(text_cleaner)\n"
   ]
  },
  {
   "cell_type": "code",
   "execution_count": 219,
   "id": "6bdf0dba-8218-4349-b3d2-317f051e6492",
   "metadata": {},
   "outputs": [],
   "source": [
    "from collections import Counter\n",
    "from wordcloud import WordCloud\n",
    "\n",
    "def plot_top_words(group_desc, title):\n",
    "    word_counter = Counter()\n",
    "    \n",
    "\n",
    "    for desc in group_desc:\n",
    "        word_counter.update(desc.split())\n",
    "\n",
    "    most_common_words = word_counter.most_common(10)\n",
    "\n",
    "    words = [word for word, count in most_common_words]\n",
    "    counts = [count for word, count in most_common_words]\n",
    "\n",
    "    plt.figure()\n",
    "    sns.barplot(x=words, y=counts)\n",
    "    plt.xticks(rotation=45)\n",
    "    plt.xlabel(\"Most Common Words\")\n",
    "    plt.ylabel(\"Counts\")\n",
    "    plt.title(f\"Most Common Words in {title}'s Descriptions \\n\")\n",
    "    plt.show()\n",
    "\n",
    "    # all_text = \" \".join(group_desc)\n",
    "    # wordcloud = WordCloud(width=800, height=400).generate(all_text)\n",
    "\n",
    "    # plt.figure()\n",
    "    # plt.imshow(wordcloud, interpolation='bilinear')\n",
    "    # plt.axis(\"off\")\n",
    "    # plt.title(f\"Word Cloud for {title}\")\n",
    "    # plt.show()\n",
    "    "
   ]
  },
  {
   "cell_type": "code",
   "execution_count": 220,
   "id": "9f6712ed-bd80-417a-b246-d0d40f57fa60",
   "metadata": {},
   "outputs": [
    {
     "data": {
      "image/png": "[encoded data removed]",
      "text/plain": [
       "<Figure size 640x480 with 1 Axes>"
      ]
     },
     "metadata": {},
     "output_type": "display_data"
    },
    {
     "data": {
      "image/png": "[encoded data removed]",
      "text/plain": [
       "<Figure size 640x480 with 1 Axes>"
      ]
     },
     "metadata": {},
     "output_type": "display_data"
    },
    {
     "data": {
      "image/png": "[encoded data removed]",
      "text/plain": [
       "<Figure size 640x480 with 1 Axes>"
      ]
     },
     "metadata": {},
     "output_type": "display_data"
    },
    {
     "data": {
      "image/png": "[encoded data removed]",
      "text/plain": [
       "<Figure size 640x480 with 1 Axes>"
      ]
     },
     "metadata": {},
     "output_type": "display_data"
    },
    {
     "data": {
      "image/png": "[encoded data removed]",
      "text/plain": [
       "<Figure size 640x480 with 1 Axes>"
      ]
     },
     "metadata": {},
     "output_type": "display_data"
    }
   ],
   "source": [
    "index_groups = articles_df['index_group_name'].unique()\n",
    "\n",
    "for each_index in index_groups:\n",
    "    group_desc = articles_df[articles_df['index_group_name'] == each_index]['preprocessed_desc']\n",
    "\n",
    "    plot_top_words(group_desc, each_index)\n",
    "    "
   ]
  },
  {
   "cell_type": "code",
   "execution_count": null,
   "id": "bc5e3b0e-941c-4ac0-948d-816b69e1246d",
   "metadata": {},
   "outputs": [],
   "source": []
  },
  {
   "cell_type": "code",
   "execution_count": null,
   "id": "d4e96999-be68-44ce-90f5-68110c4885da",
   "metadata": {},
   "outputs": [],
   "source": []
  }
 ],
 "metadata": {
  "kernelspec": {
   "display_name": "Python [conda env:base] *",
   "language": "python",
   "name": "conda-base-py"
  },
  "language_info": {
   "codemirror_mode": {
    "name": "ipython",
    "version": 3
   },
   "file_extension": ".py",
   "mimetype": "text/x-python",
   "name": "python",
   "nbconvert_exporter": "python",
   "pygments_lexer": "ipython3",
   "version": "3.11.5"
  }
 },
 "nbformat": 4,
 "nbformat_minor": 5
}
